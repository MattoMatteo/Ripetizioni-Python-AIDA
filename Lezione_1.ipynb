{
 "cells": [
  {
   "cell_type": "markdown",
   "id": "095ae2e4",
   "metadata": {},
   "source": [
    "# 🐍 Introduzione a Python e Ambiente di Sviluppo\n",
    "\n",
    "---\n",
    "\n",
    "## 1️⃣ Cos'è un interprete Python e perché ci serve\n",
    "\n",
    "Python è un **linguaggio di programmazione interpretato**, ad alto livello, molto leggibile e utilizzato in numerosi ambiti: analisi dati, sviluppo web, automazione, intelligenza artificiale, ecc.\n",
    "\n",
    "Un **interprete** è un programma che:\n",
    "- Legge il codice sorgente (es. `script.py`)\n",
    "- Lo **traduce ed esegue direttamente** riga per riga, senza generare un file eseguibile intermedio\n",
    "\n",
    "> ✅ In pratica: l’interprete permette di eseguire subito il codice, rendendo più semplice testarlo e modificarlo rapidamente.\n",
    "\n",
    "### 🔧 Installazione di Python\n",
    "\n",
    "1. Vai su: [https://www.python.org/downloads](https://www.python.org/downloads)\n",
    "2. Scarica la versione più recente per il tuo sistema operativo\n",
    "3. Durante l’installazione su Windows: **spunta la casella** ✅ `Add Python to PATH`\n",
    "4. Verifica l’installazione aprendo il terminale e digitando:\n",
    "\n",
    "```bash\n",
    "python --version\n",
    "```\n",
    "\n",
    "## 2️⃣ Cos'è Visual Studio Code\n",
    "Visual Studio Code è uno degli **IDE** (Integrated Development Environment) più utilizzati per scrivere codice.\n",
    "Cosa fa di utile?\n",
    "\n",
    "1. Evidenziazione della sintassi\n",
    "\n",
    "2. Completamento automatico del codice\n",
    "\n",
    "3. Debugger\n",
    "\n",
    "4. Terminale integrato\n",
    "\n",
    "5. TANTE altre cose utili durante la progettazione di software\n",
    "\n",
    "🔧 Installazione di VS Code\n",
    "Vai su: https://code.visualstudio.com\n",
    "\n",
    "Scarica e installa la versione per il tuo sistema\n",
    "\n",
    "Dopo l’installazione, puoi aprire progetti da File → Open Folder\n",
    "\n",
    "## 3️⃣ Installazione di Git per scaricare i progetti da GitHub\n",
    "Git è un sistema di controllo di versione. Serve per scaricare e gestire progetti (repository) da piattaforme come GitHub.\n",
    "\n",
    "⚠️ I professori caricano spesso esercizi e materiali su GitHub. Git ci permette di scaricarli e aggiornarli con un solo comando.\n",
    "\n",
    "🔧 Installazione di Git\n",
    "Vai su: https://git-scm.com/downloads\n",
    "\n",
    "Scarica e installa Git\n",
    "\n",
    "📥 Clonare una repository\n",
    "Apri il terminale e digita:\n",
    "\n",
    "```bash\n",
    "git clone https://github.com/nome-utente/nome-repository.git\n",
    "```\n",
    "Questo creerà una cartella con i file del progetto.\n",
    "\n",
    "💡 In alternativa, puoi anche cliccare su \"Code → Download ZIP\" su GitHub, estrarre il file e aprire la cartella con VS Code (ma Git è più pratico).\n",
    "\n",
    "## 4️⃣ Estensioni utili per Python in VS Code\n",
    "Apri il pannello delle estensioni (icona quadrata a sinistra) e cerca:\n",
    "\n",
    "Python → essenziale per scrivere, eseguire e formattare codice Python\n",
    "\n",
    "Jupyter → per lavorare con i notebook .ipynb\n",
    "\n",
    "Una volta installate:\n",
    "\n",
    "VS Code riconosce automaticamente i file Python\n",
    "\n",
    "Puoi lanciare codice da un file **.py** o aprire direttamente i notebook **.ipynb**.\n",
    "\n",
    "## 5️⃣ Cos'è un ambiente virtuale (venv) e perché usarlo\n",
    "Un ambiente virtuale (venv) è una copia isolata dell'interprete Python che permette di:\n",
    "\n",
    "Installare librerie e pacchetti **solo per un progetto specifico**\n",
    "\n",
    "Evitare conflitti tra versioni diverse di pacchetti tra progetti differenti\n",
    "\n",
    "Tenere l’ambiente di lavoro pulito e organizzato\n",
    "\n",
    "✅ È una buona pratica creare un ambiente virtuale per ogni progetto Python.\n",
    "\n",
    "🔧 Come creare un venv\n",
    "\n",
    "- Versione da terminale:\n",
    "```bash\n",
    "python -m venv venv\n",
    "```\n",
    "- Versione da interfaccia:\n",
    "  - Ctrl + shift + p\n",
    "  - Scrivere: Python e cliccare su: \"Python: Create virtual environment\"\n",
    "  - Selezionare Venv (se cliccate Conda nobani muore)\n",
    "  - Selezionare versione di python da inserire nel vostro ambiente virtuale (dovreste averne solo una da selezionare)\n",
    "\n",
    "Questo crea una sottocartella chiamata **venv** con l’ambiente isolato.\n",
    "All'interno ci finiranno le librerie che installerete e saranno disponibili solo sui file python fatti partire all'interno\n",
    "di questo progetto.\n",
    "\n",
    "Cosa succede se non lo fate?\n",
    "\n",
    "Le librerie che installerete (classico comando pip install ....) verranno installate globalmente sul vostro pc e tutti\n",
    "i progetti potranno utilizzarle. E allora non è meglio? NO! Perché quando si sviluppano dei software è importante installare\n",
    "solo il necessario e le varie versioni delle librerie possono cambiare con il tempo e se un software funziona con una vecchia\n",
    "libreria e voi installate quella aggiornata il programma potrebbe non funzionare più. Tenete conto che alcune librerie\n",
    "hanno delle \"dipendenze\" su altre e cercheranno di installarsele per poter funzionare ma magari gli serve una versione precisa\n",
    "che potrebbe andare a sovrascrivere quella che già avete e si crea un bel casino tra le versioni.\n",
    "**Sempre creare un Venv prima di iniziare un progetto.**\n",
    "\n",
    "\n",
    "💡 Installare pacchetti all'interno del venv\n",
    "Dopo aver attivato l’ambiente, puoi installare pacchetti con pip:\n",
    "\n",
    "```bash\n",
    "pip install numpy pandas matplotlib\n",
    "```\n",
    "Tutto ciò che installi rimane all’interno del venv e non inquina l’ambiente globale di Python."
   ]
  },
  {
   "cell_type": "markdown",
   "id": "18341f24",
   "metadata": {},
   "source": [
    "# Fondamenti\n",
    "---"
   ]
  },
  {
   "cell_type": "markdown",
   "id": "dace7d22",
   "metadata": {},
   "source": [
    "Alcuni termini come: **Funzioni, oggetto, parametro** etc... verranno approfonditi più avanti. Dateli per buoni per ora.\n",
    "Alcune funzioni **built-in** (già presenti in \"python base\") da conoscere:\n",
    "- **print()** -> Esegue una stampa sul <u>terminale</u> dell'<u>oggetto</u> dato come <u>parametro</u>.\n",
    "- **type()** -> <u>Restituisce</u> il tipo dell'<u>oggetto</u> dato come <u> parametro</u> .\n",
    "- **len()** -> <u> Restituisce</u> la lunghezza di un <u> oggetto</u>  dato come <u>parametro</u> ."
   ]
  },
  {
   "cell_type": "markdown",
   "id": "8dc888eb",
   "metadata": {},
   "source": [
    "## Variabili e tipi"
   ]
  },
  {
   "cell_type": "markdown",
   "id": "8ad1001f",
   "metadata": {},
   "source": [
    "Una variabile può contenere un singolo valore alla volta. Si chiamano variabili perché il loro contenuto può venire aggiornato,\n",
    "al contrario delle **costanti** che invece una volta **dichiarate** non possono più mutare (in python si può comunque).\n",
    "\n",
    "<p style=\"color: #666;\">Approfondimento:\n",
    "Python è molto permissivo e consente la modifica anche delle costanti. In pratica si può dire che in python esistono le vere e proprie costanti ma possono essere comunque dichiarate usando caratteri maiuscoli (A = 1) (assumono una colorazione celeste su vs code).\n",
    "Se all'interno di un codice python viene dichiarata una costante, il programmatore che modifica il codice DOVREBBE rispettare la volontà di chi ha scritto il codice di NON trattarla come variabile e quindi di non modificarla più avanti nel codice.\n",
    "In ogni caso le costanti sono poco usate era solo per completezza e contestualizzare la presenza delle variabili</p>"
   ]
  },
  {
   "cell_type": "markdown",
   "id": "205e0f0f",
   "metadata": {},
   "source": [
    "- **Dichiarazione** -> Quando una variabile viene creata.\n",
    "- **Inizializzazione** -> Quando viene assegnato un valore.\n",
    "- **Assegnazione** -> Quando viene modificato il valore successivamente all'inizializzazione\n",
    "E' solo per dare un idea della terminologia corretta. In python Dichiarare una variabile e inizializzarla avviene nello stesso momento, quindi di fatto è come se fosse un unica operazione e l'assegnazione è visibilmente uguale alle precedenti due operazioni:"
   ]
  },
  {
   "cell_type": "code",
   "execution_count": null,
   "id": "a2d819fc",
   "metadata": {},
   "outputs": [],
   "source": [
    "a = 5  #\"Dichiariamo la variabile a e la inizializziamo con il valore 5\"\n",
    "a = 10 #\"Assegnamo il valore 10 alla variabile a\""
   ]
  },
  {
   "cell_type": "markdown",
   "id": "a4a27d14",
   "metadata": {},
   "source": [
    "Python è un linguaggio **debolmente tipato** o **dinamicamente tipato**.\n",
    "Vuol dire che una variabile non viene dichiarata già in partenza con un tipo ben preciso, ma assume un tipo in base\n",
    "al suo contenuto.\n",
    "Per essere più precisi: l'interprete python capisce al volo il tipo della variabile ogni qual volta gli viene assegnato un valore."
   ]
  },
  {
   "cell_type": "code",
   "execution_count": null,
   "id": "7b79d612",
   "metadata": {},
   "outputs": [
    {
     "name": "stdout",
     "output_type": "stream",
     "text": [
      "5\n",
      "5\n",
      "<class 'str'>\n"
     ]
    }
   ],
   "source": [
    "a = 5\n",
    "print(5)\n",
    "print(a)\n",
    "print(type(a))"
   ]
  },
  {
   "cell_type": "markdown",
   "id": "4e1c28da",
   "metadata": {},
   "source": [
    "Tipi di base più importanti:"
   ]
  },
  {
   "cell_type": "code",
   "execution_count": 3,
   "id": "a8e299a0",
   "metadata": {},
   "outputs": [
    {
     "name": "stdout",
     "output_type": "stream",
     "text": [
      "<class 'int'>\n",
      "<class 'str'>\n",
      "<class 'float'>\n",
      "<class 'bool'>\n"
     ]
    }
   ],
   "source": [
    "a = 5 # numero intero, integer (int)\n",
    "b = \"ciao\" # testo, string (str)\n",
    "c = 1.5 # numero con virgola, float (float) \n",
    "d = True # tipo booleano (dettagli in merito in seguito)\n",
    "print(type(a))\n",
    "print(type(b))\n",
    "print(type(c))\n",
    "print(type(d))"
   ]
  },
  {
   "cell_type": "markdown",
   "id": "0c220527",
   "metadata": {},
   "source": [
    "## Operatori di base"
   ]
  },
  {
   "cell_type": "code",
   "execution_count": 5,
   "id": "f653a184",
   "metadata": {},
   "outputs": [
    {
     "name": "stdout",
     "output_type": "stream",
     "text": [
      "15\n"
     ]
    }
   ],
   "source": [
    "a = 5\n",
    "b = 10\n",
    "c = a + b # il valore di c è la somma del contenuto delle variabili a e b\n",
    "print(c)"
   ]
  },
  {
   "cell_type": "code",
   "execution_count": 8,
   "id": "e0676a67",
   "metadata": {},
   "outputs": [
    {
     "name": "stdout",
     "output_type": "stream",
     "text": [
      "Sottrazione:  -5\n",
      "Divisione classica:  0.5\n",
      "Divisione intera:  0\n",
      "Moltiplicazione:  50\n",
      "Elevazione a potenza:  9765625\n"
     ]
    }
   ],
   "source": [
    "c = a - b\n",
    "print(\"Sottrazione: \", c)\n",
    "\n",
    "c = a / b\n",
    "print(\"Divisione classica: \", c)\n",
    "\n",
    "c = a // b\n",
    "print(\"Divisione intera: \", c)\n",
    "\n",
    "c = a * b\n",
    "print(\"Moltiplicazione: \", c)\n",
    "\n",
    "c = a ** b\n",
    "print(\"Elevazione a potenza: \", c)"
   ]
  },
  {
   "cell_type": "markdown",
   "id": "f374c7ba",
   "metadata": {},
   "source": [
    "A seguito di una divisione il tipo risultate può essere diverso da quello di partenza:"
   ]
  },
  {
   "cell_type": "code",
   "execution_count": 9,
   "id": "8b6ebf08",
   "metadata": {},
   "outputs": [
    {
     "name": "stdout",
     "output_type": "stream",
     "text": [
      "<class 'float'>\n"
     ]
    }
   ],
   "source": [
    "c = a / b\n",
    "print(type(c))"
   ]
  },
  {
   "cell_type": "markdown",
   "id": "e84313d2",
   "metadata": {},
   "source": [
    "Da tener conto che se uno dei due operandi è già float, se si effettua la divisione normale il risultato sarà sempre un float anche se il risultato è un \"intero\":"
   ]
  },
  {
   "cell_type": "code",
   "execution_count": 10,
   "id": "68c356d9",
   "metadata": {},
   "outputs": [
    {
     "name": "stdout",
     "output_type": "stream",
     "text": [
      "2.0\n",
      "<class 'float'>\n"
     ]
    }
   ],
   "source": [
    "a = 10.0\n",
    "b = 5\n",
    "c = a / b\n",
    "print(c)\n",
    "print(type(c))\n",
    "\n",
    "#Si può quindi passare da int -> float dopo una divisione ma non da float -> int \"automaticamente\" (serve un cast)"
   ]
  },
  {
   "cell_type": "markdown",
   "id": "924fe662",
   "metadata": {},
   "source": [
    "Operatori non valogono solo per i numeri. Diverse **classi** prevedono il \"proprio\" uso degli operatori.\n",
    "Esempio le stringhe:"
   ]
  },
  {
   "cell_type": "code",
   "execution_count": 11,
   "id": "4bbae0f1",
   "metadata": {},
   "outputs": [
    {
     "name": "stdout",
     "output_type": "stream",
     "text": [
      "ciao come stai\n"
     ]
    }
   ],
   "source": [
    "a = \"ciao\"\n",
    "b = \" come stai\"\n",
    "c = a + b #si definisce: concatenazione di stringhe\n",
    "print(c)"
   ]
  },
  {
   "cell_type": "markdown",
   "id": "36054c07",
   "metadata": {},
   "source": [
    "E alcune classi prevedono anche il proprio utilizzo di alcune funzioni di base built-in, come len():"
   ]
  },
  {
   "cell_type": "code",
   "execution_count": 12,
   "id": "c39b855b",
   "metadata": {},
   "outputs": [
    {
     "name": "stdout",
     "output_type": "stream",
     "text": [
      "14\n"
     ]
    }
   ],
   "source": [
    "a = \"ciao come stai\"\n",
    "print(len(a))\n",
    "\n",
    "#In questo caso la stringa restituisce il numero di caratteri. Un oggetto di una classe diversa avrebbe risposto a modo suo."
   ]
  },
  {
   "cell_type": "markdown",
   "id": "f0efef94",
   "metadata": {},
   "source": [
    "## Booleani e operazioni booleane"
   ]
  },
  {
   "cell_type": "markdown",
   "id": "963ac1d4",
   "metadata": {},
   "source": [
    "Booleani possono assuemere solo 2 valori: True e False. Usati all'interno di operazioni booleane per creare delle **condizioni**"
   ]
  },
  {
   "cell_type": "markdown",
   "id": "480f7aca",
   "metadata": {},
   "source": [
    "**AND, OR e NOT** sono alcuni esempi di operatori booleani.\n",
    "**Un operatore booleano restituisce come risultato un altro booleano.**"
   ]
  },
  {
   "cell_type": "code",
   "execution_count": 13,
   "id": "c6fec729",
   "metadata": {},
   "outputs": [
    {
     "name": "stdout",
     "output_type": "stream",
     "text": [
      "c:  False\n",
      "d:  True\n",
      "e:  False\n"
     ]
    }
   ],
   "source": [
    "a = True\n",
    "b = False\n",
    "\n",
    "c = a and b\n",
    "d = a or b\n",
    "e = not a\n",
    "\n",
    "print(\"c: \", c)\n",
    "print(\"d: \", d)\n",
    "print(\"e: \", e)"
   ]
  },
  {
   "cell_type": "markdown",
   "id": "474b9eab",
   "metadata": {},
   "source": [
    "Ma non sono i soli. Anche **== , > , <** sono operatori booleani."
   ]
  },
  {
   "cell_type": "code",
   "execution_count": 14,
   "id": "7deb9ab6",
   "metadata": {},
   "outputs": [
    {
     "name": "stdout",
     "output_type": "stream",
     "text": [
      "True\n"
     ]
    }
   ],
   "source": [
    "a = 10 > 5 \n",
    "print(a)"
   ]
  },
  {
   "cell_type": "markdown",
   "id": "1757e651",
   "metadata": {},
   "source": [
    "## Casting"
   ]
  },
  {
   "cell_type": "markdown",
   "id": "583fdd68",
   "metadata": {},
   "source": [
    "Il **casting** è un'operazione che serve a cambiare il tipo di una variabile (se possibile)."
   ]
  },
  {
   "cell_type": "code",
   "execution_count": 15,
   "id": "b4139469",
   "metadata": {},
   "outputs": [
    {
     "name": "stdout",
     "output_type": "stream",
     "text": [
      "<class 'int'>\n"
     ]
    }
   ],
   "source": [
    "a = int(\"5\") #casto una stringa a intero\n",
    "print(type(a)) # restituirà int"
   ]
  },
  {
   "cell_type": "code",
   "execution_count": 16,
   "id": "b8111822",
   "metadata": {},
   "outputs": [
    {
     "name": "stdout",
     "output_type": "stream",
     "text": [
      "<class 'str'>\n"
     ]
    }
   ],
   "source": [
    "a = str(5) #casto un intero a stringa\n",
    "print(type(a)) # restituirà str"
   ]
  },
  {
   "cell_type": "markdown",
   "id": "514907d0",
   "metadata": {},
   "source": [
    "Come faccio a sapere se è previsto il casting di un tipo verso un altro?\n",
    "1. Esperienza\n",
    "2. Leggere la documentazione del tipo di partenza. Avrà una sezione della sua definizione che spiega in cosa può essere castato.\n",
    "3. Chiedi a chatgpt o simili (uguale a 2 ma fai prima)"
   ]
  },
  {
   "cell_type": "markdown",
   "id": "d4d6192f",
   "metadata": {},
   "source": [
    "## Costrutti **if**, **else** ed **elif**"
   ]
  },
  {
   "cell_type": "code",
   "execution_count": null,
   "id": "80e75a0f",
   "metadata": {},
   "outputs": [],
   "source": [
    "if True:\n",
    "    print(\"ramo vero\")\n",
    "else: \n",
    "    print(\"ramo falso\")"
   ]
  },
  {
   "cell_type": "code",
   "execution_count": 17,
   "id": "1ff9e7a6",
   "metadata": {},
   "outputs": [
    {
     "name": "stdout",
     "output_type": "stream",
     "text": [
      "a non è maggiore di b\n"
     ]
    }
   ],
   "source": [
    "a = 10\n",
    "b = 15 \n",
    "\n",
    "if a > b:\n",
    "    print(\"a è maggiore di b\")\n",
    "else:\n",
    "    print(\"a non è maggiore di b\")"
   ]
  },
  {
   "cell_type": "markdown",
   "id": "78f4cd54",
   "metadata": {},
   "source": [
    "Else non è obbligatorio"
   ]
  },
  {
   "cell_type": "code",
   "execution_count": null,
   "id": "aaf551a7",
   "metadata": {},
   "outputs": [],
   "source": [
    "a = 10\n",
    "b = 15 \n",
    "\n",
    "if a > b:\n",
    "    print(\"a è maggiore di b\")"
   ]
  },
  {
   "cell_type": "code",
   "execution_count": null,
   "id": "f88fbab3",
   "metadata": {},
   "outputs": [],
   "source": [
    "a = 10\n",
    "b = 15 \n",
    "\n",
    "if a > b:\n",
    "    print(\"a è maggiore di b\")\n",
    "else:\n",
    "    if a == b:\n",
    "        print(\"a e b sono uguali\")\n",
    "    else:\n",
    "        print(\"b è maggiore di a\")"
   ]
  },
  {
   "cell_type": "markdown",
   "id": "63ea0aed",
   "metadata": {},
   "source": [
    "**ELIF** è come un else + if"
   ]
  },
  {
   "cell_type": "code",
   "execution_count": null,
   "id": "e64c4949",
   "metadata": {},
   "outputs": [],
   "source": [
    "a = 10\n",
    "b = 15 \n",
    "\n",
    "if a > b:\n",
    "    print(\"a è maggiore di b\")\n",
    "elif a == b:\n",
    "    print(\"a e b sono uguali\")\n",
    "else:\n",
    "    print(\"b è maggiore di a\")"
   ]
  },
  {
   "cell_type": "markdown",
   "id": "e56dc6c0",
   "metadata": {},
   "source": [
    "# Input"
   ]
  },
  {
   "cell_type": "markdown",
   "id": "98fd19b6",
   "metadata": {},
   "source": [
    "La funzione input(testo_da_visualizzare) può ricevere un input da tastiera. L'input che viene fornito è SEMPRE restituito sotto forma di stringa (anche se gli si da un numero)."
   ]
  },
  {
   "cell_type": "code",
   "execution_count": 19,
   "id": "3d3a4d70",
   "metadata": {},
   "outputs": [],
   "source": [
    "a = input(\"Inserire dato: \")"
   ]
  },
  {
   "cell_type": "markdown",
   "id": "374d2a52",
   "metadata": {},
   "source": [
    "E' quindi nostra responsabilità / compito convertire il risultato della funzione input() in un tipo coerente prima di usarlo."
   ]
  },
  {
   "cell_type": "code",
   "execution_count": null,
   "id": "294fec29",
   "metadata": {},
   "outputs": [
    {
     "name": "stdout",
     "output_type": "stream",
     "text": [
      "La calcolatrice che fa solo le somme!\n",
      "La somma è:  30\n"
     ]
    }
   ],
   "source": [
    "print(\"La calcolatrice che fa solo le somme!\")\n",
    "\n",
    "a = input(\"Inserire primo intero: \")\n",
    "b = input(\"Inserire secondo intero: \")\n",
    "\n",
    "c = int(a) + int(b)\n",
    "\n",
    "print(\"La somma è: \" + str(c))\n"
   ]
  },
  {
   "cell_type": "markdown",
   "id": "73f3cd63",
   "metadata": {},
   "source": [
    "## Esercizio n°1 (Breve / Facile)\n",
    "Creare uno script di python che simuli il login ad un sito di casino.\n",
    "- si chieda all'utente: nome, cognome, ed età \n",
    "- si verifichi che il nome e il cognome siano più lunghi di un carattere e che l'età sia maggiore o uguale di 18 anni\n",
    "- se tutto è corretto stampare una string di conferma altrimenti comunicare l'errore all'utente\n",
    "- si consideri che l'utente fornirà sempre dati di tipo corretto\n",
    "\n",
    "Consiglio: Quando si devono eseguire questi compiti è meglio suddividere il problema in vari punti e pensare ad implementare un punto alla volta.\n",
    "In questo caso l'esercizio è già ben suddiviso nei sui punti fondamentali ed è la strategia corretta quando si vuole progettare qualcosa di più complesso."
   ]
  },
  {
   "cell_type": "markdown",
   "id": "d6538d1b",
   "metadata": {},
   "source": [
    "<details>\n",
    "  <summary>Mostra soluzione</summary>\n",
    "\n",
    "```python\n",
    "nome = input(\"Inserire username: \")\n",
    "cognome = input(\"Inserire password: \")\n",
    "eta = int(input(\"Inserire età: \"))\n",
    "\n",
    "if len(nome) > 1 and len(cognome) > 1 and eta > 18:\n",
    "    print(\"Dati corretti. Accesso autorizzato\")\n",
    "else:\n",
    "    print(\"Accesso negato.\")\n",
    "```\n",
    "</details>"
   ]
  },
  {
   "cell_type": "markdown",
   "id": "612407da",
   "metadata": {},
   "source": [
    "## Esercizio n°2 (Medio / Lungo)\n",
    "Creare una applicazione bancaria che permette di effettuare un prelievo o deposito monetario. \n",
    "\n",
    "1. Effettuare il login chiedendo separatamente nome utente e password. Ci sono solo due utenti registrati. Se il nome utente o la password sono errati (la coppia non è corretta, oppure il nome utente non esiste), dare un messaggio di errore e terminare il programma.\n",
    "\n",
    "2. Se il login è corretto, stampare il bilancio del conto e chiedere se l'operazione desiderata è prelievo o deposito. Qualunque altro inserimento risulta nella terminazione del programma con un messaggio di errore.\n",
    "\n",
    "3. Se l'operazione è di deposito, chiedere la cifra (si assuma che l'utente inserisca un intero), aggiornare il totale del conto e stamparlo a video terminando così il programma.\n",
    "\n",
    "4. Se l'operazione è di prelievo, chiedere la cifra (si assuma che l'utente inserisca un intero) e verificare che il bilancio sia sufficente. Se lo è detrarlo dal totale e stampare il nuovo bilancio a video terminando così il programma. Se non lo è terminare il programma con un messaggio di errore."
   ]
  },
  {
   "cell_type": "code",
   "execution_count": null,
   "id": "c3bc40a3",
   "metadata": {},
   "outputs": [],
   "source": [
    "# Utilizza questi dati all'inizio del tuo codice. Sono i due utenti pre-registrati.\n",
    "\n",
    "user1 = \"Giovanna\"\n",
    "psw1 = \"Master!\"\n",
    "bilancio1 = 2000\n",
    "\n",
    "user2 = \"Lorenzo\"\n",
    "psw2 = \"AIDA2025\"\n",
    "bilancio2 = 120"
   ]
  },
  {
   "cell_type": "markdown",
   "id": "35000228",
   "metadata": {},
   "source": [
    "<details>\n",
    "  <summary>Mostra soluzione</summary>\n",
    "\n",
    "```python\n",
    "# Impostiamo i dati \"costanti\" del software: Dati utenti registrati\n",
    "user1 = \"Giovanna\"\n",
    "psw1 = \"Master!\"\n",
    "bilancio1 = 2000\n",
    "\n",
    "user2 = \"Lorenzo\"\n",
    "psw2 = \"AIDA2025\"\n",
    "bilancio2 = 120\n",
    "\n",
    "#Chiediamo username e password all'utente\n",
    "user_input = input('nome utente:')\n",
    "psw_input = input('password:')\n",
    "\n",
    "# In base all'utente selezionato ci segnamo in una nuova variabile \"bilancio_corrente\"\n",
    "# il suo bilancio.\n",
    "# In caso di errore durante il login usiamo impostiamo bilancio_corrente a \"None\" per segnalarci\n",
    "# che l'operazione non è andata a buon fine e gestiamo i 3 casi:\n",
    "\n",
    "if user_input == user1 and psw_input == psw1: # Login come user1\n",
    "    bilancio_corrente = bilancio1\n",
    "elif user_input == user2 and psw_input == psw2: # Login come user2\n",
    "    bilancio_corrente = bilancio2\n",
    "else:                                           # Credenziali errate\n",
    "    print(\"Nome utente e/o password errati.\")\n",
    "    bilancio_corrente = None\n",
    "\n",
    "# Controlliamo che le credenziali siano stato inserite correttamente e procediamo con il programma\n",
    "if bilancio_corrente is not None: #Oppure: if bilancio_corrente != None:\n",
    "    print(\"Benvenuto/a \" + user_input + \"!\")\n",
    "    user_choice = input(\"Deposito o Prelievo? (P/D)\")\n",
    "\n",
    "    # Richiesto prelievo\n",
    "    if user_choice == \"P\":\n",
    "        prelievo = int(input(\"Quanto vuoi prelevare?\"))\n",
    "        # Controlliamo che ci siano abbastanza soldi sul conto.\n",
    "        if bilancio_corrente >= prelievo:\n",
    "            # Facciamo il calcolo del nuovo bilancio e segnamo che dovrà essere effettuato\n",
    "            # l'aggiornamento del saldo\n",
    "            bilancio_corrente =bilancio_corrente - prelievo\n",
    "            update_bilancio = True\n",
    "        # Se non ci sono, segnaliamo e impostiamo la variabile di controllo finale a False\n",
    "        # in questo modo non verrà aggiornato il saldo dell'utente e il programma terminerà\n",
    "        else:\n",
    "            print(\"Disponibilità non sufficiente.\")\n",
    "            update_bilancio = False\n",
    "\n",
    "    # Richiesto Deposito\n",
    "    elif user_choice == \"D\":\n",
    "        deposito = int(input(\"Quanto vuoi depositare? \"))\n",
    "        # Il deposito non richiede particolari controlli.\n",
    "        # Effettuiamo le operazioni in modo simile al prelievo.\n",
    "        bilancio_corrente = bilancio_corrente + deposito\n",
    "        update_bilancio = True\n",
    "    \n",
    "    # Bisogna aggiornare la variabile corretta di bilancio dell'utente.\n",
    "    # Bisogna farlo solo se l'operazione effettuata è andata a buon fine.\n",
    "    # Usiamo la variabile booleana \"update_bilancio\" per verificarlo\n",
    "    if update_bilancio == True:\n",
    "        print(\"Operazione completata!\")\n",
    "        print(\"Il tuo nuovo saldo è: \", bilancio_corrente)\n",
    "        if user_input == user1:\n",
    "            bilancio1 = bilancio_corrente\n",
    "        else:\n",
    "            bilancio2 = bilancio_corrente\n",
    "    else:\n",
    "        print(\"Operazione non riconosciuta. Chiusura programma.\")\n",
    "\n",
    "else: # Caso in cui le credenziali sono errate\n",
    "    print(\"Nome utente e/o password errati.\")\n",
    "```\n",
    "</details>"
   ]
  },
  {
   "cell_type": "markdown",
   "id": "e254b8d1",
   "metadata": {},
   "source": [
    "# Esercizio n°3 (Facile / Breve)\n",
    "\n",
    "1. Effettuare una serie di richieste in input:\n",
    "    1. numero_1\n",
    "    2. numero_2\n",
    "    3. Messaggio\n",
    "2. L'obiettivo dell'esercizio è costruire una stringa che contenga il Messaggio ricevuto in input, ripetuto per il numero di volte equivalente alla somma del numero_1 e del numero_2, separati da virgola e spazio (\", \") e infine printare la stringa risultante, esempio:\n",
    "\n",
    "```python\n",
    "numero_1 = 2\n",
    "numero_2 = 3\n",
    "Messaggio = \"Ciao\"\n",
    "\n",
    "#Stringa finale da costruire e stampare\n",
    "print(\"Ciao, Ciao, Ciao, Ciao, Ciao, \")\n",
    "```\n",
    "\n"
   ]
  },
  {
   "cell_type": "markdown",
   "id": "9e606489",
   "metadata": {},
   "source": [
    "<details>\n",
    "    <summary>Mostra soluzione</summary>\n",
    "\n",
    "```python\n",
    "#Come al solito chiediamo i dati input\n",
    "#Usiamo il cast a int per i numeri\n",
    "numero_1 = int(input(\"Inserire numero_1: \"))\n",
    "numero_2 = int(input(\"Inserire numero_2: \"))\n",
    "Messaggio = input(\"Inserire Messaggio: \")\n",
    "\n",
    "# Usiamo gli operatori matematici con le parentesi per costruire la stringa\n",
    "# (Messaggio + \", \") crea il messaggio con la virgola e lo spazio e poi usiamo\n",
    "# la moltiplicazione per concatenare il numero di stringhe corrette\n",
    "# calcoliamo anche il numero da moltiplicare usando l'operatore matematico + per sommare i numeri\n",
    "risposta = (Messaggio + \", \") * (numero_1 + numero_2)\n",
    "# per capirci, questo è il \"passaggio intermedio\":\n",
    "# risposta = \"Ciao, \" * 5\n",
    "\n",
    "print(risposta)\n",
    "```\n",
    "</details>"
   ]
  }
 ],
 "metadata": {
  "kernelspec": {
   "display_name": ".venv",
   "language": "python",
   "name": "python3"
  },
  "language_info": {
   "codemirror_mode": {
    "name": "ipython",
    "version": 3
   },
   "file_extension": ".py",
   "mimetype": "text/x-python",
   "name": "python",
   "nbconvert_exporter": "python",
   "pygments_lexer": "ipython3",
   "version": "3.13.2"
  }
 },
 "nbformat": 4,
 "nbformat_minor": 5
}
