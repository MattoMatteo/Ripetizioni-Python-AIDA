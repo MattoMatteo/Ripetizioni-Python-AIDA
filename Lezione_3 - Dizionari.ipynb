{
 "cells": [
  {
   "cell_type": "markdown",
   "id": "9b0c773d",
   "metadata": {},
   "source": [
    "## Dizionari"
   ]
  },
  {
   "cell_type": "markdown",
   "id": "30176e32",
   "metadata": {},
   "source": [
    "Si tratta di un'altra struttura dati fondamentale.\n",
    "Utilizzano il paradigma \"chiave-valore\".\n",
    "Fanno parte della macro-categoria delle **collections** come le liste. A differenza delle liste, i dizionari:\n",
    "- Non sono ordinati -> L'accesso ai suoi elementi non avviene \"in ordine\" di inserimento ma...\n",
    "- Si accede tramite chiavi e non con indici -->  le \"chiavi\" non sono altro che stringhe. Anziché usare numeri per accedere agli elementi si usano stringhe in pratica. Gli elementi possono essere anche in questo caso di diverso tipo (anche altri dizionari!)"
   ]
  },
  {
   "cell_type": "markdown",
   "id": "93b264b3",
   "metadata": {},
   "source": [
    "Si dichiarano con parentesi graffe e con i \":\" per separare chiave-valore e \",\" per separare gli elementi:"
   ]
  },
  {
   "cell_type": "code",
   "execution_count": null,
   "id": "de7aee51",
   "metadata": {},
   "outputs": [
    {
     "name": "stdout",
     "output_type": "stream",
     "text": [
      "['Matteo', 'mattoMatteo']\n"
     ]
    }
   ],
   "source": [
    "my_dic = {\"name\": [\"Matteo\", \"mattoMatteo\"], \"nickname\": \"mattoMatteo\", \"eta\": 20}\n",
    "print(my_dic[\"name\"])"
   ]
  },
  {
   "cell_type": "markdown",
   "id": "80e56847",
   "metadata": {},
   "source": [
    "Valgono le stesse regole delle liste, quindi tramite l'accesso all'elemento possiamo non solo leggerlo ma anche scriverlo:"
   ]
  },
  {
   "cell_type": "code",
   "execution_count": 16,
   "id": "70e964f3",
   "metadata": {},
   "outputs": [
    {
     "name": "stdout",
     "output_type": "stream",
     "text": [
      "Gaia\n"
     ]
    }
   ],
   "source": [
    "my_dic[\"name\"] = \"Gaia\"\n",
    "print(my_dic[\"name\"])"
   ]
  },
  {
   "cell_type": "markdown",
   "id": "3e8e447d",
   "metadata": {},
   "source": [
    "Attenzione! La differenza con le liste è che, se vogliamo aggiungere una \"chiave-valore\" (che insieme definirei elemento del dizionario) non necessitiamo di usare un metodo, tipo \".append()\" ma si può fare direttamente accedendo ad una chiave anche se non esiste al momento:"
   ]
  },
  {
   "cell_type": "code",
   "execution_count": null,
   "id": "47255c51",
   "metadata": {},
   "outputs": [],
   "source": [
    "my_dic = {\"name\": \"Matteo\", \"nickname\": \"mattoMatteo\"}\n",
    "my_dic[\"new key\"] = \"new value\"\n",
    "print(my_dic)"
   ]
  },
  {
   "cell_type": "markdown",
   "id": "ebf05697",
   "metadata": {},
   "source": [
    "Anche i dizionari possono stampare il loro tipo e la loro lunghezza:"
   ]
  },
  {
   "cell_type": "code",
   "execution_count": 19,
   "id": "27a503b5",
   "metadata": {},
   "outputs": [
    {
     "name": "stdout",
     "output_type": "stream",
     "text": [
      "<class 'dict'>\n",
      "3\n"
     ]
    }
   ],
   "source": [
    "print(type(my_dic))\n",
    "print(len(my_dic))"
   ]
  },
  {
   "cell_type": "markdown",
   "id": "7904bc2e",
   "metadata": {},
   "source": [
    "Ci sono comunque dei metodi dei dizionari che è importante conoscere.\n",
    "- .keys() -> Restituisce tutte le chiavi del dizionario\n",
    "- .value() -> Restituisce tutti i valori del dizionario\n",
    "- .items() -> Restituisce tutte le chiavi-valore del dizionario (sotto forma di tupla/set)"
   ]
  },
  {
   "cell_type": "code",
   "execution_count": 20,
   "id": "6ee20c32",
   "metadata": {},
   "outputs": [
    {
     "name": "stdout",
     "output_type": "stream",
     "text": [
      "dict_keys(['name', 'nickname', 'new key'])\n",
      "dict_values(['Matteo', 'mattoMatteo', 'new value'])\n",
      "dict_items([('name', 'Matteo'), ('nickname', 'mattoMatteo'), ('new key', 'new value')])\n"
     ]
    }
   ],
   "source": [
    "print(my_dic.keys())\n",
    "print(my_dic.values())\n",
    "print(my_dic.items())"
   ]
  },
  {
   "cell_type": "markdown",
   "id": "a945f403",
   "metadata": {},
   "source": [
    "Di solito questi metodi vengono usati per essere iterati da dei cicli for oppure se si vuole effettuare un'operazione booleana con \"in\":"
   ]
  },
  {
   "cell_type": "code",
   "execution_count": 21,
   "id": "6f72a916",
   "metadata": {},
   "outputs": [
    {
     "name": "stdout",
     "output_type": "stream",
     "text": [
      "name\n",
      "nickname\n",
      "new key\n"
     ]
    }
   ],
   "source": [
    "for key in my_dic.keys():\n",
    "    print(key)"
   ]
  },
  {
   "cell_type": "markdown",
   "id": "e548ce78",
   "metadata": {},
   "source": [
    "Nota: Di solito .key() non si usa mai perché nei cicli for o negli operandi \"in\", se si dà direttamente il dizionario, è sottinteso che verranno prese automaticamente solo le chiavi:"
   ]
  },
  {
   "cell_type": "code",
   "execution_count": 22,
   "id": "5bce0cd1",
   "metadata": {},
   "outputs": [
    {
     "name": "stdout",
     "output_type": "stream",
     "text": [
      "name\n",
      "nickname\n",
      "new key\n"
     ]
    }
   ],
   "source": [
    "for key in my_dic:\n",
    "    print(key)"
   ]
  },
  {
   "cell_type": "markdown",
   "id": "971ae164",
   "metadata": {},
   "source": [
    "Mentre molto utile se si vuole cercare/iterare all'interno dei valori:"
   ]
  },
  {
   "cell_type": "code",
   "execution_count": 23,
   "id": "37c07e5d",
   "metadata": {},
   "outputs": [
    {
     "name": "stdout",
     "output_type": "stream",
     "text": [
      "True\n",
      "False\n"
     ]
    }
   ],
   "source": [
    "my_dic = {\"name\": \"Matteo\", \"nickname\": \"mattoMatteo\"}\n",
    "print(\"Matteo\" in my_dic.values())\n",
    "print(\"Gaia\" in my_dic.values())"
   ]
  },
  {
   "cell_type": "code",
   "execution_count": 24,
   "id": "7c96075f",
   "metadata": {},
   "outputs": [
    {
     "name": "stdout",
     "output_type": "stream",
     "text": [
      "valori:  Matteo\n",
      "valori:  mattoMatteo\n"
     ]
    }
   ],
   "source": [
    "for value in my_dic.values():\n",
    "    print(\"valori: \", value)"
   ]
  },
  {
   "cell_type": "markdown",
   "id": "1711d191",
   "metadata": {},
   "source": [
    "E' molto più probabile che però vi ritroverete a usare il .items() all'interno di un ciclo for. In questo caso le variabili da fornire al ciclo for saranno 2 (un po' come lo zip) perché .items() inserirà nella prima variabile data la \"key\" e nella seconda la \"value\" attualmente iterata in quel ciclo:"
   ]
  },
  {
   "cell_type": "code",
   "execution_count": null,
   "id": "7486122f",
   "metadata": {},
   "outputs": [],
   "source": [
    "for k, v in my_dic.items():\n",
    "    if k == \"name\":\n",
    "        print(\"Il nome di battesimo è: \", v)\n",
    "    elif k == \"nickname\":\n",
    "        print(\"Il soprannome è: \", v)\n",
    "    else:\n",
    "        print(\"Altro: \", v)"
   ]
  },
  {
   "cell_type": "markdown",
   "id": "95c2f773",
   "metadata": {},
   "source": [
    "Funzioni per rimuovere elementi nel dizionario:\n",
    "- .pop(chiave) -> Elimina elemento fornendo la chiave.\n",
    "- .clear() -> Elimina tutte le coppie chiave-valore nel dizionario\n",
    "\n",
    "N.B: il del è sempre un opzione ma sempre da evitare in questo caso."
   ]
  },
  {
   "cell_type": "code",
   "execution_count": null,
   "id": "79b69709",
   "metadata": {},
   "outputs": [],
   "source": [
    "my_dic = {\"name\": \"Matteo\", \"nickname\": \"mattoMatteo\"}\n",
    "my_dic.pop(\"name\")\n",
    "print(my_dic)"
   ]
  },
  {
   "cell_type": "code",
   "execution_count": 28,
   "id": "ee8fcd89",
   "metadata": {},
   "outputs": [
    {
     "name": "stdout",
     "output_type": "stream",
     "text": [
      "{}\n"
     ]
    }
   ],
   "source": [
    "my_dic = {\"name\": \"Matteo\", \"nickname\": \"mattoMatteo\"}\n",
    "my_dic.clear()\n",
    "print(my_dic)"
   ]
  },
  {
   "cell_type": "code",
   "execution_count": null,
   "id": "b7d3d28a",
   "metadata": {},
   "outputs": [
    {
     "name": "stdout",
     "output_type": "stream",
     "text": [
      "{'nickname': 'mattoMatteo'}\n"
     ]
    }
   ],
   "source": [
    "my_dic = {\"name\": \"Matteo\", \"nickname\": \"mattoMatteo\"}\n",
    "del my_dic[\"name\"]\n",
    "print(my_dic)"
   ]
  },
  {
   "cell_type": "markdown",
   "id": "7eadeada",
   "metadata": {},
   "source": [
    "### Consiglio più \"avanzato\" sui dizionari"
   ]
  },
  {
   "cell_type": "markdown",
   "id": "85b1d40d",
   "metadata": {},
   "source": [
    "Abbiamo detto che per aggiungere un elemento all'intenro di un dizionario si può usare direttamente una chiave ([\"chiave\"]) anche se questa non esiste al momento all'interno del dizionario e assegnargli un valore ( = 10 ).\n",
    "Bisogna stare attenti quando si vuole assegnare come valore, non una semplice variabile, ma un oggetto più complesso, che possiede dei metodi, come un altro dizionario o delle liste etc..\n",
    "Perché spesso si da per scontato che il valore all'interno di quella chiave (che ancora non esiste) sia già del tipo che vogliamo inserire, ma se non si inizializza prima python non può saperlo!\n",
    "\n",
    "Più complicato da spiegare che da vedere:"
   ]
  },
  {
   "cell_type": "code",
   "execution_count": 29,
   "id": "9fff889f",
   "metadata": {},
   "outputs": [
    {
     "name": "stdout",
     "output_type": "stream",
     "text": [
      "{'Nome': 'Matteo'}\n"
     ]
    }
   ],
   "source": [
    "# Questo si può fare\n",
    "\n",
    "persone = {}\n",
    "persone[\"Nome\"] = \"Matteo\"\n",
    "print(persone)"
   ]
  },
  {
   "cell_type": "code",
   "execution_count": null,
   "id": "f2c4d47a",
   "metadata": {},
   "outputs": [],
   "source": [
    "# Questo non si può fare -> Key error\n",
    "\n",
    "persone = {}\n",
    "persone[\"Anagrafica\"][\"Nome\"] = \"Matteo\"\n",
    "print(persone)"
   ]
  },
  {
   "cell_type": "markdown",
   "id": "a9d4ab64",
   "metadata": {},
   "source": [
    "Questo succede perché si sta dando per scontato che il valore che ci sarà (ma attualmente non c'è!) all'interno della chiave \"Anagrafica\" sarà un dizionario, dentro il quale noi vorremmo creare una chiave \"Nome\" in cui inserire la stringa \"Matteo\".\n",
    "Ma attualemente non esiste nessun valore all'interno di \"Anagrafica\" quindi python non può sapere che si tratterà di un dizionario e quindi non può utilizzare funzionalità di un dizionario se neanche sa che ci si sta riferendo a quel tipo di oggetto li.\n",
    "Un po' come dire: persone[\"Anagrafica\"].append(\"Matteo\")    come può sapere che ci stiamo riferendo ad un oggetto lista e che vogliamo usare il suo metodo append()? append potrebbe essere un metodo di chissà quale oggetto..."
   ]
  },
  {
   "cell_type": "markdown",
   "id": "a42b4bf4",
   "metadata": {},
   "source": [
    "Metodo corretto:"
   ]
  },
  {
   "cell_type": "code",
   "execution_count": null,
   "id": "35b34cd7",
   "metadata": {},
   "outputs": [
    {
     "name": "stdout",
     "output_type": "stream",
     "text": [
      "{'Anagrafica': {'Nome': 'Matteo'}}\n"
     ]
    }
   ],
   "source": [
    "# Questo si può fare \n",
    "\n",
    "persone = {}\n",
    "persone[\"Anagrafica\"] = {\"Nome\": \"Matteo\", \"Cognome\": \"Calautti\"}  # Come valore ad \"Anagrafica\" stiamo assegnado un dizionario creato al volo\n",
    "print(persone)"
   ]
  },
  {
   "cell_type": "markdown",
   "id": "2614c2fd",
   "metadata": {},
   "source": [
    "Ma ancora attenzione! Perché se continuiamo ad assegnare un nuovo dizionario allo stesso modo, il precedente verrà sostituito dal nuovo:"
   ]
  },
  {
   "cell_type": "code",
   "execution_count": 34,
   "id": "8b111d38",
   "metadata": {},
   "outputs": [
    {
     "name": "stdout",
     "output_type": "stream",
     "text": [
      "{'Anagrafica': {'Cognome': 'Calautti'}}\n"
     ]
    }
   ],
   "source": [
    "persone = {}\n",
    "persone[\"Anagrafica\"] = {\"Nome\": \"Matteo\"}\n",
    "persone[\"Anagrafica\"] = {\"Cognome\": \"Calautti\"}\n",
    "print(persone)  # Ci sarà solo \"Cognome\""
   ]
  },
  {
   "cell_type": "markdown",
   "id": "edb9807d",
   "metadata": {},
   "source": [
    "Quindi se l'intento è quello di aggiornare a più step il dizionario \"più interno\" allora conviene usare un approccio di questo tipo:"
   ]
  },
  {
   "cell_type": "code",
   "execution_count": 35,
   "id": "8f2c42f6",
   "metadata": {},
   "outputs": [
    {
     "name": "stdout",
     "output_type": "stream",
     "text": [
      "{'Anagrafica': {'Nome': 'Matteo', 'Cognome': 'Calautti'}}\n"
     ]
    }
   ],
   "source": [
    "persone = {}\n",
    "persone[\"Anagrafica\"] = {} # Inizializziamo il valore di \"Anagrafica\" come dizionario, al momento vuoto\n",
    "\n",
    "# Ora python sa che il valore di persone[\"Anagrafica\"] è un dizionario e quindi possiamo già utilizzarlo come tale:\n",
    "persone[\"Anagrafica\"][\"Nome\"] = \"Matteo\"\n",
    "\n",
    "# persone[\"Anagrafica\"] -> dizionario sul quale creiamo al volo la chiave \"Nome\" a cui essegnaimo una stringa\n",
    "persone[\"Anagrafica\"][\"Cognome\"] = \"Calautti\"\n",
    "# idem per \"Cognome\"\n",
    "\n",
    "print(persone)"
   ]
  },
  {
   "cell_type": "markdown",
   "id": "658a8322",
   "metadata": {},
   "source": [
    "Se hai capito questa parte... congratulazioni!!\n",
    "Questa cosa frega spesso tanti novizi"
   ]
  },
  {
   "cell_type": "markdown",
   "id": "bb0ccd27",
   "metadata": {},
   "source": [
    "# Esercizio di fine modulo"
   ]
  },
  {
   "cell_type": "markdown",
   "id": "c7e84add",
   "metadata": {},
   "source": [
    "## Esercizio 1 - Breve / Facile:"
   ]
  },
  {
   "cell_type": "markdown",
   "id": "9ce8eb43",
   "metadata": {},
   "source": [
    "Scrivere un programma che chieda in input l'inserimento di una frase e che restituisca un dizionario che contiene il numero di frequenza di ogni lettera all'interno della frase, tipo {a: 4, b: 10}.\n",
    "\n",
    "Nota:\n",
    "- Se si vuole distinguere lettere e numeri all'interno di un testo si può usare il metodo sulla stringa: isalpha() che restituisce True se la stringa contiene solo caratteri e non numeri, altrimenti restituisce False.\n",
    "- Se si vuole considerare come unica lettera maiuscole e minuscole si può usare il metodo sulla stringa: .lower() che restituisce una stringa uguale con le lettere tutte minuscole oppure .upper() tutte maiuscole (restituisce NON converte quella su cui si esegue).\n",
    "\n",
    "\n",
    "<details>\n",
    "  <summary>Suggerimento</summary>\n",
    "  Vi ricordo che le stringhe sono trattate molto spesso come delle liste, quindi si possono effettuare operazioni come lo slicing oppure l'iterazione all'interno di un ciclo for per iterarle carattere per carattere.\n",
    "</details>"
   ]
  },
  {
   "cell_type": "markdown",
   "id": "1837e604",
   "metadata": {},
   "source": [
    "<details>\n",
    "  <summary>Mostra soluzione</summary>\n",
    "  \n",
    "```python\n",
    "# Esercizio 1: Frequenza delle lettere\n",
    "\n",
    "testo = input(\"Inserisci una frase: \")\n",
    "\n",
    "frequenze = {}\n",
    "\n",
    "for lettera in testo:\n",
    "    if lettera.isalpha():  # Considera solo le lettere\n",
    "        lettera = lettera.lower()\n",
    "        if lettera in frequenze:\n",
    "            frequenze[lettera] += 1\n",
    "        else:\n",
    "            frequenze[lettera] = 1\n",
    "\n",
    "print(\"Frequenza delle lettere:\")\n",
    "for lettera, count in frequenze.items():\n",
    "    print(f\"{lettera}: {count}\")\n",
    "```\n",
    "</details>"
   ]
  },
  {
   "cell_type": "markdown",
   "id": "8dde6ea4",
   "metadata": {},
   "source": [
    "## Esercizio 2: Medio / Breve"
   ]
  },
  {
   "cell_type": "markdown",
   "id": "1bf5dc2c",
   "metadata": {},
   "source": [
    "Scrivere un programma che inserisca i dati degli studenti:\n",
    "- Chieda in input quanti studenti vuoi inserire\n",
    "- Per ogni studente chieda: nome, età, corso di laurea, anno\n",
    "- Stampare il dizionario finale\n",
    "\n",
    "Si chiede ti utilizzare una struttura del tipo: { nome: {eta: ..., corso: ..., anno: ...} }"
   ]
  },
  {
   "cell_type": "markdown",
   "id": "1c217fb7",
   "metadata": {},
   "source": [
    "<details>\n",
    "  <summary>Mostra soluzione</summary>\n",
    "\n",
    "```python\n",
    "studenti = {}\n",
    "\n",
    "numero_studenti = int(input(\"Quanti studenti vuoi inserire? \"))\n",
    "\n",
    "for _ in range(numero_studenti):\n",
    "    nome = input(\"Nome dello studente: \")\n",
    "    eta = int(input(\"Età: \"))\n",
    "    corso = input(\"Corso di laurea: \")\n",
    "    anno = int(input(\"Anno di iscrizione: \"))\n",
    "\n",
    "    studenti[nome] = {\n",
    "        \"età\": eta,\n",
    "        \"corso\": corso,\n",
    "        \"anno\": anno\n",
    "    }\n",
    "\n",
    "print(\"\\nElenco completo degli studenti:\\n\")\n",
    "for nome, info in studenti.items():\n",
    "    print(f\"{nome} -> Età: {info['età']}, Corso: {info['corso']}, Anno: {info['anno']}\")\n",
    "\n",
    "```\n",
    "</details>"
   ]
  },
  {
   "cell_type": "markdown",
   "id": "9851aa58",
   "metadata": {},
   "source": [
    "## Esercizio 3: Un po' più difficile maybe? Non saprei"
   ]
  },
  {
   "cell_type": "markdown",
   "id": "52fa3f50",
   "metadata": {},
   "source": [
    "**Obiettivo**: Creare un unico dizionario **prodotti** che combini tutte queste informazioni usando gli ID come chiavi.  \n",
    "N.B.: I vari dizionari (tipo tabelle) non contengono tutti gli id dei prodotti, quindi magari un prodotto non ha nome oppure non ha una categoria, etc... in quel caso il campo mancante **non deve essere inserito** (non vogliamo ad esempio mettere **null**)."
   ]
  },
  {
   "cell_type": "markdown",
   "id": "d7fdcfb4",
   "metadata": {},
   "source": [
    "Questi sono i dizionari di partenza:"
   ]
  },
  {
   "cell_type": "code",
   "execution_count": 1,
   "id": "54e911ac",
   "metadata": {},
   "outputs": [],
   "source": [
    "# Dizionari di partenza\n",
    "nomi = {\n",
    "    \"100\": \"Maglietta\",\n",
    "    \"2500\": \"TV Samsung\",\n",
    "    \"342\": \"Zaino\",\n",
    "    \"578\": \"Smartphone\",\n",
    "    \"12\": \"Cuffie Wireless\"\n",
    "}\n",
    "\n",
    "categorie = {\n",
    "    \"100\": \"Abbigliamento\",\n",
    "    \"2500\": \"Elettronica\",\n",
    "    \"342\": \"Accessori\",\n",
    "    \"12\": \"Elettronica\",\n",
    "    \"999\": \"Alimentari\"  # ID non presente negli altri dizionari\n",
    "}\n",
    "\n",
    "prezzi = {\n",
    "    \"100\": 19.99,\n",
    "    \"2500\": 899.99,\n",
    "    \"342\": 49.90,\n",
    "    \"578\": 599.00,\n",
    "    \"777\": 1.99  # ID non presente negli altri dizionari\n",
    "}\n",
    "\n",
    "quantita = {\n",
    "    \"100\": 50,\n",
    "    \"2500\": 15,\n",
    "    \"342\": 30,\n",
    "    \"12\": 25,\n",
    "    \"578\": 40\n",
    "}\n",
    "\n",
    "fornitori = {\n",
    "    \"100\": \"Fornitore A\",\n",
    "    \"342\": \"Fornitore B\",\n",
    "    \"578\": \"Fornitore C\",\n",
    "    \"999\": \"Fornitore D\"  # ID presente solo in categorie e qui\n",
    "}"
   ]
  },
  {
   "cell_type": "markdown",
   "id": "54b23974",
   "metadata": {},
   "source": [
    "<details>\n",
    "  <summary>Suggerimento</summary>\n",
    "Potreste pensare di usare i **set** per prendere l'elenco di tutti gli id presenti nei dizionari e utilizzare quello  \n",
    "per fare il for di partenza.\n",
    "</details>"
   ]
  },
  {
   "cell_type": "markdown",
   "id": "4d1e81f4",
   "metadata": {},
   "source": [
    "\n",
    "<details>\n",
    "  <summary>Soluzione</summary>\n",
    "\n",
    "```python\n",
    "# ---------------------------- Parte 1 -------------------------------------#\n",
    "#  Prendiamo la lista di tutti gli id di tutti i dizionari come set evitando così i duplicati:\n",
    "\n",
    "# Opzione 1 - Più semplice da pensare ma laboriosa e ripetitiva\n",
    "ids = []\n",
    "for key in nomi:\n",
    "    ids.append(key)\n",
    "for key in categorie:\n",
    "    if not key in ids:\n",
    "        ids.append(key)\n",
    "for key in prezzi:\n",
    "    if not key in ids:\n",
    "        ids.append(key)\n",
    "for key in quantita:\n",
    "    if not key in ids:\n",
    "        ids.append(key)\n",
    "for key in fornitori:\n",
    "    if not key in ids:\n",
    "        ids.append(key)\n",
    "\n",
    "# Magari si poteva anche ottimizzare mettendo in una lista tutti i dizionari:\n",
    "dict_list = [nomi, categorie, prezzi, quantita, fornitori]\n",
    "for dict in dict_list:\n",
    "    for key in dict:\n",
    "        if not key in ids:\n",
    "            ids.append(key)\n",
    "\n",
    "# Opzione 2 - Sfruttiamo le proprietà dei set di non permettere i duplicati e concateniamo come liste le varie chiavi\n",
    "ids = set(list(nomi.keys()) + list(categorie.keys()) + list(prezzi.keys()) + list(quantita.keys()) + list(fornitori.keys()))\n",
    "\n",
    "#----------------------------------------- Parte 2 ----------------------------------------#\n",
    "\n",
    "# Creiamo il dizionario finale e creiamo tutte le sue chiavi assegnando come valore un dizionario vuoto da riempire:\n",
    "prodotti = {}\n",
    "for id in ids:\n",
    "    prodotti[id] = {}\n",
    "\n",
    "# Creiamo tramite un dizionario un associazione \"chiave da usare per accedere ai valori dei vari dizionari\"\n",
    "# e dizionario a cui fa riferimento\n",
    "dict_newKey = {\"Nome\": nomi, \"Categorie\": categorie, \"Prezzi\": prezzi, \"Quantita\": quantita, \"Fornitori\": fornitori}\n",
    "# Sfruttiamolo per prendere un dizionario alla volta e scorrerlo per associare i suoi elementi al dizionario finale:\n",
    "for k, v in dict_newKey.items():\n",
    "    for id, valore in v.items():\n",
    "        prodotti[id][k] = valore   # Esempio pratico: prodotti[\"100\"][\"Nome\"] = \"Maglietta\"\n",
    "\n",
    "print(prodotti)\n",
    "```\n",
    "</details>"
   ]
  }
 ],
 "metadata": {
  "kernelspec": {
   "display_name": ".venv",
   "language": "python",
   "name": "python3"
  },
  "language_info": {
   "codemirror_mode": {
    "name": "ipython",
    "version": 3
   },
   "file_extension": ".py",
   "mimetype": "text/x-python",
   "name": "python",
   "nbconvert_exporter": "python",
   "pygments_lexer": "ipython3",
   "version": "3.13.2"
  }
 },
 "nbformat": 4,
 "nbformat_minor": 5
}
