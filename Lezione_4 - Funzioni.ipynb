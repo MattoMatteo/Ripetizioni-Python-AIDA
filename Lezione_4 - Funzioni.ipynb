{
 "cells": [
  {
   "cell_type": "markdown",
   "id": "d5b91722",
   "metadata": {},
   "source": [
    "# Funzioni"
   ]
  },
  {
   "cell_type": "markdown",
   "id": "e67af406",
   "metadata": {},
   "source": [
    "Ogni qual volta il nostro script/software necessita ripetere una certa \"logica\" più volte in punti diversi dello script stesso allora questo è un segnale che quella porzione di codice debba essere \"impacchettata\" e \"generalizzata\" per poter essere richiamata all'occorrenza, senza doverla riscrivere.\n",
    "\n",
    "Questo è utile per molti motivi:\n",
    "- La porzione di codice si scrive 1 sola volta.\n",
    "- Più facile da manutenere. Esempio, vi accorgete che c'era un bug in quella porzione di codice oppure volete apportare una piccola modifica, a quel punto dovreste farlo in tutte le parti del software in cui viene eseguita quella stessa operazione. Nel farlo spesso succede che vi dimenticate di farlo ovunque e vi ritrovate che in alcune parti funziona e in altre no.\n",
    "- Da una struttura al software e lo rende molto più leggibile. Suddividere logicamente le operazioni che vengono effettuate dal software aiuta a creare \"uno scheletro\" del proprio software e questo aiuta il suo sviluppo. In più impacchettare pezzi di codice e tenerli separati aiuta la leggibilità per il programmatore che deve capire cosa fa il programma."
   ]
  },
  {
   "cell_type": "markdown",
   "id": "7c9a262d",
   "metadata": {},
   "source": [
    "## Struttura di una funzione\n",
    "Si dichiara con \"def\" poi il nome che volete assegnare poi \"()\" poi \":\""
   ]
  },
  {
   "cell_type": "code",
   "execution_count": 9,
   "id": "9ec663ca",
   "metadata": {},
   "outputs": [
    {
     "name": "stdout",
     "output_type": "stream",
     "text": [
      "Ciao\n"
     ]
    }
   ],
   "source": [
    "def my_function():\n",
    "    print(\"Ciao\")\n",
    "\n",
    "my_function()\n",
    "pass"
   ]
  },
  {
   "cell_type": "markdown",
   "id": "19643826",
   "metadata": {},
   "source": [
    "Abbiamo visto come l'interprete python esegue il codice riga per riga partendo dalla prima. Quando ci sono definizioni (def) delle funzioni, lui non le esegue subito, \"apprende\" il fatto che ci siano e passa oltre. In questo caso la prima riga che verrà davvero eseguita sarà \"my_function()\" e a quel punto python \"salterà\" alla riga in cui è presente la funzione ed eseguirà tutte le righe al suo interno (print(\"ciao\")) per poi tornare al punto in cui era rimasto, passando alla prossima (pass)"
   ]
  },
  {
   "cell_type": "markdown",
   "id": "0815dc4a",
   "metadata": {},
   "source": [
    "Le funzioni all'interno delle loro \"()\" possono \"accettare\" dei \"parametri\". Questo significa che quando una funzinoe viene \"chiamata\" sarà necessario inserire delle variabili all'interno delle \"()\" che la funzinoe stessa ora richiede.\n",
    "Questa cosa serve per dare in input dei dati alla funzione che userà per elaborare una risposta."
   ]
  },
  {
   "cell_type": "code",
   "execution_count": null,
   "id": "0beb155b",
   "metadata": {},
   "outputs": [
    {
     "name": "stdout",
     "output_type": "stream",
     "text": [
      "CiaoCiaoCiao\n",
      "MaialeMaialeMaiale\n"
     ]
    }
   ],
   "source": [
    "def my_function(testo):\n",
    "    testo = testo * 3\n",
    "    print(testo)\n",
    "\n",
    "my_function(\"Ciao\")"
   ]
  },
  {
   "cell_type": "markdown",
   "id": "d5b9e38e",
   "metadata": {},
   "source": [
    "I parametri possono essere più di uno. Le variabili che possiamo inserire possono essere moltepicli. Basta ricordare che: se si forniscono delle variabili come parametro alla chiamata a funzione, questi verranno presi in ordine e assegnati secondo quell'ordine:"
   ]
  },
  {
   "cell_type": "code",
   "execution_count": 13,
   "id": "118717e9",
   "metadata": {},
   "outputs": [
    {
     "name": "stdout",
     "output_type": "stream",
     "text": [
      "Ciao come stai?\n"
     ]
    }
   ],
   "source": [
    "def my_function(testo_1, testo_2):\n",
    "    print(testo_1, testo_2)\n",
    "\n",
    "my_function(\"Ciao\", \"come stai?\")\n",
    "# \"Ciao\" -> testo_1 e \"come stai?\" -> testo_2 per ordine di inserimento"
   ]
  },
  {
   "cell_type": "markdown",
   "id": "d371c9bd",
   "metadata": {},
   "source": [
    "Infine le funzioni possono effettivamente restituire al chiamate delle altre variabili tramite il comando \"return\""
   ]
  },
  {
   "cell_type": "code",
   "execution_count": 14,
   "id": "4be83bfd",
   "metadata": {},
   "outputs": [
    {
     "name": "stdout",
     "output_type": "stream",
     "text": [
      "<class 'int'>\n",
      "7\n"
     ]
    }
   ],
   "source": [
    "def my_somma(numero_1, numero_2):\n",
    "    risultato = numero_1 + numero_2\n",
    "    return risultato\n",
    "\n",
    "somma = my_somma(3, 4)\n",
    "\n",
    "print(type(somma))\n",
    "print(somma)"
   ]
  },
  {
   "cell_type": "markdown",
   "id": "8fecc226",
   "metadata": {},
   "source": [
    "Per rendere le funzioni più comprensibili all'utente, ci sono diverse cose che si possono aggiungere:\n",
    "- Una documentazione che spiega cosa fa la funzione, come devono essere i parametri e cosa restituisce.\n",
    "- Specificare il tipo che i parametri devono avere (numero_1 deve essere un intero)\n",
    "- Specificare il tipo dell'oggetto che viene restituito (se viene restituito qualcosa) (opzionale python lo capisce da solo)"
   ]
  },
  {
   "cell_type": "code",
   "execution_count": null,
   "id": "ea1b1838",
   "metadata": {},
   "outputs": [],
   "source": [
    "def my_somma(numero_1:int, numero_2:int) -> int:\n",
    "    \"\"\"\n",
    "    Esegue la somma tra due numeri. Sia numero_1 che numero_2 devono essere degli interi.\n",
    "    La funzione restituisce la loro somma come intero.\n",
    "    \"\"\"\n",
    "    risultato = numero_1 + numero_2\n",
    "    return risultato\n",
    "\n",
    "print(my_somma(3, 4))"
   ]
  },
  {
   "cell_type": "markdown",
   "id": "200a7c6d",
   "metadata": {},
   "source": [
    "# String Manipulation"
   ]
  },
  {
   "cell_type": "markdown",
   "id": "18de09aa",
   "metadata": {},
   "source": [
    "In python una delle operazioni più comuni è quella della manipolazione delle stringhe."
   ]
  },
  {
   "cell_type": "markdown",
   "id": "b516e5ac",
   "metadata": {},
   "source": [
    "## Operazioni di base"
   ]
  },
  {
   "cell_type": "markdown",
   "id": "04f10e10",
   "metadata": {},
   "source": [
    "Mettiamo il caso di avere una stringa del genere:"
   ]
  },
  {
   "cell_type": "code",
   "execution_count": 6,
   "id": "ea78a90a",
   "metadata": {},
   "outputs": [],
   "source": [
    "stringa = \"     un messaggio     \""
   ]
  },
  {
   "cell_type": "markdown",
   "id": "016fe74d",
   "metadata": {},
   "source": [
    "Molto spesso può capitare di avere del testo \"sporco\" che dobbiamo manipolare.  \n",
    "In questo caso magari abbiamo interesse di eliminare gli spazi in eccesso all'inizio e alla fine del testo e il metodo più semplice in questo caso è usare il metodo: **strip**."
   ]
  },
  {
   "cell_type": "code",
   "execution_count": 7,
   "id": "643ff559",
   "metadata": {},
   "outputs": [
    {
     "data": {
      "text/plain": [
       "'un messaggio'"
      ]
     },
     "execution_count": 7,
     "metadata": {},
     "output_type": "execute_result"
    }
   ],
   "source": [
    "stringa.strip()"
   ]
  },
  {
   "cell_type": "markdown",
   "id": "f432c359",
   "metadata": {},
   "source": [
    "strip richiamata senza nessun parametro va ad eliminare tutti gli spazi vuoti all'inizio e alla fine della stringa.  \n",
    "Strip però può accettare anche una stringa come parametro che rappresenterà il testo che verrà eliminato al posto dei semplici spazi vuoti, ad esempio:"
   ]
  },
  {
   "cell_type": "code",
   "execution_count": 8,
   "id": "3ca2cb81",
   "metadata": {},
   "outputs": [
    {
     "data": {
      "text/plain": [
       "'Primo'"
      ]
     },
     "execution_count": 8,
     "metadata": {},
     "output_type": "execute_result"
    }
   ],
   "source": [
    "messaggio = \"#Primo#\"\n",
    "messaggio.strip(\"#\")"
   ]
  },
  {
   "cell_type": "markdown",
   "id": "4a54671d",
   "metadata": {},
   "source": [
    "Attenzione che strip non elimina un \"pattern\" esatto della stringa data ma tutti i caratteri presenti nella stringa data come parametro:"
   ]
  },
  {
   "cell_type": "code",
   "execution_count": 13,
   "id": "22ce47d3",
   "metadata": {},
   "outputs": [
    {
     "data": {
      "text/plain": [
       "'ciao.it'"
      ]
     },
     "execution_count": 13,
     "metadata": {},
     "output_type": "execute_result"
    }
   ],
   "source": [
    "messaggio = \".www.ciao.it.\"\n",
    "messaggio.strip(\"www.\")"
   ]
  },
  {
   "cell_type": "markdown",
   "id": "3e2e43bb",
   "metadata": {},
   "source": [
    "# Paths"
   ]
  }
 ],
 "metadata": {
  "kernelspec": {
   "display_name": ".venv",
   "language": "python",
   "name": "python3"
  },
  "language_info": {
   "codemirror_mode": {
    "name": "ipython",
    "version": 3
   },
   "file_extension": ".py",
   "mimetype": "text/x-python",
   "name": "python",
   "nbconvert_exporter": "python",
   "pygments_lexer": "ipython3",
   "version": "3.13.2"
  }
 },
 "nbformat": 4,
 "nbformat_minor": 5
}
