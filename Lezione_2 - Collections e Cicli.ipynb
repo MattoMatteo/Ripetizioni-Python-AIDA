{
 "cells": [
  {
   "cell_type": "markdown",
   "id": "ac1a7089",
   "metadata": {},
   "source": [
    "# Collections (no dizionari)"
   ]
  },
  {
   "cell_type": "markdown",
   "id": "5980ab58",
   "metadata": {},
   "source": [
    "## Liste"
   ]
  },
  {
   "cell_type": "markdown",
   "id": "e7fabf6e",
   "metadata": {},
   "source": [
    "Le liste sono delle **strutture dati** più complesse delle variabili.\n",
    "Possono contenere una \"collezione\" di variabili al loro interno, accodate uno dopo l'altra, che possono essere anche di tipo diverso.\n",
    "Fanno parte di una macro-categoria chiamate **collections**."
   ]
  },
  {
   "cell_type": "code",
   "execution_count": null,
   "id": "f2809ceb",
   "metadata": {},
   "outputs": [
    {
     "name": "stdout",
     "output_type": "stream",
     "text": [
      "['un_bel_dato', 'un altro dato', 1, True, 2.4]\n",
      "<class 'list'>\n",
      "5\n"
     ]
    }
   ],
   "source": [
    "my_list = [\"un_bel_dato\", \"un altro dato\", 1, True, 2.4]\n",
    "\n",
    "print(my_list)\n",
    "print(type(my_list))\n",
    "print(len(my_list))"
   ]
  },
  {
   "cell_type": "markdown",
   "id": "771cae72",
   "metadata": {},
   "source": [
    "Per accedere a un **elemento** della lista è possibile farlo tramite un **indice** numerico posto all'interno delle **[ ]**.\n",
    "Attenzione! **\"Il primo elemento della lista è in posizione 0\"**.\n",
    "Distinguiamo quindi \"primo\", \"secondo\" etc.. da \"elemento in posizione 0, 1 etc...\""
   ]
  },
  {
   "cell_type": "code",
   "execution_count": null,
   "id": "b51a09b7",
   "metadata": {},
   "outputs": [],
   "source": [
    "print(my_list[1])"
   ]
  },
  {
   "cell_type": "markdown",
   "id": "8a966b4b",
   "metadata": {},
   "source": [
    "Accedere ad un elemento della lista tramite indici e [ ] non è utile solo per leggere il suo contenuto ma anche per modificarlo:"
   ]
  },
  {
   "cell_type": "code",
   "execution_count": null,
   "id": "424e0051",
   "metadata": {},
   "outputs": [
    {
     "name": "stdout",
     "output_type": "stream",
     "text": [
      "['nuovo primo', 'secondo', 'terzo']\n"
     ]
    }
   ],
   "source": [
    "l = [\"primo\", \"secondo\", \"terzo\"]\n",
    "l[0] = \"nuovo primo\"\n",
    "print(l)"
   ]
  },
  {
   "cell_type": "markdown",
   "id": "6a535711",
   "metadata": {},
   "source": [
    "Attenzione quando si usano gli indici perché non è possibile **accedere** ad un elemento di una lista con un indice che non è compreso:"
   ]
  },
  {
   "cell_type": "code",
   "execution_count": null,
   "id": "d0ffbeec",
   "metadata": {},
   "outputs": [
    {
     "ename": "IndexError",
     "evalue": "list assignment index out of range",
     "output_type": "error",
     "traceback": [
      "\u001b[31m---------------------------------------------------------------------------\u001b[39m\n",
      "\u001b[31mIndexError\u001b[39m                                Traceback (most recent call last)\n",
      "\u001b[36mCell\u001b[39m\u001b[36m \u001b[39m\u001b[32mIn[25]\u001b[39m\u001b[32m, line 2\u001b[39m\n",
      "\u001b[32m      1\u001b[39m l = [\u001b[33m\"\u001b[39m\u001b[33ma\u001b[39m\u001b[33m\"\u001b[39m, \u001b[33m\"\u001b[39m\u001b[33mb\u001b[39m\u001b[33m\"\u001b[39m]\n",
      "\u001b[32m----> \u001b[39m\u001b[32m2\u001b[39m \u001b[43ml\u001b[49m\u001b[43m[\u001b[49m\u001b[32;43m2\u001b[39;49m\u001b[43m]\u001b[49m = \u001b[33m\"\u001b[39m\u001b[33mc\u001b[39m\u001b[33m\"\u001b[39m \u001b[38;5;66;03m# Questo procude un \"indexError\" perché si sta andando oltre la lunghezza della lista\u001b[39;00m\n",
      "\n",
      "\u001b[31mIndexError\u001b[39m: list assignment index out of range"
     ]
    }
   ],
   "source": [
    "l = [\"a\", \"b\"]\n",
    "l[2] = \"c\" # Questo procude un \"indexError\" perché si sta andando oltre la lunghezza della lista"
   ]
  },
  {
   "cell_type": "markdown",
   "id": "62207494",
   "metadata": {},
   "source": [
    "Se lo scopo è quello di **aggiungere** un elemento alla lista allora il modo corretto di farlo è quello di usare alcuni suoi **metodi** (spieghiamo magari dopo ma per ora tenete conto che sono \"funzioni\" proprietarie dell'oggetto)."
   ]
  },
  {
   "cell_type": "markdown",
   "id": "ac4b652c",
   "metadata": {},
   "source": [
    "La più utilizzata in assoluto è .append() che aggiunge un elemento alla fine della lista, del valore dato come parametro:"
   ]
  },
  {
   "cell_type": "code",
   "execution_count": null,
   "id": "e3e155d8",
   "metadata": {},
   "outputs": [
    {
     "name": "stdout",
     "output_type": "stream",
     "text": [
      "['a', 'b', 'c']\n"
     ]
    }
   ],
   "source": [
    "l = [\"a\", \"b\"]\n",
    "l.append(\"c\")\n",
    "\n",
    "print(l)"
   ]
  },
  {
   "cell_type": "markdown",
   "id": "1e0f738d",
   "metadata": {},
   "source": [
    "Per aggiungere un elemento in indice specifico si può usare il metodo **.insert(indice, valore)**. In questo modo il nuvo elemento viene inserito nella posizione indicata dall'indice e tutti gli elementi dopo (e quello che c'era li prima) vengono spostati automaticamente di una posizione a \"destra\" (+1).\n",
    "E' quasi sempre meglio usare append per questioni di efficienza e per altri motivi che vedremo più avanti ma in alcuni casi è necessario."
   ]
  },
  {
   "cell_type": "code",
   "execution_count": null,
   "id": "c4c0015f",
   "metadata": {},
   "outputs": [
    {
     "name": "stdout",
     "output_type": "stream",
     "text": [
      "['a', 'c', 'b']\n"
     ]
    }
   ],
   "source": [
    "l = [\"a\", \"b\"]\n",
    "l.insert(1, \"c\")\n",
    "print(l)"
   ]
  },
  {
   "cell_type": "markdown",
   "id": "e6a0c9bb",
   "metadata": {},
   "source": [
    "Per eliminare elementi nella lista invece, si possono usare 3 metodi proprietari delle liste + 1 metodo generico di python (da evitare)"
   ]
  },
  {
   "cell_type": "markdown",
   "id": "b2670bd7",
   "metadata": {},
   "source": [
    "- .pop(indice) -> Elimina l'elemento contenuto all'indice dato come parametro della lista che la chiama."
   ]
  },
  {
   "cell_type": "code",
   "execution_count": null,
   "id": "a23f0a73",
   "metadata": {},
   "outputs": [],
   "source": [
    "l = [\"a\", \"b\", \"c\"]\n",
    "l.pop(2)\n",
    "print(l)"
   ]
  },
  {
   "cell_type": "markdown",
   "id": "6e4caca2",
   "metadata": {},
   "source": [
    "- remove(valore) -> Elimina la prima **occorrenza** che trova nella lista rispetto al valore dato come parametro."
   ]
  },
  {
   "cell_type": "code",
   "execution_count": null,
   "id": "beb833b2",
   "metadata": {},
   "outputs": [],
   "source": [
    "l = [\"a\", \"b\", \"c\", \"b\"]\n",
    "l.remove(\"b\")\n",
    "print(l)"
   ]
  },
  {
   "cell_type": "markdown",
   "id": "47e4580c",
   "metadata": {},
   "source": [
    "- .clear() elimina tutti gli elementi dentro la lista."
   ]
  },
  {
   "cell_type": "code",
   "execution_count": null,
   "id": "224a59ac",
   "metadata": {},
   "outputs": [],
   "source": [
    "l = [\"a\", \"b\", \"c\"]\n",
    "l.clear()\n",
    "print(l)"
   ]
  },
  {
   "cell_type": "markdown",
   "id": "064fbdd4",
   "metadata": {},
   "source": [
    "- del variabile -> Questo metodo è generico di python. Elimina una variabile e di conseguenza volendo anche un elemento della lista."
   ]
  },
  {
   "cell_type": "code",
   "execution_count": null,
   "id": "b905b5ca",
   "metadata": {},
   "outputs": [],
   "source": [
    "l = [\"a\", \"b\", \"c\"]\n",
    "del l[0] # Da non usare quando una classe (come le liste) possiedono già dei metodi per eliminare elementi.\n",
    "print(l)"
   ]
  },
  {
   "cell_type": "markdown",
   "id": "5ba46f19",
   "metadata": {},
   "source": [
    "Menzioniamo anche la possibilità di utilizzare gli indici con valori negativi. Si usano per dire che si parte dalla fine della lista anziché dall'inizio.\n",
    "Attenzione perché in questo caso **\"-1\"** significa esattamente **\"il primo elemento alla fine della lista\"**"
   ]
  },
  {
   "cell_type": "code",
   "execution_count": null,
   "id": "afceb0c0",
   "metadata": {},
   "outputs": [],
   "source": [
    "print(l[-1])"
   ]
  },
  {
   "cell_type": "markdown",
   "id": "e16545ba",
   "metadata": {},
   "source": [
    "## Tuple"
   ]
  },
  {
   "cell_type": "markdown",
   "id": "fae99519",
   "metadata": {},
   "source": [
    "Le tuple sono delle **collections** come le liste ma con delle piccole differenze: sono immutabili (un po' come tra variabili e costanti).\n",
    "Una tupla, una volta che viene inizializzata, non può cambiare né come numero di elementi né possono cambiare gli elementi già presenti.\n",
    "Non esistono infatti funzioni tipo .append() o simili e se si prova a cambiare i valori degli elementi, python vi darà errore.\n",
    "Si inizializzano con parentesi tonde:"
   ]
  },
  {
   "cell_type": "code",
   "execution_count": null,
   "id": "ab2a18df",
   "metadata": {},
   "outputs": [],
   "source": [
    "t = (\"a\", \"b\", \"c\")\n",
    "print(t)"
   ]
  },
  {
   "cell_type": "code",
   "execution_count": null,
   "id": "645766c9",
   "metadata": {},
   "outputs": [],
   "source": [
    "t = (\"a\", \"b\", \"c\")\n",
    "t[0] = \"d\" # Questo darà errore: TypeError: 'tuple' object does not support item assignment"
   ]
  },
  {
   "cell_type": "markdown",
   "id": "d6cc03c9",
   "metadata": {},
   "source": [
    "Ma essendo comunque una collezione ordinata di elementi è possibile accederci (in sola lettura) tramite indici:"
   ]
  },
  {
   "cell_type": "code",
   "execution_count": null,
   "id": "ebd6e85c",
   "metadata": {},
   "outputs": [],
   "source": [
    "t = (\"a\", \"b\", \"c\")\n",
    "print(s[0])"
   ]
  },
  {
   "cell_type": "markdown",
   "id": "720bb9da",
   "metadata": {},
   "source": [
    "## Set"
   ]
  },
  {
   "cell_type": "markdown",
   "id": "8c9b45d2",
   "metadata": {},
   "source": [
    "Anche loro sono iterabili. Si tratta di una \"Collezione non ordinata e mutabile di elementi unici\". Quindi possono mutare come le liste ma **non possono contenere valori duplicati** (che è la caratteristica più importante) e in più **non sono ordinati**:"
   ]
  },
  {
   "cell_type": "markdown",
   "id": "aad53682",
   "metadata": {},
   "source": [
    "Si inizializza con le parentesi graffe separando gli elementi con la virgola:"
   ]
  },
  {
   "cell_type": "code",
   "execution_count": null,
   "id": "e4da78de",
   "metadata": {},
   "outputs": [],
   "source": [
    "s = {\"ciao\", 2, 1.2}\n",
    "print(s)"
   ]
  },
  {
   "cell_type": "markdown",
   "id": "87347c33",
   "metadata": {},
   "source": [
    "\"Non possono contenere duplicati\" e \"sono mutabili\""
   ]
  },
  {
   "cell_type": "code",
   "execution_count": 1,
   "id": "84670110",
   "metadata": {},
   "outputs": [
    {
     "name": "stdout",
     "output_type": "stream",
     "text": [
      "{1.2, 2, 'ciao', 'Matteo'}\n"
     ]
    }
   ],
   "source": [
    "s = {\"ciao\", 2, 1.2}\n",
    "s.add(\"ciao\")\n",
    "s.add(2)\n",
    "s.add(\"Matteo\")\n",
    "print(s)"
   ]
  },
  {
   "cell_type": "markdown",
   "id": "b6eac16e",
   "metadata": {},
   "source": [
    "\"Non sono ordinati\""
   ]
  },
  {
   "cell_type": "code",
   "execution_count": null,
   "id": "385db8fa",
   "metadata": {},
   "outputs": [],
   "source": [
    "s = {\"ciao\", 2, 1.2}\n",
    "print(s[0]) # Errore: 'set' object is not subscriptable"
   ]
  },
  {
   "cell_type": "markdown",
   "id": "9dfb287f",
   "metadata": {},
   "source": [
    "A cosa sono davvero utili?\n",
    "A fare una cosa di questo tipo:"
   ]
  },
  {
   "cell_type": "code",
   "execution_count": null,
   "id": "c6c6da71",
   "metadata": {},
   "outputs": [],
   "source": [
    "l = [\"a\", \"b\", \"c\", \"c\", \"b\", \"a\"]\n",
    "# Ci serve avere i valori \"unici\" contenuti nella lista.\n",
    "# Per farlo solo con le liste sarebbe stato un po' complicato, ma se usiamo il casting a set...\n",
    "s = set(l)\n",
    "print(s)"
   ]
  },
  {
   "cell_type": "markdown",
   "id": "ddfc12ee",
   "metadata": {},
   "source": [
    "# Cicli"
   ]
  },
  {
   "cell_type": "markdown",
   "id": "f9f8d130",
   "metadata": {},
   "source": [
    "Cicli o loop servono in programmazione per ripere blocchi di codice. \n",
    "Per scrivere un ciclo, phyton ci dà a disposizione while() e for()."
   ]
  },
  {
   "cell_type": "markdown",
   "id": "01b0c832",
   "metadata": {},
   "source": [
    "### While"
   ]
  },
  {
   "cell_type": "markdown",
   "id": "4a10c31c",
   "metadata": {},
   "source": [
    "Costrutto di base: **while(condizione):**\n",
    "Finché la condizione che viene fornita come parametro è True, il codice al suo interno verrà eseguito."
   ]
  },
  {
   "cell_type": "code",
   "execution_count": null,
   "id": "a71e100b",
   "metadata": {},
   "outputs": [],
   "source": [
    "#Non fatelo partire pls\n",
    "\n",
    "condizione = True\n",
    "\n",
    "while condizione:\n",
    "    print(\"riga uno del blocco\")\n",
    "    print(\"riga due del blocco\")"
   ]
  },
  {
   "cell_type": "markdown",
   "id": "b21fdb3f",
   "metadata": {},
   "source": [
    "Per specificare le righe di codice da eseguire all'interno dello **scope** del ciclo while (ma anche per altri costrutti che eseguono pezzi di codice) si usa **l'indentazione**, cioè un numero di spazi pari a un \"tab\" (di solito 4 spazi ma si può modificare)."
   ]
  },
  {
   "cell_type": "markdown",
   "id": "3be8faea",
   "metadata": {},
   "source": [
    "Importanza di un **Controllo della condizione di uscita**:"
   ]
  },
  {
   "cell_type": "code",
   "execution_count": 4,
   "id": "bfa0b1a4",
   "metadata": {},
   "outputs": [
    {
     "name": "stdout",
     "output_type": "stream",
     "text": [
      "0\n",
      "1\n",
      "2\n",
      "3\n",
      "4\n",
      "5\n",
      "6\n",
      "7\n",
      "8\n",
      "9\n"
     ]
    }
   ],
   "source": [
    "count = 0\n",
    "while count < 10:\n",
    "    print(count)\n",
    "    count = count + 1 # si può scrivere anche count += 1"
   ]
  },
  {
   "cell_type": "markdown",
   "id": "cf07ba6e",
   "metadata": {},
   "source": [
    "Esempio di utilizzo di while() nell'esercizio precedentemente svolto."
   ]
  },
  {
   "cell_type": "code",
   "execution_count": null,
   "id": "a1cfbc6e",
   "metadata": {},
   "outputs": [],
   "source": [
    "name = input(\"Insert name: \")\n",
    "surname = input(\"Inserisci il cognome: \")\n",
    "age = int(input(\"Inserisci l'etá: \"))\n",
    "\n",
    "while len(name) <= 1 or len(surname) <= 1 or age < 18:\n",
    "    print(\"Something is wrong\")\n",
    "    name = input(\"Insert name: \")\n",
    "    surname = input(\"Inserisci il cognome: \")\n",
    "    age = int(input(\"Inserisci l'etá: \"))\n",
    "\n",
    "print(\"All is correct\")"
   ]
  },
  {
   "cell_type": "markdown",
   "id": "d9fc8df0",
   "metadata": {},
   "source": [
    "Da notare che la condizione può essere il risultato di un'operazione booleana più complessa.\n",
    "In questi casi un pò come accade con l'equazioni in matematica, risolvete mentalmente nell'ordine corretto le varie operazioni fino ad ottenere il risultato finale che sarà un True o un False e a quel punto saprete se il ciclo while verrà eseguito o saltato."
   ]
  },
  {
   "cell_type": "markdown",
   "id": "6ed02e47",
   "metadata": {},
   "source": [
    "### For"
   ]
  },
  {
   "cell_type": "markdown",
   "id": "e55d44a3",
   "metadata": {},
   "source": [
    "Altro costrutto per creare un loop sono i for.\n",
    "\n",
    "N.b: Tutto ciò che si fa con un while si può fare anche con un for e viceversa... si tratta solo di comodità in base a quello che si vuole \n",
    "fare.\n",
    "\n",
    "Il for loop è più comodo quando si vuole **iterare** una lista o da un altro oggetto **iterabile**, perché permette di estrarre automaticamente un elemento alla volta ad ogni ciclo:"
   ]
  },
  {
   "cell_type": "code",
   "execution_count": null,
   "id": "c6b7fa77",
   "metadata": {},
   "outputs": [
    {
     "name": "stdout",
     "output_type": "stream",
     "text": [
      "a\n",
      "b\n",
      "c\n"
     ]
    }
   ],
   "source": [
    "my_list = [\"a\", \"b\", \"c\"]\n",
    "for element in my_list: #element sarà l'elemento my_list[0] durante il primo ciclo, my_list[1] durante il secondo etc...\n",
    "    print(element)"
   ]
  },
  {
   "cell_type": "markdown",
   "id": "a378fec4",
   "metadata": {},
   "source": [
    "come già detto, si può fare anche con il while ma si deve gestire manualmente un indice per poter accedere ai suoi elementi ad ogni ciclo:"
   ]
  },
  {
   "cell_type": "code",
   "execution_count": null,
   "id": "03a6a1ef",
   "metadata": {},
   "outputs": [],
   "source": [
    "my_list = [\"a\", \"b\", \"c\"]\n",
    "\n",
    "i = 0\n",
    "while i < len(my_list):\n",
    "    print(my_list[i])\n",
    "    i += 1"
   ]
  },
  {
   "cell_type": "markdown",
   "id": "b2ac1f73",
   "metadata": {},
   "source": [
    "Piccola parentesi sull'utilizzo di range(). Tramite range possiamo estrarre una sequenza di numeri che vengono inseriti in una lista."
   ]
  },
  {
   "cell_type": "markdown",
   "id": "2495e936",
   "metadata": {},
   "source": [
    "Se viene dato un solo parametro alla creazione di un oggetto di tipo range allora quello creerà una lista ordinata che parte da 0 e arriva al numero indicato (NON COMPRESO)"
   ]
  },
  {
   "cell_type": "code",
   "execution_count": null,
   "id": "8fb9b9f7",
   "metadata": {},
   "outputs": [
    {
     "name": "stdout",
     "output_type": "stream",
     "text": [
      "[0, 1, 2, 3, 4]\n"
     ]
    }
   ],
   "source": [
    "r = range(5)\n",
    "print(list(r))  # Per stampare correttamente un oggetto range è meglio usare il cast list(). Serve solo a far vedere cosa contiene."
   ]
  },
  {
   "cell_type": "markdown",
   "id": "c0fe6629",
   "metadata": {},
   "source": [
    "Mentre se gli si danno 2 parametri numerici allora la lista di numeri partirà dal primo dato (COMPRESO) fino all'ultimo (NON COMPRESO)"
   ]
  },
  {
   "cell_type": "code",
   "execution_count": 26,
   "id": "5e50c24c",
   "metadata": {},
   "outputs": [
    {
     "name": "stdout",
     "output_type": "stream",
     "text": [
      "[5, 6, 7, 8, 9]\n"
     ]
    }
   ],
   "source": [
    "r = range(5, 10)\n",
    "print(list(r))  # Per stampare correttamente un oggetto range è meglio usare il cast list(). Serve solo a far vedere cosa contiene."
   ]
  },
  {
   "cell_type": "markdown",
   "id": "e6be76a7",
   "metadata": {},
   "source": [
    "Ritornando alle liste... tramite la funzinoe len() su una lista abbiamo un numero intero che ci dice quanto è lunga la lista... quindi se lo usiamo per creare un oggetto di tipo range...:"
   ]
  },
  {
   "cell_type": "code",
   "execution_count": null,
   "id": "853fe9fa",
   "metadata": {},
   "outputs": [],
   "source": [
    "my_list = [\"a\", \"b\", \"c\"]\n",
    "r = range(len(my_list))\n",
    "print(r)\n",
    "print(list(r))"
   ]
  },
  {
   "cell_type": "markdown",
   "id": "68818d07",
   "metadata": {},
   "source": [
    "Da quello che abbiamo visto fino ad ora dei cicli, verrebbe da dire che però con il while si può tenere traccia dell'indice all'interno di un ciclo e questo può essere effettivamente utile in alcuni casi. Ma si può fare anche con il for tramite range():"
   ]
  },
  {
   "cell_type": "code",
   "execution_count": null,
   "id": "9179bcf3",
   "metadata": {},
   "outputs": [],
   "source": [
    "my_list = [\"a\", \"b\", \"c\"]\n",
    "for i in range(len(my_list)):\n",
    "    print(\"Questo è il ciclo numero\", i, \"e questo è l'elemento dentro la lista:\", my_list[i])"
   ]
  },
  {
   "cell_type": "markdown",
   "id": "984e0aef",
   "metadata": {},
   "source": [
    "Nota importante: l'elemento estratto dall'iterabile nel ciclo for è solo una copia non l'elemento effettivamente contenuto. Questo vuol dire che modificarlo non avrà effetto sull'iterabile:"
   ]
  },
  {
   "cell_type": "code",
   "execution_count": null,
   "id": "e6b00f7a",
   "metadata": {},
   "outputs": [],
   "source": [
    "my_list = [\"a\", \"b\", \"c\"]\n",
    "for element in my_list:\n",
    "    element = \"z\"\n",
    "print(my_list)"
   ]
  },
  {
   "cell_type": "markdown",
   "id": "bae06937",
   "metadata": {},
   "source": [
    "Se vogliamo modificare l'elemento contenuto dall'iterabile, dobbiamo accederci, quindi potrebbe essere il caso di portarci dietro l'indice con range():"
   ]
  },
  {
   "cell_type": "code",
   "execution_count": null,
   "id": "b99250f5",
   "metadata": {},
   "outputs": [],
   "source": [
    "my_list = [\"a\", \"b\", \"c\"]\n",
    "for i in range(len(my_list)):\n",
    "    my_list[i] = \"z\"\n",
    "print(my_list)"
   ]
  },
  {
   "cell_type": "markdown",
   "id": "6e7241b7",
   "metadata": {},
   "source": [
    "L'utilizzo degli indici può essere utile ad esempio per scorrere contemporaneamente 2 liste di uguale dimensione:\n",
    "(Nota: da ora in poi userò le \"fstring\". Anziché concatenare stringhe o usare \",\" all'interno della print è possibile creare\n",
    "una stringa che contiene variabili tutta in un colpo. Basta usare f prima delle virgolette tipiche delle stringhe: f\"\" e poi\n",
    "al suo interno usare le parentesi quadre per dire \"stampa una variabile che si chiama così\")"
   ]
  },
  {
   "cell_type": "code",
   "execution_count": null,
   "id": "ce480e4b",
   "metadata": {},
   "outputs": [],
   "source": [
    "colonna_nomi    = [\"Matteo\", \"Alessia\", \"Arianna\", \"Lorenzo\"]\n",
    "colonna_cognomi = [\"Calautti\", \"Murano\", \"Peralti\", \"Dalla Rosa\"]\n",
    "\n",
    "#Printiamo Nome e Cognome di ogni persona:\n",
    "\n",
    "for i in range(len(colonna_nomi)):\n",
    "    nome = colonna_nomi[i]\n",
    "    cognome = colonna_cognomi[i]\n",
    "    print(f\"Ciao {nome} {cognome}! Sei il {i+1}° della lista.\")"
   ]
  },
  {
   "cell_type": "markdown",
   "id": "f97d8def",
   "metadata": {},
   "source": [
    "Questo è il metodo \"classico\" che praticamente tutti i linguaggi di programmazione si adotta per risolvere questi tipi di problemi.\n",
    "Ve l'ho mostrato perché didatticamente importante e vi aiuta ad impare ad accedere correttamente agli elementi delle liste.\n",
    "In python però si utilizza una classe fatta a posta (tipo range) che è..... zip():"
   ]
  },
  {
   "cell_type": "code",
   "execution_count": null,
   "id": "9e08ff0d",
   "metadata": {},
   "outputs": [],
   "source": [
    "colonna_nomi    = [\"Matteo\", \"Alessia\", \"Arianna\", \"Lorenzo\"]\n",
    "colonna_cognomi = [\"Calautti\", \"Murano\", \"Peralti\", \"Dalla Rosa\"]\n",
    "\n",
    "nome_cognome = zip(colonna_nomi, colonna_cognomi) # Otteniamo una lista di tuple: [(nome, cognome), ....]\n",
    "print(nome_cognome)\n",
    "print(list(nome_cognome)) #faccio il cast a list solo per avere una print decente"
   ]
  },
  {
   "cell_type": "markdown",
   "id": "2ba9540b",
   "metadata": {},
   "source": [
    "All'interno di un for si può usare un po' come range ma bisogna dare 2 variabili da riempire.\n",
    "In questo modo avremmo che gli elementi della prima lista inserita nello zip verranno inseriti nella prima variabile data al for e così via..."
   ]
  },
  {
   "cell_type": "code",
   "execution_count": null,
   "id": "f5dde10e",
   "metadata": {},
   "outputs": [],
   "source": [
    "#Stesso esempio di prima...\n",
    "\n",
    "colonna_nomi    = [\"Matteo\", \"Alessia\", \"Arianna\", \"Lorenzo\"]\n",
    "colonna_cognomi = [\"Calautti\", \"Murano\", \"Peralti\", \"Dalla Rosa\"]\n",
    "\n",
    "for nome, cognome in zip(colonna_nomi, colonna_nomi):\n",
    "    print(f\"Ciao {nome} {cognome}! Sei il {i+1}° della lista.\")"
   ]
  },
  {
   "cell_type": "markdown",
   "id": "123924a1",
   "metadata": {},
   "source": [
    "# Esercizio di fine modulo"
   ]
  },
  {
   "cell_type": "markdown",
   "id": "0199ebbb",
   "metadata": {},
   "source": [
    "Scrivere un programma che:\n",
    "- Chiedere all'utente 5 numeri da inserire in una lista\n",
    "- Chiedere all'utente altri 5 numeri da inserire in una seconda lista\n",
    "- Creare una terza lista che contiene la somma degli elementi nelle stesse posizioni delle due liste\n",
    "(esempio somma il primo elemento della prima e della seconda lista e lo inserisce come primo elemento nella terza lista)\n",
    "- Stampare il risultato"
   ]
  },
  {
   "cell_type": "markdown",
   "id": "52f3ab0b",
   "metadata": {},
   "source": [
    "<details>\n",
    "  <summary>Mostra soluzione</summary>\n",
    "\n",
    "```python\n",
    "lista_1 = []\n",
    "for i in range(1, 6):\n",
    "    lista_1.append(int(input(\"Inserire il \" + str(i) + \"° numero da inserire nella prima lista: \")))\n",
    "lista_2 = []\n",
    "for i in range(1, 6):\n",
    "    lista_2.append(int(input(\"Inserire il \" + str(i) + \"° numero da inserire nella seconda lista: \")))\n",
    "\n",
    "lista_3 = []\n",
    "for i in range(lista_1):\n",
    "    lista_3.append(lista_1[i] + lista_2[i])\n",
    "\n",
    "print(lista_3)\n",
    "```\n",
    "</details>"
   ]
  }
 ],
 "metadata": {
  "kernelspec": {
   "display_name": ".venv",
   "language": "python",
   "name": "python3"
  },
  "language_info": {
   "codemirror_mode": {
    "name": "ipython",
    "version": 3
   },
   "file_extension": ".py",
   "mimetype": "text/x-python",
   "name": "python",
   "nbconvert_exporter": "python",
   "pygments_lexer": "ipython3",
   "version": "3.13.2"
  }
 },
 "nbformat": 4,
 "nbformat_minor": 5
}
