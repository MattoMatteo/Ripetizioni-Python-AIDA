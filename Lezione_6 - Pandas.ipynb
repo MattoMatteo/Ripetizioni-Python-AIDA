{
 "cells": [
  {
   "cell_type": "markdown",
   "id": "80796bae",
   "metadata": {},
   "source": [
    "# Pandas"
   ]
  },
  {
   "cell_type": "markdown",
   "id": "0f0e4995",
   "metadata": {},
   "source": [
    "Pandas è la libreria che userete per manipolare i dati.  \n",
    "Non è una libreria base di python, quindi dovrete installarla tramite il comando \"pip install pandas\" che potete effettuare da terminale o tramite una cella di code qui sul notebook.  \n",
    "N.B: Vi ricordo e consiglio di assicurarvi di aver creato il vostro venv prima!"
   ]
  },
  {
   "cell_type": "code",
   "execution_count": null,
   "id": "23aaa692",
   "metadata": {},
   "outputs": [],
   "source": [
    "pip install pandas"
   ]
  },
  {
   "cell_type": "markdown",
   "id": "88305585",
   "metadata": {},
   "source": [
    "### Caricare Dataset e funzioni di base di controllo"
   ]
  },
  {
   "cell_type": "markdown",
   "id": "a2d5cae6",
   "metadata": {},
   "source": [
    "Come caricare un \"data set\" e cioè i dati all'interno di una tabella."
   ]
  },
  {
   "cell_type": "code",
   "execution_count": null,
   "id": "348a4dc7",
   "metadata": {},
   "outputs": [
    {
     "name": "stdout",
     "output_type": "stream",
     "text": [
      "<class 'pandas.core.frame.DataFrame'>\n"
     ]
    }
   ],
   "source": [
    "import pandas as pd #Carichiamo la libreria di pandas per poterla usare. Per convenzione si usa l'abbreviazione pd\n",
    "\n",
    "df = pd.read_csv(\"remote_postings_clean.csv\")   # Carichiamo una tabella in formato csv presente sul vostro pc\n",
    "print(type(df))"
   ]
  },
  {
   "cell_type": "markdown",
   "id": "efdb5c4c",
   "metadata": {},
   "source": [
    "otteniamo un oggetto di tipo \"DataFrame\" che è il tipo che pandas usa per le sue tabelle"
   ]
  },
  {
   "cell_type": "markdown",
   "id": "25cac04a",
   "metadata": {},
   "source": [
    "Una volta caricati i dati all'interno di un DataFrame, vediamo i primi metodi che si possono usare:"
   ]
  },
  {
   "cell_type": "code",
   "execution_count": null,
   "id": "06750522",
   "metadata": {},
   "outputs": [],
   "source": [
    "df.info()\n",
    "# Direi sempre la prima cosa da fare. Ci dice quante righe/colonne e ogni colonna di che tipo di dati contiene\n",
    "# ci dice anche ogni colonna se presenta dei valori mancanti e quanti. E' già una prima analisi da fare!"
   ]
  },
  {
   "cell_type": "code",
   "execution_count": null,
   "id": "5ef9ed83",
   "metadata": {},
   "outputs": [],
   "source": [
    "df.head()\n",
    "# Ci stampa in formato tabellare le prime 5 righe. Se inseriamo un numero come parametro possiamo modificare il n di righe\n",
    "# esempio: df.head(10)"
   ]
  },
  {
   "cell_type": "code",
   "execution_count": null,
   "id": "7480d871",
   "metadata": {},
   "outputs": [],
   "source": [
    "df.tails()\n",
    "# Uguale a head ma stampa le ultime 5 righe."
   ]
  },
  {
   "cell_type": "code",
   "execution_count": null,
   "id": "c0d827d4",
   "metadata": {},
   "outputs": [],
   "source": [
    "df.sample()\n",
    "# Uguale a head ma di base stampa 1 sola riga e inoltre non prende le prime o le ultime ma una a caso!\n",
    "# Anche qui si può specificare quante: df.sample(5)"
   ]
  },
  {
   "cell_type": "markdown",
   "id": "8bd4a13b",
   "metadata": {},
   "source": [
    "Tramite \"iloc\" possiamo stampare la riga che vogliamo indicando il suo indice, esempio la 2"
   ]
  },
  {
   "cell_type": "code",
   "execution_count": null,
   "id": "8ce8079a",
   "metadata": {},
   "outputs": [
    {
     "data": {
      "text/plain": [
       "Year            2013\n",
       "IdCountry         IT\n",
       "IdCity          1007\n",
       "City         Alpette\n",
       "%             0,000%\n",
       "Name: 2, dtype: object"
      ]
     },
     "metadata": {},
     "output_type": "display_data"
    }
   ],
   "source": [
    "df.iloc[2]  # con .iloc[] "
   ]
  },
  {
   "cell_type": "markdown",
   "id": "f6d90455",
   "metadata": {},
   "source": [
    "prevede l'utilizzo dello slice come le liste o le stringhe e quindi stampare una serie di righe"
   ]
  },
  {
   "cell_type": "code",
   "execution_count": null,
   "id": "025b45d7",
   "metadata": {},
   "outputs": [
    {
     "data": {
      "text/html": [
       "<div>\n",
       "<style scoped>\n",
       "    .dataframe tbody tr th:only-of-type {\n",
       "        vertical-align: middle;\n",
       "    }\n",
       "\n",
       "    .dataframe tbody tr th {\n",
       "        vertical-align: top;\n",
       "    }\n",
       "\n",
       "    .dataframe thead th {\n",
       "        text-align: right;\n",
       "    }\n",
       "</style>\n",
       "<table border=\"1\" class=\"dataframe\">\n",
       "  <thead>\n",
       "    <tr style=\"text-align: right;\">\n",
       "      <th></th>\n",
       "      <th>Year</th>\n",
       "      <th>IdCountry</th>\n",
       "      <th>IdCity</th>\n",
       "      <th>City</th>\n",
       "      <th>%</th>\n",
       "    </tr>\n",
       "  </thead>\n",
       "  <tbody>\n",
       "    <tr>\n",
       "      <th>0</th>\n",
       "      <td>2013</td>\n",
       "      <td>IT</td>\n",
       "      <td>1002</td>\n",
       "      <td>Airasca</td>\n",
       "      <td>0,000%</td>\n",
       "    </tr>\n",
       "    <tr>\n",
       "      <th>1</th>\n",
       "      <td>2013</td>\n",
       "      <td>IT</td>\n",
       "      <td>1006</td>\n",
       "      <td>Almese</td>\n",
       "      <td>0,000%</td>\n",
       "    </tr>\n",
       "    <tr>\n",
       "      <th>2</th>\n",
       "      <td>2013</td>\n",
       "      <td>IT</td>\n",
       "      <td>1007</td>\n",
       "      <td>Alpette</td>\n",
       "      <td>0,000%</td>\n",
       "    </tr>\n",
       "    <tr>\n",
       "      <th>3</th>\n",
       "      <td>2013</td>\n",
       "      <td>IT</td>\n",
       "      <td>1008</td>\n",
       "      <td>Alpignano</td>\n",
       "      <td>0,000%</td>\n",
       "    </tr>\n",
       "    <tr>\n",
       "      <th>4</th>\n",
       "      <td>2013</td>\n",
       "      <td>IT</td>\n",
       "      <td>1013</td>\n",
       "      <td>Avigliana</td>\n",
       "      <td>0,000%</td>\n",
       "    </tr>\n",
       "  </tbody>\n",
       "</table>\n",
       "</div>"
      ],
      "text/plain": [
       "   Year IdCountry  IdCity       City       %\n",
       "0  2013        IT    1002    Airasca  0,000%\n",
       "1  2013        IT    1006     Almese  0,000%\n",
       "2  2013        IT    1007    Alpette  0,000%\n",
       "3  2013        IT    1008  Alpignano  0,000%\n",
       "4  2013        IT    1013  Avigliana  0,000%"
      ]
     },
     "metadata": {},
     "output_type": "display_data"
    }
   ],
   "source": [
    "df.iloc[:5]"
   ]
  },
  {
   "cell_type": "markdown",
   "id": "7f464cc4",
   "metadata": {},
   "source": [
    "Possiamo aggiungere un secondo parametro che sarà l'indice della colonna.  \n",
    "In questo modo, di fatto, si stampa il valore contenuto in una cella"
   ]
  },
  {
   "cell_type": "code",
   "execution_count": null,
   "id": "1f278122",
   "metadata": {},
   "outputs": [
    {
     "data": {
      "text/plain": [
       "'IT'"
      ]
     },
     "metadata": {},
     "output_type": "display_data"
    }
   ],
   "source": [
    "df.iloc[0, 1]"
   ]
  },
  {
   "cell_type": "markdown",
   "id": "6677a14c",
   "metadata": {},
   "source": [
    "Se non vogliamo usare gli indici numerici riferiti alle colonne, possiamo usare la sua versione \"loc\":"
   ]
  },
  {
   "cell_type": "code",
   "execution_count": null,
   "id": "46341485",
   "metadata": {},
   "outputs": [
    {
     "data": {
      "text/plain": [
       "'IT'"
      ]
     },
     "metadata": {},
     "output_type": "display_data"
    }
   ],
   "source": [
    "df.loc[0, \"IdCountry\"]"
   ]
  },
  {
   "cell_type": "markdown",
   "id": "ad723cd9",
   "metadata": {},
   "source": [
    "Ecco un esempio con tutti questi concetti dentro:"
   ]
  },
  {
   "cell_type": "code",
   "execution_count": null,
   "id": "f9be62a1",
   "metadata": {},
   "outputs": [
    {
     "data": {
      "text/html": [
       "<div>\n",
       "<style scoped>\n",
       "    .dataframe tbody tr th:only-of-type {\n",
       "        vertical-align: middle;\n",
       "    }\n",
       "\n",
       "    .dataframe tbody tr th {\n",
       "        vertical-align: top;\n",
       "    }\n",
       "\n",
       "    .dataframe thead th {\n",
       "        text-align: right;\n",
       "    }\n",
       "</style>\n",
       "<table border=\"1\" class=\"dataframe\">\n",
       "  <thead>\n",
       "    <tr style=\"text-align: right;\">\n",
       "      <th></th>\n",
       "      <th>IdCountry</th>\n",
       "      <th>IdCity</th>\n",
       "    </tr>\n",
       "  </thead>\n",
       "  <tbody>\n",
       "    <tr>\n",
       "      <th>0</th>\n",
       "      <td>IT</td>\n",
       "      <td>1002</td>\n",
       "    </tr>\n",
       "    <tr>\n",
       "      <th>1</th>\n",
       "      <td>IT</td>\n",
       "      <td>1006</td>\n",
       "    </tr>\n",
       "    <tr>\n",
       "      <th>2</th>\n",
       "      <td>IT</td>\n",
       "      <td>1007</td>\n",
       "    </tr>\n",
       "    <tr>\n",
       "      <th>3</th>\n",
       "      <td>IT</td>\n",
       "      <td>1008</td>\n",
       "    </tr>\n",
       "    <tr>\n",
       "      <th>4</th>\n",
       "      <td>IT</td>\n",
       "      <td>1013</td>\n",
       "    </tr>\n",
       "  </tbody>\n",
       "</table>\n",
       "</div>"
      ],
      "text/plain": [
       "  IdCountry  IdCity\n",
       "0        IT    1002\n",
       "1        IT    1006\n",
       "2        IT    1007\n",
       "3        IT    1008\n",
       "4        IT    1013"
      ]
     },
     "metadata": {},
     "output_type": "display_data"
    }
   ],
   "source": [
    "df.loc[:4, [\"IdCountry\", \"IdCity\"] ] # Stampa prime 5 righe con la lista di colonne data"
   ]
  },
  {
   "cell_type": "markdown",
   "id": "738524c6",
   "metadata": {},
   "source": [
    "Un modo più comune di filtrare le colonne da usare è direttamente inserire dentro le parentesi quadre una lista di stringhe che si riferiscono alle colonne:"
   ]
  },
  {
   "cell_type": "code",
   "execution_count": null,
   "id": "22f5649c",
   "metadata": {},
   "outputs": [
    {
     "data": {
      "text/html": [
       "<div>\n",
       "<style scoped>\n",
       "    .dataframe tbody tr th:only-of-type {\n",
       "        vertical-align: middle;\n",
       "    }\n",
       "\n",
       "    .dataframe tbody tr th {\n",
       "        vertical-align: top;\n",
       "    }\n",
       "\n",
       "    .dataframe thead th {\n",
       "        text-align: right;\n",
       "    }\n",
       "</style>\n",
       "<table border=\"1\" class=\"dataframe\">\n",
       "  <thead>\n",
       "    <tr style=\"text-align: right;\">\n",
       "      <th></th>\n",
       "      <th>IdCountry</th>\n",
       "      <th>IdCity</th>\n",
       "    </tr>\n",
       "  </thead>\n",
       "  <tbody>\n",
       "    <tr>\n",
       "      <th>0</th>\n",
       "      <td>IT</td>\n",
       "      <td>1002</td>\n",
       "    </tr>\n",
       "    <tr>\n",
       "      <th>1</th>\n",
       "      <td>IT</td>\n",
       "      <td>1006</td>\n",
       "    </tr>\n",
       "    <tr>\n",
       "      <th>2</th>\n",
       "      <td>IT</td>\n",
       "      <td>1007</td>\n",
       "    </tr>\n",
       "    <tr>\n",
       "      <th>3</th>\n",
       "      <td>IT</td>\n",
       "      <td>1008</td>\n",
       "    </tr>\n",
       "    <tr>\n",
       "      <th>4</th>\n",
       "      <td>IT</td>\n",
       "      <td>1013</td>\n",
       "    </tr>\n",
       "  </tbody>\n",
       "</table>\n",
       "</div>"
      ],
      "text/plain": [
       "  IdCountry  IdCity\n",
       "0        IT    1002\n",
       "1        IT    1006\n",
       "2        IT    1007\n",
       "3        IT    1008\n",
       "4        IT    1013"
      ]
     },
     "metadata": {},
     "output_type": "display_data"
    }
   ],
   "source": [
    "df[ [\"IdCountry\", \"IdCity\"]  ].head() # Ho lasciato degli spazi per far vedere chiaramente che sono 2 coppie di parentesi quadre"
   ]
  },
  {
   "cell_type": "markdown",
   "id": "fbd3a9e9",
   "metadata": {},
   "source": [
    "In generale, quando dovete filtrare:\n",
    "- Solo righe o Righe+colonne -> iloc[] / loc[]\n",
    "- Solo Colonne -> le parentesi quadre ( df[colonne] )"
   ]
  },
  {
   "cell_type": "markdown",
   "id": "981c075f",
   "metadata": {},
   "source": [
    "### Operazioni base di modifica"
   ]
  },
  {
   "cell_type": "markdown",
   "id": "a011a126",
   "metadata": {},
   "source": [
    "Pandas molto spesso si comporta in modo simile ai classici dizionari.  \n",
    "Ad esempio se volete creare una nuova colonna e assegnare dei valori si può fare come i dizionari, quindi  \n",
    "richiamando il df con la \"chiave\" della colonna e assegnare un valore.  \n",
    "Se la chiave esiste (quindi la colonna esiste) allora i valori all'interno verranno modificati e sostituti a quelli già esistenti.  \n",
    "Se la chiave non esiste (e quindi una nuova colonna), verrà creata automaticamente con i valori richiesti:"
   ]
  },
  {
   "cell_type": "code",
   "execution_count": null,
   "id": "079bd97d",
   "metadata": {},
   "outputs": [
    {
     "data": {
      "text/html": [
       "<div>\n",
       "<style scoped>\n",
       "    .dataframe tbody tr th:only-of-type {\n",
       "        vertical-align: middle;\n",
       "    }\n",
       "\n",
       "    .dataframe tbody tr th {\n",
       "        vertical-align: top;\n",
       "    }\n",
       "\n",
       "    .dataframe thead th {\n",
       "        text-align: right;\n",
       "    }\n",
       "</style>\n",
       "<table border=\"1\" class=\"dataframe\">\n",
       "  <thead>\n",
       "    <tr style=\"text-align: right;\">\n",
       "      <th></th>\n",
       "      <th>Year</th>\n",
       "      <th>IdCountry</th>\n",
       "      <th>IdCity</th>\n",
       "      <th>City</th>\n",
       "      <th>%</th>\n",
       "      <th>nuova_colonna_1</th>\n",
       "      <th>nuova_colonna_2</th>\n",
       "      <th>nuova_colonna_3</th>\n",
       "    </tr>\n",
       "  </thead>\n",
       "  <tbody>\n",
       "    <tr>\n",
       "      <th>0</th>\n",
       "      <td>2013</td>\n",
       "      <td>IT</td>\n",
       "      <td>1002</td>\n",
       "      <td>Airasca</td>\n",
       "      <td>0,000%</td>\n",
       "      <td>0</td>\n",
       "      <td>0</td>\n",
       "      <td>0</td>\n",
       "    </tr>\n",
       "    <tr>\n",
       "      <th>1</th>\n",
       "      <td>2013</td>\n",
       "      <td>IT</td>\n",
       "      <td>1006</td>\n",
       "      <td>Almese</td>\n",
       "      <td>0,000%</td>\n",
       "      <td>0</td>\n",
       "      <td>0</td>\n",
       "      <td>0</td>\n",
       "    </tr>\n",
       "    <tr>\n",
       "      <th>2</th>\n",
       "      <td>2013</td>\n",
       "      <td>IT</td>\n",
       "      <td>1007</td>\n",
       "      <td>Alpette</td>\n",
       "      <td>0,000%</td>\n",
       "      <td>0</td>\n",
       "      <td>0</td>\n",
       "      <td>0</td>\n",
       "    </tr>\n",
       "    <tr>\n",
       "      <th>3</th>\n",
       "      <td>2013</td>\n",
       "      <td>IT</td>\n",
       "      <td>1008</td>\n",
       "      <td>Alpignano</td>\n",
       "      <td>0,000%</td>\n",
       "      <td>0</td>\n",
       "      <td>0</td>\n",
       "      <td>0</td>\n",
       "    </tr>\n",
       "    <tr>\n",
       "      <th>4</th>\n",
       "      <td>2013</td>\n",
       "      <td>IT</td>\n",
       "      <td>1013</td>\n",
       "      <td>Avigliana</td>\n",
       "      <td>0,000%</td>\n",
       "      <td>0</td>\n",
       "      <td>0</td>\n",
       "      <td>0</td>\n",
       "    </tr>\n",
       "  </tbody>\n",
       "</table>\n",
       "</div>"
      ],
      "text/plain": [
       "   Year IdCountry  IdCity       City       %  nuova_colonna_1  \\\n",
       "0  2013        IT    1002    Airasca  0,000%                0   \n",
       "1  2013        IT    1006     Almese  0,000%                0   \n",
       "2  2013        IT    1007    Alpette  0,000%                0   \n",
       "3  2013        IT    1008  Alpignano  0,000%                0   \n",
       "4  2013        IT    1013  Avigliana  0,000%                0   \n",
       "\n",
       "   nuova_colonna_2  nuova_colonna_3  \n",
       "0                0                0  \n",
       "1                0                0  \n",
       "2                0                0  \n",
       "3                0                0  \n",
       "4                0                0  "
      ]
     },
     "metadata": {},
     "output_type": "display_data"
    }
   ],
   "source": [
    "df[\"nuova_colonna_1\"] = 0\n",
    "df[\"nuova_colonna_2\"] = 0\n",
    "df[\"nuova_colonna_3\"] = 0\n",
    "\n",
    "# Ora stampiamo il dataframe e vediamo che compare\n",
    "df.head()"
   ]
  },
  {
   "cell_type": "markdown",
   "id": "32943eb4",
   "metadata": {},
   "source": [
    "Se la vogliamo rimuovere, possiamo usare \"drop\".  \n",
    "Attenzione perché drop è generica per righe e colonne, quindi bisogna specificare cosa si sta rimuovendo.  \n",
    "Per le colonne si può usare \"axis=1\" (axis=0 sono le righe invece):"
   ]
  },
  {
   "cell_type": "code",
   "execution_count": null,
   "id": "6d5122b9",
   "metadata": {},
   "outputs": [
    {
     "data": {
      "text/html": [
       "<div>\n",
       "<style scoped>\n",
       "    .dataframe tbody tr th:only-of-type {\n",
       "        vertical-align: middle;\n",
       "    }\n",
       "\n",
       "    .dataframe tbody tr th {\n",
       "        vertical-align: top;\n",
       "    }\n",
       "\n",
       "    .dataframe thead th {\n",
       "        text-align: right;\n",
       "    }\n",
       "</style>\n",
       "<table border=\"1\" class=\"dataframe\">\n",
       "  <thead>\n",
       "    <tr style=\"text-align: right;\">\n",
       "      <th></th>\n",
       "      <th>Year</th>\n",
       "      <th>IdCountry</th>\n",
       "      <th>IdCity</th>\n",
       "      <th>City</th>\n",
       "      <th>%</th>\n",
       "      <th>nuova_colonna_1</th>\n",
       "      <th>nuova_colonna_2</th>\n",
       "    </tr>\n",
       "  </thead>\n",
       "  <tbody>\n",
       "    <tr>\n",
       "      <th>0</th>\n",
       "      <td>2013</td>\n",
       "      <td>IT</td>\n",
       "      <td>1002</td>\n",
       "      <td>Airasca</td>\n",
       "      <td>0,000%</td>\n",
       "      <td>0</td>\n",
       "      <td>0</td>\n",
       "    </tr>\n",
       "    <tr>\n",
       "      <th>1</th>\n",
       "      <td>2013</td>\n",
       "      <td>IT</td>\n",
       "      <td>1006</td>\n",
       "      <td>Almese</td>\n",
       "      <td>0,000%</td>\n",
       "      <td>0</td>\n",
       "      <td>0</td>\n",
       "    </tr>\n",
       "    <tr>\n",
       "      <th>2</th>\n",
       "      <td>2013</td>\n",
       "      <td>IT</td>\n",
       "      <td>1007</td>\n",
       "      <td>Alpette</td>\n",
       "      <td>0,000%</td>\n",
       "      <td>0</td>\n",
       "      <td>0</td>\n",
       "    </tr>\n",
       "    <tr>\n",
       "      <th>3</th>\n",
       "      <td>2013</td>\n",
       "      <td>IT</td>\n",
       "      <td>1008</td>\n",
       "      <td>Alpignano</td>\n",
       "      <td>0,000%</td>\n",
       "      <td>0</td>\n",
       "      <td>0</td>\n",
       "    </tr>\n",
       "    <tr>\n",
       "      <th>4</th>\n",
       "      <td>2013</td>\n",
       "      <td>IT</td>\n",
       "      <td>1013</td>\n",
       "      <td>Avigliana</td>\n",
       "      <td>0,000%</td>\n",
       "      <td>0</td>\n",
       "      <td>0</td>\n",
       "    </tr>\n",
       "    <tr>\n",
       "      <th>...</th>\n",
       "      <td>...</td>\n",
       "      <td>...</td>\n",
       "      <td>...</td>\n",
       "      <td>...</td>\n",
       "      <td>...</td>\n",
       "      <td>...</td>\n",
       "      <td>...</td>\n",
       "    </tr>\n",
       "    <tr>\n",
       "      <th>62021</th>\n",
       "      <td>2025</td>\n",
       "      <td>IT</td>\n",
       "      <td>110003</td>\n",
       "      <td>Bisceglie</td>\n",
       "      <td>1,342%</td>\n",
       "      <td>0</td>\n",
       "      <td>0</td>\n",
       "    </tr>\n",
       "    <tr>\n",
       "      <th>62022</th>\n",
       "      <td>2025</td>\n",
       "      <td>IT</td>\n",
       "      <td>110006</td>\n",
       "      <td>Minervino Murge</td>\n",
       "      <td>0,000%</td>\n",
       "      <td>0</td>\n",
       "      <td>0</td>\n",
       "    </tr>\n",
       "    <tr>\n",
       "      <th>62023</th>\n",
       "      <td>2025</td>\n",
       "      <td>IT</td>\n",
       "      <td>110008</td>\n",
       "      <td>Spinazzola</td>\n",
       "      <td>0,000%</td>\n",
       "      <td>0</td>\n",
       "      <td>0</td>\n",
       "    </tr>\n",
       "    <tr>\n",
       "      <th>62024</th>\n",
       "      <td>2025</td>\n",
       "      <td>IT</td>\n",
       "      <td>110009</td>\n",
       "      <td>Trani</td>\n",
       "      <td>2,011%</td>\n",
       "      <td>0</td>\n",
       "      <td>0</td>\n",
       "    </tr>\n",
       "    <tr>\n",
       "      <th>62025</th>\n",
       "      <td>2025</td>\n",
       "      <td>IT</td>\n",
       "      <td>110010</td>\n",
       "      <td>Trinitapoli</td>\n",
       "      <td>0,000%</td>\n",
       "      <td>0</td>\n",
       "      <td>0</td>\n",
       "    </tr>\n",
       "  </tbody>\n",
       "</table>\n",
       "<p>62026 rows × 7 columns</p>\n",
       "</div>"
      ],
      "text/plain": [
       "       Year IdCountry  IdCity             City       %  nuova_colonna_1  \\\n",
       "0      2013        IT    1002          Airasca  0,000%                0   \n",
       "1      2013        IT    1006           Almese  0,000%                0   \n",
       "2      2013        IT    1007          Alpette  0,000%                0   \n",
       "3      2013        IT    1008        Alpignano  0,000%                0   \n",
       "4      2013        IT    1013        Avigliana  0,000%                0   \n",
       "...     ...       ...     ...              ...     ...              ...   \n",
       "62021  2025        IT  110003        Bisceglie  1,342%                0   \n",
       "62022  2025        IT  110006  Minervino Murge  0,000%                0   \n",
       "62023  2025        IT  110008       Spinazzola  0,000%                0   \n",
       "62024  2025        IT  110009            Trani  2,011%                0   \n",
       "62025  2025        IT  110010      Trinitapoli  0,000%                0   \n",
       "\n",
       "       nuova_colonna_2  \n",
       "0                    0  \n",
       "1                    0  \n",
       "2                    0  \n",
       "3                    0  \n",
       "4                    0  \n",
       "...                ...  \n",
       "62021                0  \n",
       "62022                0  \n",
       "62023                0  \n",
       "62024                0  \n",
       "62025                0  \n",
       "\n",
       "[62026 rows x 7 columns]"
      ]
     },
     "metadata": {},
     "output_type": "display_data"
    }
   ],
   "source": [
    "df.drop(\"nuova_colonna_3\", axis=1)"
   ]
  },
  {
   "cell_type": "markdown",
   "id": "2f01657b",
   "metadata": {},
   "source": [
    "ATTENZIONE: praticamente tutte i metodi di pandas, di base non \"agiscono\" direttamente sull'oggetto in cui le si sta lanciando.  \n",
    "Ad sempio in questo caso la drop() non sta modificando direttamente il contenuto di \"df\" ma sta RESTITUENDO come risultato una versione (vista) di \"df\" con quella modifica.  \n",
    "Se non si \"raccoglie\" il risultato all'interno di una variabile (che può essere anche se stessa) la modifica di fatto non avviene."
   ]
  },
  {
   "cell_type": "code",
   "execution_count": null,
   "id": "79fa4df6",
   "metadata": {},
   "outputs": [
    {
     "data": {
      "text/html": [
       "<div>\n",
       "<style scoped>\n",
       "    .dataframe tbody tr th:only-of-type {\n",
       "        vertical-align: middle;\n",
       "    }\n",
       "\n",
       "    .dataframe tbody tr th {\n",
       "        vertical-align: top;\n",
       "    }\n",
       "\n",
       "    .dataframe thead th {\n",
       "        text-align: right;\n",
       "    }\n",
       "</style>\n",
       "<table border=\"1\" class=\"dataframe\">\n",
       "  <thead>\n",
       "    <tr style=\"text-align: right;\">\n",
       "      <th></th>\n",
       "      <th>Year</th>\n",
       "      <th>IdCountry</th>\n",
       "      <th>IdCity</th>\n",
       "      <th>City</th>\n",
       "      <th>%</th>\n",
       "      <th>nuova_colonna_1</th>\n",
       "      <th>nuova_colonna_2</th>\n",
       "      <th>nuova_colonna_3</th>\n",
       "    </tr>\n",
       "  </thead>\n",
       "  <tbody>\n",
       "    <tr>\n",
       "      <th>0</th>\n",
       "      <td>2013</td>\n",
       "      <td>IT</td>\n",
       "      <td>1002</td>\n",
       "      <td>Airasca</td>\n",
       "      <td>0,000%</td>\n",
       "      <td>0</td>\n",
       "      <td>0</td>\n",
       "      <td>0</td>\n",
       "    </tr>\n",
       "    <tr>\n",
       "      <th>1</th>\n",
       "      <td>2013</td>\n",
       "      <td>IT</td>\n",
       "      <td>1006</td>\n",
       "      <td>Almese</td>\n",
       "      <td>0,000%</td>\n",
       "      <td>0</td>\n",
       "      <td>0</td>\n",
       "      <td>0</td>\n",
       "    </tr>\n",
       "    <tr>\n",
       "      <th>2</th>\n",
       "      <td>2013</td>\n",
       "      <td>IT</td>\n",
       "      <td>1007</td>\n",
       "      <td>Alpette</td>\n",
       "      <td>0,000%</td>\n",
       "      <td>0</td>\n",
       "      <td>0</td>\n",
       "      <td>0</td>\n",
       "    </tr>\n",
       "    <tr>\n",
       "      <th>3</th>\n",
       "      <td>2013</td>\n",
       "      <td>IT</td>\n",
       "      <td>1008</td>\n",
       "      <td>Alpignano</td>\n",
       "      <td>0,000%</td>\n",
       "      <td>0</td>\n",
       "      <td>0</td>\n",
       "      <td>0</td>\n",
       "    </tr>\n",
       "    <tr>\n",
       "      <th>4</th>\n",
       "      <td>2013</td>\n",
       "      <td>IT</td>\n",
       "      <td>1013</td>\n",
       "      <td>Avigliana</td>\n",
       "      <td>0,000%</td>\n",
       "      <td>0</td>\n",
       "      <td>0</td>\n",
       "      <td>0</td>\n",
       "    </tr>\n",
       "  </tbody>\n",
       "</table>\n",
       "</div>"
      ],
      "text/plain": [
       "   Year IdCountry  IdCity       City       %  nuova_colonna_1  \\\n",
       "0  2013        IT    1002    Airasca  0,000%                0   \n",
       "1  2013        IT    1006     Almese  0,000%                0   \n",
       "2  2013        IT    1007    Alpette  0,000%                0   \n",
       "3  2013        IT    1008  Alpignano  0,000%                0   \n",
       "4  2013        IT    1013  Avigliana  0,000%                0   \n",
       "\n",
       "   nuova_colonna_2  nuova_colonna_3  \n",
       "0                0                0  \n",
       "1                0                0  \n",
       "2                0                0  \n",
       "3                0                0  \n",
       "4                0                0  "
      ]
     },
     "metadata": {},
     "output_type": "display_data"
    }
   ],
   "source": [
    "df.head() # Guardate ancora la colonna c'è ancora"
   ]
  },
  {
   "cell_type": "code",
   "execution_count": null,
   "id": "d812b908",
   "metadata": {},
   "outputs": [
    {
     "data": {
      "text/html": [
       "<div>\n",
       "<style scoped>\n",
       "    .dataframe tbody tr th:only-of-type {\n",
       "        vertical-align: middle;\n",
       "    }\n",
       "\n",
       "    .dataframe tbody tr th {\n",
       "        vertical-align: top;\n",
       "    }\n",
       "\n",
       "    .dataframe thead th {\n",
       "        text-align: right;\n",
       "    }\n",
       "</style>\n",
       "<table border=\"1\" class=\"dataframe\">\n",
       "  <thead>\n",
       "    <tr style=\"text-align: right;\">\n",
       "      <th></th>\n",
       "      <th>Year</th>\n",
       "      <th>IdCountry</th>\n",
       "      <th>IdCity</th>\n",
       "      <th>City</th>\n",
       "      <th>%</th>\n",
       "      <th>nuova_colonna_1</th>\n",
       "      <th>nuova_colonna_2</th>\n",
       "    </tr>\n",
       "  </thead>\n",
       "  <tbody>\n",
       "    <tr>\n",
       "      <th>0</th>\n",
       "      <td>2013</td>\n",
       "      <td>IT</td>\n",
       "      <td>1002</td>\n",
       "      <td>Airasca</td>\n",
       "      <td>0,000%</td>\n",
       "      <td>0</td>\n",
       "      <td>0</td>\n",
       "    </tr>\n",
       "    <tr>\n",
       "      <th>1</th>\n",
       "      <td>2013</td>\n",
       "      <td>IT</td>\n",
       "      <td>1006</td>\n",
       "      <td>Almese</td>\n",
       "      <td>0,000%</td>\n",
       "      <td>0</td>\n",
       "      <td>0</td>\n",
       "    </tr>\n",
       "    <tr>\n",
       "      <th>2</th>\n",
       "      <td>2013</td>\n",
       "      <td>IT</td>\n",
       "      <td>1007</td>\n",
       "      <td>Alpette</td>\n",
       "      <td>0,000%</td>\n",
       "      <td>0</td>\n",
       "      <td>0</td>\n",
       "    </tr>\n",
       "    <tr>\n",
       "      <th>3</th>\n",
       "      <td>2013</td>\n",
       "      <td>IT</td>\n",
       "      <td>1008</td>\n",
       "      <td>Alpignano</td>\n",
       "      <td>0,000%</td>\n",
       "      <td>0</td>\n",
       "      <td>0</td>\n",
       "    </tr>\n",
       "    <tr>\n",
       "      <th>4</th>\n",
       "      <td>2013</td>\n",
       "      <td>IT</td>\n",
       "      <td>1013</td>\n",
       "      <td>Avigliana</td>\n",
       "      <td>0,000%</td>\n",
       "      <td>0</td>\n",
       "      <td>0</td>\n",
       "    </tr>\n",
       "  </tbody>\n",
       "</table>\n",
       "</div>"
      ],
      "text/plain": [
       "   Year IdCountry  IdCity       City       %  nuova_colonna_1  nuova_colonna_2\n",
       "0  2013        IT    1002    Airasca  0,000%                0                0\n",
       "1  2013        IT    1006     Almese  0,000%                0                0\n",
       "2  2013        IT    1007    Alpette  0,000%                0                0\n",
       "3  2013        IT    1008  Alpignano  0,000%                0                0\n",
       "4  2013        IT    1013  Avigliana  0,000%                0                0"
      ]
     },
     "metadata": {},
     "output_type": "display_data"
    }
   ],
   "source": [
    "df_senza_colonna = df.drop(\"nuova_colonna_3\", axis=1) # Se raccogliamo l'esito di drop e lo diamo di nuovo a df\n",
    "df_senza_colonna.head() # Ora la colonna è stata effettivamente eliminata"
   ]
  },
  {
   "cell_type": "markdown",
   "id": "8017bb4e",
   "metadata": {},
   "source": [
    "ovviamente \"df\" contiene ancora la colonna mentre la nuova variabile \"df_senza_colonna\" no.  \n",
    "Ma se volessi semplicemente sovrascrivere il mio \"df\" con la nuova versione?  \n",
    "Certo potrei semplicemente assegnarla a lui stesso:"
   ]
  },
  {
   "cell_type": "code",
   "execution_count": null,
   "id": "ed9a0808",
   "metadata": {},
   "outputs": [
    {
     "data": {
      "text/html": [
       "<div>\n",
       "<style scoped>\n",
       "    .dataframe tbody tr th:only-of-type {\n",
       "        vertical-align: middle;\n",
       "    }\n",
       "\n",
       "    .dataframe tbody tr th {\n",
       "        vertical-align: top;\n",
       "    }\n",
       "\n",
       "    .dataframe thead th {\n",
       "        text-align: right;\n",
       "    }\n",
       "</style>\n",
       "<table border=\"1\" class=\"dataframe\">\n",
       "  <thead>\n",
       "    <tr style=\"text-align: right;\">\n",
       "      <th></th>\n",
       "      <th>Year</th>\n",
       "      <th>IdCountry</th>\n",
       "      <th>IdCity</th>\n",
       "      <th>City</th>\n",
       "      <th>%</th>\n",
       "      <th>nuova_colonna_1</th>\n",
       "      <th>nuova_colonna_2</th>\n",
       "    </tr>\n",
       "  </thead>\n",
       "  <tbody>\n",
       "    <tr>\n",
       "      <th>0</th>\n",
       "      <td>2013</td>\n",
       "      <td>IT</td>\n",
       "      <td>1002</td>\n",
       "      <td>Airasca</td>\n",
       "      <td>0,000%</td>\n",
       "      <td>0</td>\n",
       "      <td>0</td>\n",
       "    </tr>\n",
       "    <tr>\n",
       "      <th>1</th>\n",
       "      <td>2013</td>\n",
       "      <td>IT</td>\n",
       "      <td>1006</td>\n",
       "      <td>Almese</td>\n",
       "      <td>0,000%</td>\n",
       "      <td>0</td>\n",
       "      <td>0</td>\n",
       "    </tr>\n",
       "    <tr>\n",
       "      <th>2</th>\n",
       "      <td>2013</td>\n",
       "      <td>IT</td>\n",
       "      <td>1007</td>\n",
       "      <td>Alpette</td>\n",
       "      <td>0,000%</td>\n",
       "      <td>0</td>\n",
       "      <td>0</td>\n",
       "    </tr>\n",
       "    <tr>\n",
       "      <th>3</th>\n",
       "      <td>2013</td>\n",
       "      <td>IT</td>\n",
       "      <td>1008</td>\n",
       "      <td>Alpignano</td>\n",
       "      <td>0,000%</td>\n",
       "      <td>0</td>\n",
       "      <td>0</td>\n",
       "    </tr>\n",
       "    <tr>\n",
       "      <th>4</th>\n",
       "      <td>2013</td>\n",
       "      <td>IT</td>\n",
       "      <td>1013</td>\n",
       "      <td>Avigliana</td>\n",
       "      <td>0,000%</td>\n",
       "      <td>0</td>\n",
       "      <td>0</td>\n",
       "    </tr>\n",
       "  </tbody>\n",
       "</table>\n",
       "</div>"
      ],
      "text/plain": [
       "   Year IdCountry  IdCity       City       %  nuova_colonna_1  nuova_colonna_2\n",
       "0  2013        IT    1002    Airasca  0,000%                0                0\n",
       "1  2013        IT    1006     Almese  0,000%                0                0\n",
       "2  2013        IT    1007    Alpette  0,000%                0                0\n",
       "3  2013        IT    1008  Alpignano  0,000%                0                0\n",
       "4  2013        IT    1013  Avigliana  0,000%                0                0"
      ]
     },
     "metadata": {},
     "output_type": "display_data"
    }
   ],
   "source": [
    "df = df.drop(\"nuova_colonna_3\", axis=1)\n",
    "df.head()"
   ]
  },
  {
   "cell_type": "markdown",
   "id": "6a8897cd",
   "metadata": {},
   "source": [
    "Ma è un operazione così comune che in praticamente tutti i metodi di pandas esiste il parametro \"inplace\" che  \n",
    "si può impostare come \"True\" (di base è settato a False) che fa proprio questo, cioè applica le modifiche sull'oggetto  \n",
    "che ha richiamato il metodo in questione, come ad esempio drop:"
   ]
  },
  {
   "cell_type": "code",
   "execution_count": null,
   "id": "dcac96ae",
   "metadata": {},
   "outputs": [
    {
     "data": {
      "text/html": [
       "<div>\n",
       "<style scoped>\n",
       "    .dataframe tbody tr th:only-of-type {\n",
       "        vertical-align: middle;\n",
       "    }\n",
       "\n",
       "    .dataframe tbody tr th {\n",
       "        vertical-align: top;\n",
       "    }\n",
       "\n",
       "    .dataframe thead th {\n",
       "        text-align: right;\n",
       "    }\n",
       "</style>\n",
       "<table border=\"1\" class=\"dataframe\">\n",
       "  <thead>\n",
       "    <tr style=\"text-align: right;\">\n",
       "      <th></th>\n",
       "      <th>Year</th>\n",
       "      <th>IdCountry</th>\n",
       "      <th>IdCity</th>\n",
       "      <th>City</th>\n",
       "      <th>%</th>\n",
       "      <th>nuova_colonna_1</th>\n",
       "    </tr>\n",
       "  </thead>\n",
       "  <tbody>\n",
       "    <tr>\n",
       "      <th>0</th>\n",
       "      <td>2013</td>\n",
       "      <td>IT</td>\n",
       "      <td>1002</td>\n",
       "      <td>Airasca</td>\n",
       "      <td>0,000%</td>\n",
       "      <td>0</td>\n",
       "    </tr>\n",
       "    <tr>\n",
       "      <th>1</th>\n",
       "      <td>2013</td>\n",
       "      <td>IT</td>\n",
       "      <td>1006</td>\n",
       "      <td>Almese</td>\n",
       "      <td>0,000%</td>\n",
       "      <td>0</td>\n",
       "    </tr>\n",
       "    <tr>\n",
       "      <th>2</th>\n",
       "      <td>2013</td>\n",
       "      <td>IT</td>\n",
       "      <td>1007</td>\n",
       "      <td>Alpette</td>\n",
       "      <td>0,000%</td>\n",
       "      <td>0</td>\n",
       "    </tr>\n",
       "    <tr>\n",
       "      <th>3</th>\n",
       "      <td>2013</td>\n",
       "      <td>IT</td>\n",
       "      <td>1008</td>\n",
       "      <td>Alpignano</td>\n",
       "      <td>0,000%</td>\n",
       "      <td>0</td>\n",
       "    </tr>\n",
       "    <tr>\n",
       "      <th>4</th>\n",
       "      <td>2013</td>\n",
       "      <td>IT</td>\n",
       "      <td>1013</td>\n",
       "      <td>Avigliana</td>\n",
       "      <td>0,000%</td>\n",
       "      <td>0</td>\n",
       "    </tr>\n",
       "  </tbody>\n",
       "</table>\n",
       "</div>"
      ],
      "text/plain": [
       "   Year IdCountry  IdCity       City       %  nuova_colonna_1\n",
       "0  2013        IT    1002    Airasca  0,000%                0\n",
       "1  2013        IT    1006     Almese  0,000%                0\n",
       "2  2013        IT    1007    Alpette  0,000%                0\n",
       "3  2013        IT    1008  Alpignano  0,000%                0\n",
       "4  2013        IT    1013  Avigliana  0,000%                0"
      ]
     },
     "metadata": {},
     "output_type": "display_data"
    }
   ],
   "source": [
    "df.drop(\"nuova_colonna_2\", axis=1, inplace=True)\n",
    "df.head()"
   ]
  },
  {
   "cell_type": "markdown",
   "id": "e77942a8",
   "metadata": {},
   "source": [
    "Extra: è possibile rimuovere tante colonne assieme usando il parametro \"columns\" (senza dover specificare axis) a cui  \n",
    "si può dare una lista di stringhe che corrisponde alla lista di colonne da eliminare"
   ]
  },
  {
   "cell_type": "code",
   "execution_count": null,
   "id": "0194a3df",
   "metadata": {},
   "outputs": [
    {
     "data": {
      "text/html": [
       "<div>\n",
       "<style scoped>\n",
       "    .dataframe tbody tr th:only-of-type {\n",
       "        vertical-align: middle;\n",
       "    }\n",
       "\n",
       "    .dataframe tbody tr th {\n",
       "        vertical-align: top;\n",
       "    }\n",
       "\n",
       "    .dataframe thead th {\n",
       "        text-align: right;\n",
       "    }\n",
       "</style>\n",
       "<table border=\"1\" class=\"dataframe\">\n",
       "  <thead>\n",
       "    <tr style=\"text-align: right;\">\n",
       "      <th></th>\n",
       "      <th>Year</th>\n",
       "      <th>IdCountry</th>\n",
       "      <th>IdCity</th>\n",
       "      <th>City</th>\n",
       "      <th>%</th>\n",
       "    </tr>\n",
       "  </thead>\n",
       "  <tbody>\n",
       "    <tr>\n",
       "      <th>0</th>\n",
       "      <td>2013</td>\n",
       "      <td>IT</td>\n",
       "      <td>1002</td>\n",
       "      <td>Airasca</td>\n",
       "      <td>0,000%</td>\n",
       "    </tr>\n",
       "    <tr>\n",
       "      <th>1</th>\n",
       "      <td>2013</td>\n",
       "      <td>IT</td>\n",
       "      <td>1006</td>\n",
       "      <td>Almese</td>\n",
       "      <td>0,000%</td>\n",
       "    </tr>\n",
       "    <tr>\n",
       "      <th>2</th>\n",
       "      <td>2013</td>\n",
       "      <td>IT</td>\n",
       "      <td>1007</td>\n",
       "      <td>Alpette</td>\n",
       "      <td>0,000%</td>\n",
       "    </tr>\n",
       "    <tr>\n",
       "      <th>3</th>\n",
       "      <td>2013</td>\n",
       "      <td>IT</td>\n",
       "      <td>1008</td>\n",
       "      <td>Alpignano</td>\n",
       "      <td>0,000%</td>\n",
       "    </tr>\n",
       "    <tr>\n",
       "      <th>4</th>\n",
       "      <td>2013</td>\n",
       "      <td>IT</td>\n",
       "      <td>1013</td>\n",
       "      <td>Avigliana</td>\n",
       "      <td>0,000%</td>\n",
       "    </tr>\n",
       "  </tbody>\n",
       "</table>\n",
       "</div>"
      ],
      "text/plain": [
       "   Year IdCountry  IdCity       City       %\n",
       "0  2013        IT    1002    Airasca  0,000%\n",
       "1  2013        IT    1006     Almese  0,000%\n",
       "2  2013        IT    1007    Alpette  0,000%\n",
       "3  2013        IT    1008  Alpignano  0,000%\n",
       "4  2013        IT    1013  Avigliana  0,000%"
      ]
     },
     "metadata": {},
     "output_type": "display_data"
    }
   ],
   "source": [
    "df[\"nuova_colonna_2\"] = 0 # La ricreiamo un attimo per fare la prova\n",
    "df.drop(columns=[\"nuova_colonna_1\", \"nuova_colonna_2\"], inplace=True)\n",
    "df.head()"
   ]
  },
  {
   "cell_type": "markdown",
   "id": "cf7d6fca",
   "metadata": {},
   "source": [
    "### Operazioni avanzate di modifica"
   ]
  },
  {
   "cell_type": "markdown",
   "id": "c11705b5",
   "metadata": {},
   "source": [
    "#### APPLY"
   ]
  },
  {
   "cell_type": "markdown",
   "id": "2db4207a",
   "metadata": {},
   "source": [
    "Molto spesso ci ritroveremo a non dover assegnare a un'intera colonna lo stesso valore, esempio 0 come abbiamo visto prima...  \n",
    "ma molto più probabilmente ci sarà una \"regola\" su cui vogliamo basare l'assegnazione per ogni riga.  \n",
    "Ad esempio, se vogliamo creare una colonna che contiene \"Year\" diviso 100 per ottenere 2013 --> 13 e quindi questa operazione  \n",
    "dovrà essere \"APPLICATA\" per ogni riga di quella colonna, dobbiamo usare .apply( )\n"
   ]
  },
  {
   "cell_type": "markdown",
   "id": "41c211b2",
   "metadata": {},
   "source": [
    "Apply non è semplice da capire all'inizio ma è la funzione più potente e utile (assieme a groupy) che userete.  \n",
    "Iniziamo dicendo che apply richiede come attributo **funzione** e non una semplice variabile.  \n",
    "Quindi:\n",
    "- Creiamo una funzione \"al volo\" tramite lambda --> Se è un operazione semplice che si può scrivere con una sola istruzione.  \n",
    "- Possiamo anche definire una funzione vera e propria e passargli quella --> Se richiede più operazioni.  \n",
    "- Magari esiste già una funzione e possiamo direttamente dargli quella (esempio: sum)"
   ]
  },
  {
   "cell_type": "markdown",
   "id": "66a1698a",
   "metadata": {},
   "source": [
    "Quindi iniziamo nello specificare 2 \"versioni\":\n",
    "- apply su una colonna --> Alla funzione verrà passato come attributo una cella per ogni riga e la funzione verrà chiamata tante volte passando cella per cella finché non finiscono le righe.  \n",
    "- apply sull'intero dataframe --> Alla funzione verrà passato come attributo un'intera riga e la funzione verrà chiamata tante volte quante sono le righe del dataframe."
   ]
  },
  {
   "cell_type": "markdown",
   "id": "c254729d",
   "metadata": {},
   "source": [
    "Proviamo a vederlo \"in piccolo\""
   ]
  },
  {
   "cell_type": "markdown",
   "id": "cbcfe727",
   "metadata": {},
   "source": [
    "Creo un DataFrame di prova. Per ora ignorate come lo sto facendo"
   ]
  },
  {
   "cell_type": "code",
   "execution_count": null,
   "id": "4d75265f",
   "metadata": {},
   "outputs": [
    {
     "data": {
      "text/html": [
       "<div>\n",
       "<style scoped>\n",
       "    .dataframe tbody tr th:only-of-type {\n",
       "        vertical-align: middle;\n",
       "    }\n",
       "\n",
       "    .dataframe tbody tr th {\n",
       "        vertical-align: top;\n",
       "    }\n",
       "\n",
       "    .dataframe thead th {\n",
       "        text-align: right;\n",
       "    }\n",
       "</style>\n",
       "<table border=\"1\" class=\"dataframe\">\n",
       "  <thead>\n",
       "    <tr style=\"text-align: right;\">\n",
       "      <th></th>\n",
       "      <th>Colonna_1</th>\n",
       "    </tr>\n",
       "  </thead>\n",
       "  <tbody>\n",
       "    <tr>\n",
       "      <th>0</th>\n",
       "      <td>1</td>\n",
       "    </tr>\n",
       "    <tr>\n",
       "      <th>1</th>\n",
       "      <td>2</td>\n",
       "    </tr>\n",
       "    <tr>\n",
       "      <th>2</th>\n",
       "      <td>3</td>\n",
       "    </tr>\n",
       "  </tbody>\n",
       "</table>\n",
       "</div>"
      ],
      "text/plain": [
       "   Colonna_1\n",
       "0          1\n",
       "1          2\n",
       "2          3"
      ]
     },
     "metadata": {},
     "output_type": "display_data"
    }
   ],
   "source": [
    "righe_df_piccolo = [\n",
    "    {\"Colonna_1\": 1},\n",
    "    {\"Colonna_1\": 2},\n",
    "    {\"Colonna_1\": 3}\n",
    "]\n",
    "df_piccolo = pd.DataFrame(righe_df_piccolo)\n",
    "df_piccolo # Questo in ogni caso è il df che usiamo per il test"
   ]
  },
  {
   "cell_type": "markdown",
   "id": "2ebb1323",
   "metadata": {},
   "source": [
    "ora proviamo ad usare apply su una funzione che però non fa sostanzialmente nulla se non fare print su quello che riceve come attributo"
   ]
  },
  {
   "cell_type": "code",
   "execution_count": null,
   "id": "4bcf8200",
   "metadata": {},
   "outputs": [
    {
     "name": "stdout",
     "output_type": "stream",
     "text": [
      "1\n",
      "2\n",
      "3\n"
     ]
    }
   ],
   "source": [
    "def printiamo_x(x):\n",
    "    print(x)\n",
    "    return x\n",
    "\n",
    "df_piccolo[\"Colonna_2\"] = df_piccolo[\"Colonna_1\"].apply(printiamo_x)"
   ]
  },
  {
   "cell_type": "markdown",
   "id": "9515a524",
   "metadata": {},
   "source": [
    "Ora è più chiaro quello che succede:  \n",
    "La funzione da noi creata \"printiamo_x\" fa la stampa del valore che gli viene passato da apply e in questo caso corrisponde al valore contenuto nella Colonna_1 riga per riga. La funzione è quindi chiamata 3 volte perché il data frame contiene 3 righe."
   ]
  },
  {
   "cell_type": "markdown",
   "id": "00133ae0",
   "metadata": {},
   "source": [
    "Cosa succede se usiamo .apply() ma non su una colonna specifica ma su tutto il data frame?  "
   ]
  },
  {
   "cell_type": "code",
   "execution_count": null,
   "id": "d1c84f62",
   "metadata": {},
   "outputs": [
    {
     "name": "stdout",
     "output_type": "stream",
     "text": [
      "Colonna_1    1\n",
      "Colonna_2    1\n",
      "Colonna_3    1\n",
      "Name: 0, dtype: int64\n",
      "Colonna_1    2\n",
      "Colonna_2    2\n",
      "Colonna_3    2\n",
      "Name: 1, dtype: int64\n",
      "Colonna_1    3\n",
      "Colonna_2    3\n",
      "Colonna_3    3\n",
      "Name: 2, dtype: int64\n"
     ]
    }
   ],
   "source": [
    "def printiamo_x(x):\n",
    "    print(x)\n",
    "    return x[\"Colonna_1\"]\n",
    "\n",
    "df_piccolo[\"Colonna_3\"] = df_piccolo.apply(printiamo_x, axis=1)"
   ]
  },
  {
   "cell_type": "markdown",
   "id": "4d38358a",
   "metadata": {},
   "source": [
    "Succede che \"x\" in questo caso è un intera riga non una singola cella della colonna specificata.  \n",
    "Infatti il return abbiamo potuto specificare di quale colonna restituire il valore di x.  \n",
    "N.B: axis=1 gli stiamo dicendo \"dammi una riga\" altrimenti sarebbe stata \"dammi una colonna\"."
   ]
  },
  {
   "cell_type": "markdown",
   "id": "fdc0432b",
   "metadata": {},
   "source": [
    "Ritornando al nostro esempio:"
   ]
  },
  {
   "cell_type": "code",
   "execution_count": null,
   "id": "c9baaf01",
   "metadata": {},
   "outputs": [
    {
     "data": {
      "text/html": [
       "<div>\n",
       "<style scoped>\n",
       "    .dataframe tbody tr th:only-of-type {\n",
       "        vertical-align: middle;\n",
       "    }\n",
       "\n",
       "    .dataframe tbody tr th {\n",
       "        vertical-align: top;\n",
       "    }\n",
       "\n",
       "    .dataframe thead th {\n",
       "        text-align: right;\n",
       "    }\n",
       "</style>\n",
       "<table border=\"1\" class=\"dataframe\">\n",
       "  <thead>\n",
       "    <tr style=\"text-align: right;\">\n",
       "      <th></th>\n",
       "      <th>Year</th>\n",
       "      <th>IdCountry</th>\n",
       "      <th>IdCity</th>\n",
       "      <th>City</th>\n",
       "      <th>%</th>\n",
       "      <th>IdCity_diviso_10</th>\n",
       "    </tr>\n",
       "  </thead>\n",
       "  <tbody>\n",
       "    <tr>\n",
       "      <th>0</th>\n",
       "      <td>2013</td>\n",
       "      <td>IT</td>\n",
       "      <td>1002</td>\n",
       "      <td>Airasca</td>\n",
       "      <td>0,000%</td>\n",
       "      <td>10.02</td>\n",
       "    </tr>\n",
       "    <tr>\n",
       "      <th>1</th>\n",
       "      <td>2013</td>\n",
       "      <td>IT</td>\n",
       "      <td>1006</td>\n",
       "      <td>Almese</td>\n",
       "      <td>0,000%</td>\n",
       "      <td>10.06</td>\n",
       "    </tr>\n",
       "    <tr>\n",
       "      <th>2</th>\n",
       "      <td>2013</td>\n",
       "      <td>IT</td>\n",
       "      <td>1007</td>\n",
       "      <td>Alpette</td>\n",
       "      <td>0,000%</td>\n",
       "      <td>10.07</td>\n",
       "    </tr>\n",
       "    <tr>\n",
       "      <th>3</th>\n",
       "      <td>2013</td>\n",
       "      <td>IT</td>\n",
       "      <td>1008</td>\n",
       "      <td>Alpignano</td>\n",
       "      <td>0,000%</td>\n",
       "      <td>10.08</td>\n",
       "    </tr>\n",
       "    <tr>\n",
       "      <th>4</th>\n",
       "      <td>2013</td>\n",
       "      <td>IT</td>\n",
       "      <td>1013</td>\n",
       "      <td>Avigliana</td>\n",
       "      <td>0,000%</td>\n",
       "      <td>10.13</td>\n",
       "    </tr>\n",
       "  </tbody>\n",
       "</table>\n",
       "</div>"
      ],
      "text/plain": [
       "   Year IdCountry  IdCity       City       %  IdCity_diviso_10\n",
       "0  2013        IT    1002    Airasca  0,000%             10.02\n",
       "1  2013        IT    1006     Almese  0,000%             10.06\n",
       "2  2013        IT    1007    Alpette  0,000%             10.07\n",
       "3  2013        IT    1008  Alpignano  0,000%             10.08\n",
       "4  2013        IT    1013  Avigliana  0,000%             10.13"
      ]
     },
     "metadata": {},
     "output_type": "display_data"
    }
   ],
   "source": [
    "def calcolo_IdCity_diviso_10(id_city):    # <--- Riceve la \"cella\" della colonna id_city.\n",
    "    return id_city / 100   # <--- La funzione deve restituire il risultato della cella da posizionare in quella riga\n",
    "\n",
    "df[\"IdCity_diviso_10\"] = df[\"IdCity\"].apply(calcolo_IdCity_diviso_10) # <--- apply chiama n volte la funzione passando una cella per ogni riga\n",
    "# Alla fine avrà creato questa nuova colonna contenente tutti i risultati delle \"return\" della funzione\n",
    "# e la inseriamo dentro una nuova colonna.\n",
    "\n",
    "# Guardiamo il risultato\n",
    "df.head()"
   ]
  },
  {
   "cell_type": "markdown",
   "id": "660d4e1c",
   "metadata": {},
   "source": [
    "A cosa serve usare apply su un intera riga?  \n",
    "Ad sempio se ci serve creare la nuova colonna calcolando i valori contenuti su più colonne di quella riga...  \n",
    "Ad esempio immaginiamo di voler unire IdCountry e City in un unica stringa:"
   ]
  },
  {
   "cell_type": "code",
   "execution_count": null,
   "id": "638a189b",
   "metadata": {},
   "outputs": [
    {
     "data": {
      "text/html": [
       "<div>\n",
       "<style scoped>\n",
       "    .dataframe tbody tr th:only-of-type {\n",
       "        vertical-align: middle;\n",
       "    }\n",
       "\n",
       "    .dataframe tbody tr th {\n",
       "        vertical-align: top;\n",
       "    }\n",
       "\n",
       "    .dataframe thead th {\n",
       "        text-align: right;\n",
       "    }\n",
       "</style>\n",
       "<table border=\"1\" class=\"dataframe\">\n",
       "  <thead>\n",
       "    <tr style=\"text-align: right;\">\n",
       "      <th></th>\n",
       "      <th>Year</th>\n",
       "      <th>IdCountry</th>\n",
       "      <th>IdCity</th>\n",
       "      <th>City</th>\n",
       "      <th>%</th>\n",
       "      <th>IdCity_diviso_10</th>\n",
       "      <th>City_country</th>\n",
       "    </tr>\n",
       "  </thead>\n",
       "  <tbody>\n",
       "    <tr>\n",
       "      <th>0</th>\n",
       "      <td>2013</td>\n",
       "      <td>IT</td>\n",
       "      <td>1002</td>\n",
       "      <td>Airasca</td>\n",
       "      <td>0,000%</td>\n",
       "      <td>10.02</td>\n",
       "      <td>IT - Airasca</td>\n",
       "    </tr>\n",
       "    <tr>\n",
       "      <th>1</th>\n",
       "      <td>2013</td>\n",
       "      <td>IT</td>\n",
       "      <td>1006</td>\n",
       "      <td>Almese</td>\n",
       "      <td>0,000%</td>\n",
       "      <td>10.06</td>\n",
       "      <td>IT - Almese</td>\n",
       "    </tr>\n",
       "    <tr>\n",
       "      <th>2</th>\n",
       "      <td>2013</td>\n",
       "      <td>IT</td>\n",
       "      <td>1007</td>\n",
       "      <td>Alpette</td>\n",
       "      <td>0,000%</td>\n",
       "      <td>10.07</td>\n",
       "      <td>IT - Alpette</td>\n",
       "    </tr>\n",
       "    <tr>\n",
       "      <th>3</th>\n",
       "      <td>2013</td>\n",
       "      <td>IT</td>\n",
       "      <td>1008</td>\n",
       "      <td>Alpignano</td>\n",
       "      <td>0,000%</td>\n",
       "      <td>10.08</td>\n",
       "      <td>IT - Alpignano</td>\n",
       "    </tr>\n",
       "    <tr>\n",
       "      <th>4</th>\n",
       "      <td>2013</td>\n",
       "      <td>IT</td>\n",
       "      <td>1013</td>\n",
       "      <td>Avigliana</td>\n",
       "      <td>0,000%</td>\n",
       "      <td>10.13</td>\n",
       "      <td>IT - Avigliana</td>\n",
       "    </tr>\n",
       "  </tbody>\n",
       "</table>\n",
       "</div>"
      ],
      "text/plain": [
       "   Year IdCountry  IdCity       City       %  IdCity_diviso_10    City_country\n",
       "0  2013        IT    1002    Airasca  0,000%             10.02    IT - Airasca\n",
       "1  2013        IT    1006     Almese  0,000%             10.06     IT - Almese\n",
       "2  2013        IT    1007    Alpette  0,000%             10.07    IT - Alpette\n",
       "3  2013        IT    1008  Alpignano  0,000%             10.08  IT - Alpignano\n",
       "4  2013        IT    1013  Avigliana  0,000%             10.13  IT - Avigliana"
      ]
     },
     "metadata": {},
     "output_type": "display_data"
    }
   ],
   "source": [
    "def uniamo_City_e_country(row):\n",
    "    return row[\"IdCountry\"] + \" - \" + row[\"City\"] # <-- Con \"row\" abbiamo accesso a tutte le colonne della riga\n",
    "\n",
    "df[\"City_country\"] = df.apply(uniamo_City_e_country, axis=1)\n",
    "df.head()"
   ]
  },
  {
   "cell_type": "markdown",
   "id": "0ad3a111",
   "metadata": {},
   "source": [
    "#### ITERROWS e ITEMS"
   ]
  },
  {
   "cell_type": "markdown",
   "id": "12401155",
   "metadata": {},
   "source": [
    "Un metodo meno consigliato perché MOLTO più lento è .iterrows() che ci permette di scorrere all'interno di un for python le righe del dataframe.  \n",
    "Quest'operazione sarebbe da utilizzare solo se non esiste modo di effettuare la stessa operazione con .apply() e di solito infatti non si usa, ma per completezza vi mostro che esiste e come si usa:"
   ]
  },
  {
   "cell_type": "code",
   "execution_count": null,
   "id": "4a9e940e",
   "metadata": {},
   "outputs": [
    {
     "name": "stdout",
     "output_type": "stream",
     "text": [
      "--------------\n",
      "idx: 0\n",
      "row: Year                        2013\n",
      "IdCountry                     IT\n",
      "IdCity                      1002\n",
      "City                     Airasca\n",
      "%                         0,000%\n",
      "IdCity_diviso_10           10.02\n",
      "City_country        IT - Airasca\n",
      "Name: 0, dtype: object\n",
      "--------------\n",
      "idx: 1\n",
      "row: Year                       2013\n",
      "IdCountry                    IT\n",
      "IdCity                     1006\n",
      "City                     Almese\n",
      "%                        0,000%\n",
      "IdCity_diviso_10          10.06\n",
      "City_country        IT - Almese\n",
      "Name: 1, dtype: object\n"
     ]
    }
   ],
   "source": [
    "for idx, row in df.iterrows():\n",
    "    # PER NON SCORRERE TUTTO IL DF CHE E' GRANDE CI FERMIAMO AL SECONDO CICLO\n",
    "    if idx == 2:\n",
    "        break\n",
    "\n",
    "    # Facciamo i print per capire cosa contengono\n",
    "    print(\"--------------\")\n",
    "    print(f\"idx: {idx}\")\n",
    "    print(f\"row: {row}\")"
   ]
  },
  {
   "cell_type": "markdown",
   "id": "85ee2af2",
   "metadata": {},
   "source": [
    "Esiste anche la possibilità di usare il DataFrame come se fosse un normale dizionario di python, ma anche in questo caso è fortemente sconsigliato a meno di casi particolari perché troppo lento da eseguire rispetto apply."
   ]
  },
  {
   "cell_type": "code",
   "execution_count": null,
   "id": "5c9b2d0e",
   "metadata": {},
   "outputs": [],
   "source": [
    "for k, v in df.items():\n",
    "    # Facciamo i print per capire cosa contengono\n",
    "    print(\"--------------\")\n",
    "    print(f\"k: {k}\")    # <--- La chiave è il nome della colonna che sta scorrendo\n",
    "    print(f\"v:\\n{v}\")    # <--- Il valore è la lista (in realtà \"Series\") dei valori di quella colonna\n",
    "    break"
   ]
  }
 ],
 "metadata": {
  "language_info": {
   "name": "python"
  }
 },
 "nbformat": 4,
 "nbformat_minor": 5
}
