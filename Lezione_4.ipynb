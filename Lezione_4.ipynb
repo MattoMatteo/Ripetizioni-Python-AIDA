{
 "cells": [
  {
   "cell_type": "markdown",
   "id": "d5b91722",
   "metadata": {},
   "source": [
    "# Funzioni"
   ]
  },
  {
   "cell_type": "markdown",
   "id": "e67af406",
   "metadata": {},
   "source": [
    "Ogni qual volta il nostro script/software necessita ripetere una certa \"logica\" più volte in punti diversi dello script stesso allora questo è un segnale che quella porzione di codice debba essere \"impacchettata\" e \"generalizzata\" per poter essere richiamata all'occorrenza, senza doverla riscrivere.\n",
    "\n",
    "Questo è utile per molti motivi:\n",
    "- La porzione di codice si scrive 1 sola volta.\n",
    "- Più facile da manutenere. Esempio, vi accorgete che c'era un bug in quella porzione di codice oppure volete apportare una piccola modifica, a quel punto dovreste farlo in tutte le parti del software in cui viene eseguita quella stessa operazione. Nel farlo spesso succede che vi dimenticate di farlo ovunque e vi ritrovate che in alcune parti funziona e in altre no.\n",
    "- Da una struttura al software e lo rende molto più leggibile. Suddividere logicamente le operazioni che vengono effettuate dal software aiuta a creare \"uno scheletro\" del proprio software e questo aiuta il suo sviluppo. In più impacchettare pezzi di codice e tenerli separati aiuta la leggibilità per il programmatore che deve capire cosa fa il programma."
   ]
  },
  {
   "cell_type": "markdown",
   "id": "7c9a262d",
   "metadata": {},
   "source": [
    "## Struttura di una funzione\n",
    "Si dichiara con \"def\" poi il nome che volete assegnare poi \"()\" poi \":\""
   ]
  },
  {
   "cell_type": "code",
   "execution_count": 9,
   "id": "9ec663ca",
   "metadata": {},
   "outputs": [
    {
     "name": "stdout",
     "output_type": "stream",
     "text": [
      "Ciao\n"
     ]
    }
   ],
   "source": [
    "def my_function():\n",
    "    print(\"Ciao\")\n",
    "\n",
    "my_function()\n",
    "pass"
   ]
  },
  {
   "cell_type": "markdown",
   "id": "19643826",
   "metadata": {},
   "source": [
    "Abbiamo visto come l'interprete python esegue il codice riga per riga partendo dalla prima. Quando ci sono definizioni (def) delle funzioni, lui non le esegue subito, \"apprende\" il fatto che ci siano e passa oltre. In questo caso la prima riga che verrà davvero eseguita sarà \"my_function()\" e a quel punto python \"salterà\" alla riga in cui è presente la funzione ed eseguirà tutte le righe al suo interno (print(\"ciao\")) per poi tornare al punto in cui era rimasto, passando alla prossima (pass)"
   ]
  },
  {
   "cell_type": "markdown",
   "id": "0815dc4a",
   "metadata": {},
   "source": [
    "Le funzioni all'interno delle loro \"()\" possono \"accettare\" dei \"parametri\". Questo significa che quando una funzinoe viene \"chiamata\" sarà necessario inserire delle variabili all'interno delle \"()\" che la funzinoe stessa ora richiede.\n",
    "Questa cosa serve per dare in input dei dati alla funzione che userà per elaborare una risposta."
   ]
  },
  {
   "cell_type": "code",
   "execution_count": null,
   "id": "0beb155b",
   "metadata": {},
   "outputs": [
    {
     "name": "stdout",
     "output_type": "stream",
     "text": [
      "CiaoCiaoCiao\n",
      "MaialeMaialeMaiale\n"
     ]
    }
   ],
   "source": [
    "def my_function(testo):\n",
    "    testo = testo * 3\n",
    "    print(testo)\n",
    "\n",
    "my_function(\"Ciao\")"
   ]
  },
  {
   "cell_type": "markdown",
   "id": "d5b9e38e",
   "metadata": {},
   "source": [
    "I parametri possono essere più di uno. Le variabili che possiamo inserire possono essere moltepicli. Basta ricordare che: se si forniscono delle variabili come parametro alla chiamata a funzione, questi verranno presi in ordine e assegnati secondo quell'ordine:"
   ]
  },
  {
   "cell_type": "code",
   "execution_count": 13,
   "id": "118717e9",
   "metadata": {},
   "outputs": [
    {
     "name": "stdout",
     "output_type": "stream",
     "text": [
      "Ciao come stai?\n"
     ]
    }
   ],
   "source": [
    "def my_function(testo_1, testo_2):\n",
    "    print(testo_1, testo_2)\n",
    "\n",
    "my_function(\"Ciao\", \"come stai?\")\n",
    "# \"Ciao\" -> testo_1 e \"come stai?\" -> testo_2 per ordine di inserimento"
   ]
  },
  {
   "cell_type": "markdown",
   "id": "d371c9bd",
   "metadata": {},
   "source": [
    "Infine le funzioni possono effettivamente restituire al chiamate delle altre variabili tramite il comando \"return\""
   ]
  },
  {
   "cell_type": "code",
   "execution_count": 14,
   "id": "4be83bfd",
   "metadata": {},
   "outputs": [
    {
     "name": "stdout",
     "output_type": "stream",
     "text": [
      "<class 'int'>\n",
      "7\n"
     ]
    }
   ],
   "source": [
    "def my_somma(numero_1, numero_2):\n",
    "    risultato = numero_1 + numero_2\n",
    "    return risultato\n",
    "\n",
    "somma = my_somma(3, 4)\n",
    "\n",
    "print(type(somma))\n",
    "print(somma)"
   ]
  },
  {
   "cell_type": "markdown",
   "id": "8fecc226",
   "metadata": {},
   "source": [
    "Per rendere le funzioni più comprensibili all'utente, ci sono diverse cose che si possono aggiungere:\n",
    "- Una documentazione che spiega cosa fa la funzione, come devono essere i parametri e cosa restituisce.\n",
    "- Specificare il tipo che i parametri devono avere (numero_1 deve essere un intero)\n",
    "- Specificare il tipo dell'oggetto che viene restituito (se viene restituito qualcosa) (opzionale python lo capisce da solo)"
   ]
  },
  {
   "cell_type": "code",
   "execution_count": null,
   "id": "ea1b1838",
   "metadata": {},
   "outputs": [],
   "source": [
    "def my_somma(numero_1:int, numero_2:int) -> int:\n",
    "    \"\"\"\n",
    "    Esegue la somma tra due numeri. Sia numero_1 che numero_2 devono essere degli interi.\n",
    "    La funzione restituisce la loro somma come intero.\n",
    "    \"\"\"\n",
    "    risultato = numero_1 + numero_2\n",
    "    return risultato\n",
    "\n",
    "print(my_somma(3, 4))"
   ]
  },
  {
   "cell_type": "markdown",
   "id": "bf9fdb43",
   "metadata": {},
   "source": [
    "# Pandas"
   ]
  },
  {
   "cell_type": "markdown",
   "id": "ba8f0482",
   "metadata": {},
   "source": [
    "Pandas è la libreria che userete per manipolare i dati.  \n",
    "Non è una libreria base di python, quindi dovrete installarla tramite il comando \"pip install pandas\" che potete effettuare da terminale o tramite una cella di code qui sul notebook.  \n",
    "N.B: Vi ricordo e consiglio di assicurarvi di aver creato il vostro venv prima!"
   ]
  },
  {
   "cell_type": "code",
   "execution_count": null,
   "id": "4c3f3e9d",
   "metadata": {},
   "outputs": [],
   "source": [
    "pip install pandas"
   ]
  },
  {
   "cell_type": "markdown",
   "id": "2106af02",
   "metadata": {},
   "source": [
    "### Caricare Dataset e funzioni di base di controllo"
   ]
  },
  {
   "cell_type": "markdown",
   "id": "73f56d7d",
   "metadata": {},
   "source": [
    "Come caricare un \"data set\" e cioè i dati all'interno di una tabella."
   ]
  },
  {
   "cell_type": "code",
   "execution_count": 40,
   "id": "50827d51",
   "metadata": {},
   "outputs": [
    {
     "name": "stdout",
     "output_type": "stream",
     "text": [
      "<class 'pandas.core.frame.DataFrame'>\n"
     ]
    }
   ],
   "source": [
    "import pandas as pd #Carichiamo la libreria di pandas per poterla usare. Per convenzione si usa l'abbreviazione pd\n",
    "\n",
    "df = pd.read_csv(\"remote_postings_clean.csv\")   # Carichiamo una tabella in formato csv presente sul vostro pc\n",
    "print(type(df))"
   ]
  },
  {
   "cell_type": "markdown",
   "id": "34df651a",
   "metadata": {},
   "source": [
    "otteniamo un oggetto di tipo \"DataFrame\" che è il tipo che pandas usa per le sue tabelle"
   ]
  },
  {
   "cell_type": "markdown",
   "id": "e6420728",
   "metadata": {},
   "source": [
    "Una volta caricati i dati all'interno di un DataFrame, vediamo i primi metodi che si possono usare:"
   ]
  },
  {
   "cell_type": "code",
   "execution_count": null,
   "id": "3b6108fb",
   "metadata": {},
   "outputs": [],
   "source": [
    "df.info()\n",
    "# Direi sempre la prima cosa da fare. Ci dice quante righe/colonne e ogni colonna di che tipo di dati contiene\n",
    "# ci dice anche ogni colonna se presenta dei valori mancanti e quanti. E' già una prima analisi da fare!"
   ]
  },
  {
   "cell_type": "code",
   "execution_count": null,
   "id": "7d3f87a7",
   "metadata": {},
   "outputs": [],
   "source": [
    "df.head()\n",
    "# Ci stampa in formato tabellare le prime 5 righe. Se inseriamo un numero come parametro possiamo modificare il n di righe\n",
    "# esempio: df.head(10)"
   ]
  },
  {
   "cell_type": "code",
   "execution_count": null,
   "id": "dbaf12a5",
   "metadata": {},
   "outputs": [],
   "source": [
    "df.tails()\n",
    "# Uguale a head ma stampa le ultime 5 righe."
   ]
  },
  {
   "cell_type": "code",
   "execution_count": null,
   "id": "b99d31fa",
   "metadata": {},
   "outputs": [],
   "source": [
    "df.sample()\n",
    "# Uguale a head ma di base stampa 1 sola riga e inoltre non prende le prime o le ultime ma una a caso!\n",
    "# Anche qui si può specificare quante: df.sample(5)"
   ]
  },
  {
   "cell_type": "markdown",
   "id": "2b46a818",
   "metadata": {},
   "source": [
    "Tramite \"iloc\" possiamo stampare la riga che vogliamo indicando il suo indice, esempio la 2"
   ]
  },
  {
   "cell_type": "code",
   "execution_count": null,
   "id": "14f04912",
   "metadata": {},
   "outputs": [
    {
     "data": {
      "text/plain": [
       "Year            2013\n",
       "IdCountry         IT\n",
       "IdCity          1007\n",
       "City         Alpette\n",
       "%             0,000%\n",
       "Name: 2, dtype: object"
      ]
     },
     "execution_count": 4,
     "metadata": {},
     "output_type": "execute_result"
    }
   ],
   "source": [
    "df.iloc[2]  # con .iloc[] "
   ]
  },
  {
   "cell_type": "markdown",
   "id": "ce9f49c8",
   "metadata": {},
   "source": [
    "prevede l'utilizzo dello slice come le liste o le stringhe e quindi stampare una serie di righe"
   ]
  },
  {
   "cell_type": "code",
   "execution_count": null,
   "id": "8450b20e",
   "metadata": {},
   "outputs": [
    {
     "data": {
      "text/html": [
       "<div>\n",
       "<style scoped>\n",
       "    .dataframe tbody tr th:only-of-type {\n",
       "        vertical-align: middle;\n",
       "    }\n",
       "\n",
       "    .dataframe tbody tr th {\n",
       "        vertical-align: top;\n",
       "    }\n",
       "\n",
       "    .dataframe thead th {\n",
       "        text-align: right;\n",
       "    }\n",
       "</style>\n",
       "<table border=\"1\" class=\"dataframe\">\n",
       "  <thead>\n",
       "    <tr style=\"text-align: right;\">\n",
       "      <th></th>\n",
       "      <th>Year</th>\n",
       "      <th>IdCountry</th>\n",
       "      <th>IdCity</th>\n",
       "      <th>City</th>\n",
       "      <th>%</th>\n",
       "    </tr>\n",
       "  </thead>\n",
       "  <tbody>\n",
       "    <tr>\n",
       "      <th>0</th>\n",
       "      <td>2013</td>\n",
       "      <td>IT</td>\n",
       "      <td>1002</td>\n",
       "      <td>Airasca</td>\n",
       "      <td>0,000%</td>\n",
       "    </tr>\n",
       "    <tr>\n",
       "      <th>1</th>\n",
       "      <td>2013</td>\n",
       "      <td>IT</td>\n",
       "      <td>1006</td>\n",
       "      <td>Almese</td>\n",
       "      <td>0,000%</td>\n",
       "    </tr>\n",
       "    <tr>\n",
       "      <th>2</th>\n",
       "      <td>2013</td>\n",
       "      <td>IT</td>\n",
       "      <td>1007</td>\n",
       "      <td>Alpette</td>\n",
       "      <td>0,000%</td>\n",
       "    </tr>\n",
       "    <tr>\n",
       "      <th>3</th>\n",
       "      <td>2013</td>\n",
       "      <td>IT</td>\n",
       "      <td>1008</td>\n",
       "      <td>Alpignano</td>\n",
       "      <td>0,000%</td>\n",
       "    </tr>\n",
       "    <tr>\n",
       "      <th>4</th>\n",
       "      <td>2013</td>\n",
       "      <td>IT</td>\n",
       "      <td>1013</td>\n",
       "      <td>Avigliana</td>\n",
       "      <td>0,000%</td>\n",
       "    </tr>\n",
       "  </tbody>\n",
       "</table>\n",
       "</div>"
      ],
      "text/plain": [
       "   Year IdCountry  IdCity       City       %\n",
       "0  2013        IT    1002    Airasca  0,000%\n",
       "1  2013        IT    1006     Almese  0,000%\n",
       "2  2013        IT    1007    Alpette  0,000%\n",
       "3  2013        IT    1008  Alpignano  0,000%\n",
       "4  2013        IT    1013  Avigliana  0,000%"
      ]
     },
     "execution_count": 5,
     "metadata": {},
     "output_type": "execute_result"
    }
   ],
   "source": [
    "df.iloc[:5]"
   ]
  },
  {
   "cell_type": "markdown",
   "id": "b71a2256",
   "metadata": {},
   "source": [
    "Possiamo aggiungere un secondo parametro che sarà l'indice della colonna.  \n",
    "In questo modo, di fatto, si stampa il valore contenuto in una cella"
   ]
  },
  {
   "cell_type": "code",
   "execution_count": 11,
   "id": "b12d9865",
   "metadata": {},
   "outputs": [
    {
     "data": {
      "text/plain": [
       "'IT'"
      ]
     },
     "execution_count": 11,
     "metadata": {},
     "output_type": "execute_result"
    }
   ],
   "source": [
    "df.iloc[0, 1]"
   ]
  },
  {
   "cell_type": "markdown",
   "id": "253bf056",
   "metadata": {},
   "source": [
    "Se non vogliamo usare gli indici numerici riferiti alle colonne, possiamo usare la sua versione \"loc\":"
   ]
  },
  {
   "cell_type": "code",
   "execution_count": 13,
   "id": "5d11f474",
   "metadata": {},
   "outputs": [
    {
     "data": {
      "text/plain": [
       "'IT'"
      ]
     },
     "execution_count": 13,
     "metadata": {},
     "output_type": "execute_result"
    }
   ],
   "source": [
    "df.loc[0, \"IdCountry\"]"
   ]
  },
  {
   "cell_type": "markdown",
   "id": "7bc981eb",
   "metadata": {},
   "source": [
    "Ecco un esempio con tutti questi concetti dentro:"
   ]
  },
  {
   "cell_type": "code",
   "execution_count": 19,
   "id": "81c33c11",
   "metadata": {},
   "outputs": [
    {
     "data": {
      "text/html": [
       "<div>\n",
       "<style scoped>\n",
       "    .dataframe tbody tr th:only-of-type {\n",
       "        vertical-align: middle;\n",
       "    }\n",
       "\n",
       "    .dataframe tbody tr th {\n",
       "        vertical-align: top;\n",
       "    }\n",
       "\n",
       "    .dataframe thead th {\n",
       "        text-align: right;\n",
       "    }\n",
       "</style>\n",
       "<table border=\"1\" class=\"dataframe\">\n",
       "  <thead>\n",
       "    <tr style=\"text-align: right;\">\n",
       "      <th></th>\n",
       "      <th>IdCountry</th>\n",
       "      <th>IdCity</th>\n",
       "    </tr>\n",
       "  </thead>\n",
       "  <tbody>\n",
       "    <tr>\n",
       "      <th>0</th>\n",
       "      <td>IT</td>\n",
       "      <td>1002</td>\n",
       "    </tr>\n",
       "    <tr>\n",
       "      <th>1</th>\n",
       "      <td>IT</td>\n",
       "      <td>1006</td>\n",
       "    </tr>\n",
       "    <tr>\n",
       "      <th>2</th>\n",
       "      <td>IT</td>\n",
       "      <td>1007</td>\n",
       "    </tr>\n",
       "    <tr>\n",
       "      <th>3</th>\n",
       "      <td>IT</td>\n",
       "      <td>1008</td>\n",
       "    </tr>\n",
       "    <tr>\n",
       "      <th>4</th>\n",
       "      <td>IT</td>\n",
       "      <td>1013</td>\n",
       "    </tr>\n",
       "  </tbody>\n",
       "</table>\n",
       "</div>"
      ],
      "text/plain": [
       "  IdCountry  IdCity\n",
       "0        IT    1002\n",
       "1        IT    1006\n",
       "2        IT    1007\n",
       "3        IT    1008\n",
       "4        IT    1013"
      ]
     },
     "execution_count": 19,
     "metadata": {},
     "output_type": "execute_result"
    }
   ],
   "source": [
    "df.loc[:4, [\"IdCountry\", \"IdCity\"] ] # Stampa prime 5 righe con la lista di colonne data"
   ]
  },
  {
   "cell_type": "markdown",
   "id": "2cd394b0",
   "metadata": {},
   "source": [
    "Un modo più comune di filtrare le colonne da usare è direttamente inserire dentro le parentesi quadre una lista di stringhe che si riferiscono alle colonne:"
   ]
  },
  {
   "cell_type": "code",
   "execution_count": 23,
   "id": "2f99751d",
   "metadata": {},
   "outputs": [
    {
     "data": {
      "text/html": [
       "<div>\n",
       "<style scoped>\n",
       "    .dataframe tbody tr th:only-of-type {\n",
       "        vertical-align: middle;\n",
       "    }\n",
       "\n",
       "    .dataframe tbody tr th {\n",
       "        vertical-align: top;\n",
       "    }\n",
       "\n",
       "    .dataframe thead th {\n",
       "        text-align: right;\n",
       "    }\n",
       "</style>\n",
       "<table border=\"1\" class=\"dataframe\">\n",
       "  <thead>\n",
       "    <tr style=\"text-align: right;\">\n",
       "      <th></th>\n",
       "      <th>IdCountry</th>\n",
       "      <th>IdCity</th>\n",
       "    </tr>\n",
       "  </thead>\n",
       "  <tbody>\n",
       "    <tr>\n",
       "      <th>0</th>\n",
       "      <td>IT</td>\n",
       "      <td>1002</td>\n",
       "    </tr>\n",
       "    <tr>\n",
       "      <th>1</th>\n",
       "      <td>IT</td>\n",
       "      <td>1006</td>\n",
       "    </tr>\n",
       "    <tr>\n",
       "      <th>2</th>\n",
       "      <td>IT</td>\n",
       "      <td>1007</td>\n",
       "    </tr>\n",
       "    <tr>\n",
       "      <th>3</th>\n",
       "      <td>IT</td>\n",
       "      <td>1008</td>\n",
       "    </tr>\n",
       "    <tr>\n",
       "      <th>4</th>\n",
       "      <td>IT</td>\n",
       "      <td>1013</td>\n",
       "    </tr>\n",
       "  </tbody>\n",
       "</table>\n",
       "</div>"
      ],
      "text/plain": [
       "  IdCountry  IdCity\n",
       "0        IT    1002\n",
       "1        IT    1006\n",
       "2        IT    1007\n",
       "3        IT    1008\n",
       "4        IT    1013"
      ]
     },
     "execution_count": 23,
     "metadata": {},
     "output_type": "execute_result"
    }
   ],
   "source": [
    "df[ [\"IdCountry\", \"IdCity\"]  ].head() # Ho lasciato degli spazi per far vedere chiaramente che sono 2 coppie di parentesi quadre"
   ]
  },
  {
   "cell_type": "markdown",
   "id": "95d2952c",
   "metadata": {},
   "source": [
    "In generale, quando dovete filtrare:\n",
    "- Solo righe o Righe+colonne -> iloc[] / loc[]\n",
    "- Solo Colonne -> le parentesi quadre ( df[colonne] )"
   ]
  },
  {
   "cell_type": "markdown",
   "id": "748d5b03",
   "metadata": {},
   "source": [
    "### Operazioni base di modifica"
   ]
  },
  {
   "cell_type": "markdown",
   "id": "5281bb35",
   "metadata": {},
   "source": [
    "Pandas molto spesso si comporta in modo simile ai classici dizionari.  \n",
    "Ad esempio se volete creare una nuova colonna e assegnare dei valori si può fare come i dizionari, quindi  \n",
    "richiamando il df con la \"chiave\" della colonna e assegnare un valore.  \n",
    "Se la chiave esiste (quindi la colonna esiste) allora i valori all'interno verranno modificati e sostituti a quelli già esistenti.  \n",
    "Se la chiave non esiste (e quindi una nuova colonna), verrà creata automaticamente con i valori richiesti:"
   ]
  },
  {
   "cell_type": "code",
   "execution_count": 41,
   "id": "dd007cb6",
   "metadata": {},
   "outputs": [
    {
     "data": {
      "text/html": [
       "<div>\n",
       "<style scoped>\n",
       "    .dataframe tbody tr th:only-of-type {\n",
       "        vertical-align: middle;\n",
       "    }\n",
       "\n",
       "    .dataframe tbody tr th {\n",
       "        vertical-align: top;\n",
       "    }\n",
       "\n",
       "    .dataframe thead th {\n",
       "        text-align: right;\n",
       "    }\n",
       "</style>\n",
       "<table border=\"1\" class=\"dataframe\">\n",
       "  <thead>\n",
       "    <tr style=\"text-align: right;\">\n",
       "      <th></th>\n",
       "      <th>Year</th>\n",
       "      <th>IdCountry</th>\n",
       "      <th>IdCity</th>\n",
       "      <th>City</th>\n",
       "      <th>%</th>\n",
       "      <th>nuova_colonna_1</th>\n",
       "      <th>nuova_colonna_2</th>\n",
       "      <th>nuova_colonna_3</th>\n",
       "    </tr>\n",
       "  </thead>\n",
       "  <tbody>\n",
       "    <tr>\n",
       "      <th>0</th>\n",
       "      <td>2013</td>\n",
       "      <td>IT</td>\n",
       "      <td>1002</td>\n",
       "      <td>Airasca</td>\n",
       "      <td>0,000%</td>\n",
       "      <td>0</td>\n",
       "      <td>0</td>\n",
       "      <td>0</td>\n",
       "    </tr>\n",
       "    <tr>\n",
       "      <th>1</th>\n",
       "      <td>2013</td>\n",
       "      <td>IT</td>\n",
       "      <td>1006</td>\n",
       "      <td>Almese</td>\n",
       "      <td>0,000%</td>\n",
       "      <td>0</td>\n",
       "      <td>0</td>\n",
       "      <td>0</td>\n",
       "    </tr>\n",
       "    <tr>\n",
       "      <th>2</th>\n",
       "      <td>2013</td>\n",
       "      <td>IT</td>\n",
       "      <td>1007</td>\n",
       "      <td>Alpette</td>\n",
       "      <td>0,000%</td>\n",
       "      <td>0</td>\n",
       "      <td>0</td>\n",
       "      <td>0</td>\n",
       "    </tr>\n",
       "    <tr>\n",
       "      <th>3</th>\n",
       "      <td>2013</td>\n",
       "      <td>IT</td>\n",
       "      <td>1008</td>\n",
       "      <td>Alpignano</td>\n",
       "      <td>0,000%</td>\n",
       "      <td>0</td>\n",
       "      <td>0</td>\n",
       "      <td>0</td>\n",
       "    </tr>\n",
       "    <tr>\n",
       "      <th>4</th>\n",
       "      <td>2013</td>\n",
       "      <td>IT</td>\n",
       "      <td>1013</td>\n",
       "      <td>Avigliana</td>\n",
       "      <td>0,000%</td>\n",
       "      <td>0</td>\n",
       "      <td>0</td>\n",
       "      <td>0</td>\n",
       "    </tr>\n",
       "  </tbody>\n",
       "</table>\n",
       "</div>"
      ],
      "text/plain": [
       "   Year IdCountry  IdCity       City       %  nuova_colonna_1  \\\n",
       "0  2013        IT    1002    Airasca  0,000%                0   \n",
       "1  2013        IT    1006     Almese  0,000%                0   \n",
       "2  2013        IT    1007    Alpette  0,000%                0   \n",
       "3  2013        IT    1008  Alpignano  0,000%                0   \n",
       "4  2013        IT    1013  Avigliana  0,000%                0   \n",
       "\n",
       "   nuova_colonna_2  nuova_colonna_3  \n",
       "0                0                0  \n",
       "1                0                0  \n",
       "2                0                0  \n",
       "3                0                0  \n",
       "4                0                0  "
      ]
     },
     "execution_count": 41,
     "metadata": {},
     "output_type": "execute_result"
    }
   ],
   "source": [
    "df[\"nuova_colonna_1\"] = 0\n",
    "df[\"nuova_colonna_2\"] = 0\n",
    "df[\"nuova_colonna_3\"] = 0\n",
    "\n",
    "# Ora stampiamo il dataframe e vediamo che compare\n",
    "df.head()"
   ]
  },
  {
   "cell_type": "markdown",
   "id": "64877d08",
   "metadata": {},
   "source": [
    "Se la vogliamo rimuovere, possiamo usare \"drop\".  \n",
    "Attenzione perché drop è generica per righe e colonne, quindi bisogna specificare cosa si sta rimuovendo.  \n",
    "Per le colonne si può usare \"axis=1\" (axis=0 sono le righe invece):"
   ]
  },
  {
   "cell_type": "code",
   "execution_count": 42,
   "id": "de163f2e",
   "metadata": {},
   "outputs": [
    {
     "data": {
      "text/html": [
       "<div>\n",
       "<style scoped>\n",
       "    .dataframe tbody tr th:only-of-type {\n",
       "        vertical-align: middle;\n",
       "    }\n",
       "\n",
       "    .dataframe tbody tr th {\n",
       "        vertical-align: top;\n",
       "    }\n",
       "\n",
       "    .dataframe thead th {\n",
       "        text-align: right;\n",
       "    }\n",
       "</style>\n",
       "<table border=\"1\" class=\"dataframe\">\n",
       "  <thead>\n",
       "    <tr style=\"text-align: right;\">\n",
       "      <th></th>\n",
       "      <th>Year</th>\n",
       "      <th>IdCountry</th>\n",
       "      <th>IdCity</th>\n",
       "      <th>City</th>\n",
       "      <th>%</th>\n",
       "      <th>nuova_colonna_1</th>\n",
       "      <th>nuova_colonna_2</th>\n",
       "    </tr>\n",
       "  </thead>\n",
       "  <tbody>\n",
       "    <tr>\n",
       "      <th>0</th>\n",
       "      <td>2013</td>\n",
       "      <td>IT</td>\n",
       "      <td>1002</td>\n",
       "      <td>Airasca</td>\n",
       "      <td>0,000%</td>\n",
       "      <td>0</td>\n",
       "      <td>0</td>\n",
       "    </tr>\n",
       "    <tr>\n",
       "      <th>1</th>\n",
       "      <td>2013</td>\n",
       "      <td>IT</td>\n",
       "      <td>1006</td>\n",
       "      <td>Almese</td>\n",
       "      <td>0,000%</td>\n",
       "      <td>0</td>\n",
       "      <td>0</td>\n",
       "    </tr>\n",
       "    <tr>\n",
       "      <th>2</th>\n",
       "      <td>2013</td>\n",
       "      <td>IT</td>\n",
       "      <td>1007</td>\n",
       "      <td>Alpette</td>\n",
       "      <td>0,000%</td>\n",
       "      <td>0</td>\n",
       "      <td>0</td>\n",
       "    </tr>\n",
       "    <tr>\n",
       "      <th>3</th>\n",
       "      <td>2013</td>\n",
       "      <td>IT</td>\n",
       "      <td>1008</td>\n",
       "      <td>Alpignano</td>\n",
       "      <td>0,000%</td>\n",
       "      <td>0</td>\n",
       "      <td>0</td>\n",
       "    </tr>\n",
       "    <tr>\n",
       "      <th>4</th>\n",
       "      <td>2013</td>\n",
       "      <td>IT</td>\n",
       "      <td>1013</td>\n",
       "      <td>Avigliana</td>\n",
       "      <td>0,000%</td>\n",
       "      <td>0</td>\n",
       "      <td>0</td>\n",
       "    </tr>\n",
       "    <tr>\n",
       "      <th>...</th>\n",
       "      <td>...</td>\n",
       "      <td>...</td>\n",
       "      <td>...</td>\n",
       "      <td>...</td>\n",
       "      <td>...</td>\n",
       "      <td>...</td>\n",
       "      <td>...</td>\n",
       "    </tr>\n",
       "    <tr>\n",
       "      <th>62021</th>\n",
       "      <td>2025</td>\n",
       "      <td>IT</td>\n",
       "      <td>110003</td>\n",
       "      <td>Bisceglie</td>\n",
       "      <td>1,342%</td>\n",
       "      <td>0</td>\n",
       "      <td>0</td>\n",
       "    </tr>\n",
       "    <tr>\n",
       "      <th>62022</th>\n",
       "      <td>2025</td>\n",
       "      <td>IT</td>\n",
       "      <td>110006</td>\n",
       "      <td>Minervino Murge</td>\n",
       "      <td>0,000%</td>\n",
       "      <td>0</td>\n",
       "      <td>0</td>\n",
       "    </tr>\n",
       "    <tr>\n",
       "      <th>62023</th>\n",
       "      <td>2025</td>\n",
       "      <td>IT</td>\n",
       "      <td>110008</td>\n",
       "      <td>Spinazzola</td>\n",
       "      <td>0,000%</td>\n",
       "      <td>0</td>\n",
       "      <td>0</td>\n",
       "    </tr>\n",
       "    <tr>\n",
       "      <th>62024</th>\n",
       "      <td>2025</td>\n",
       "      <td>IT</td>\n",
       "      <td>110009</td>\n",
       "      <td>Trani</td>\n",
       "      <td>2,011%</td>\n",
       "      <td>0</td>\n",
       "      <td>0</td>\n",
       "    </tr>\n",
       "    <tr>\n",
       "      <th>62025</th>\n",
       "      <td>2025</td>\n",
       "      <td>IT</td>\n",
       "      <td>110010</td>\n",
       "      <td>Trinitapoli</td>\n",
       "      <td>0,000%</td>\n",
       "      <td>0</td>\n",
       "      <td>0</td>\n",
       "    </tr>\n",
       "  </tbody>\n",
       "</table>\n",
       "<p>62026 rows × 7 columns</p>\n",
       "</div>"
      ],
      "text/plain": [
       "       Year IdCountry  IdCity             City       %  nuova_colonna_1  \\\n",
       "0      2013        IT    1002          Airasca  0,000%                0   \n",
       "1      2013        IT    1006           Almese  0,000%                0   \n",
       "2      2013        IT    1007          Alpette  0,000%                0   \n",
       "3      2013        IT    1008        Alpignano  0,000%                0   \n",
       "4      2013        IT    1013        Avigliana  0,000%                0   \n",
       "...     ...       ...     ...              ...     ...              ...   \n",
       "62021  2025        IT  110003        Bisceglie  1,342%                0   \n",
       "62022  2025        IT  110006  Minervino Murge  0,000%                0   \n",
       "62023  2025        IT  110008       Spinazzola  0,000%                0   \n",
       "62024  2025        IT  110009            Trani  2,011%                0   \n",
       "62025  2025        IT  110010      Trinitapoli  0,000%                0   \n",
       "\n",
       "       nuova_colonna_2  \n",
       "0                    0  \n",
       "1                    0  \n",
       "2                    0  \n",
       "3                    0  \n",
       "4                    0  \n",
       "...                ...  \n",
       "62021                0  \n",
       "62022                0  \n",
       "62023                0  \n",
       "62024                0  \n",
       "62025                0  \n",
       "\n",
       "[62026 rows x 7 columns]"
      ]
     },
     "execution_count": 42,
     "metadata": {},
     "output_type": "execute_result"
    }
   ],
   "source": [
    "df.drop(\"nuova_colonna_3\", axis=1)"
   ]
  },
  {
   "cell_type": "markdown",
   "id": "248b31ea",
   "metadata": {},
   "source": [
    "ATTENZIONE: praticamente tutte i metodi di pandas, di base non \"agiscono\" direttamente sull'oggetto in cui le si sta lanciando.  \n",
    "Ad sempio in questo caso la drop() non sta modificando direttamente il contenuto di \"df\" ma sta RESTITUENDO come risultato una versione (vista) di \"df\" con quella modifica.  \n",
    "Se non si \"raccoglie\" il risultato all'interno di una variabile (che può essere anche se stessa) la modifica di fatto non avviene."
   ]
  },
  {
   "cell_type": "code",
   "execution_count": 43,
   "id": "c8b7f6c4",
   "metadata": {},
   "outputs": [
    {
     "data": {
      "text/html": [
       "<div>\n",
       "<style scoped>\n",
       "    .dataframe tbody tr th:only-of-type {\n",
       "        vertical-align: middle;\n",
       "    }\n",
       "\n",
       "    .dataframe tbody tr th {\n",
       "        vertical-align: top;\n",
       "    }\n",
       "\n",
       "    .dataframe thead th {\n",
       "        text-align: right;\n",
       "    }\n",
       "</style>\n",
       "<table border=\"1\" class=\"dataframe\">\n",
       "  <thead>\n",
       "    <tr style=\"text-align: right;\">\n",
       "      <th></th>\n",
       "      <th>Year</th>\n",
       "      <th>IdCountry</th>\n",
       "      <th>IdCity</th>\n",
       "      <th>City</th>\n",
       "      <th>%</th>\n",
       "      <th>nuova_colonna_1</th>\n",
       "      <th>nuova_colonna_2</th>\n",
       "      <th>nuova_colonna_3</th>\n",
       "    </tr>\n",
       "  </thead>\n",
       "  <tbody>\n",
       "    <tr>\n",
       "      <th>0</th>\n",
       "      <td>2013</td>\n",
       "      <td>IT</td>\n",
       "      <td>1002</td>\n",
       "      <td>Airasca</td>\n",
       "      <td>0,000%</td>\n",
       "      <td>0</td>\n",
       "      <td>0</td>\n",
       "      <td>0</td>\n",
       "    </tr>\n",
       "    <tr>\n",
       "      <th>1</th>\n",
       "      <td>2013</td>\n",
       "      <td>IT</td>\n",
       "      <td>1006</td>\n",
       "      <td>Almese</td>\n",
       "      <td>0,000%</td>\n",
       "      <td>0</td>\n",
       "      <td>0</td>\n",
       "      <td>0</td>\n",
       "    </tr>\n",
       "    <tr>\n",
       "      <th>2</th>\n",
       "      <td>2013</td>\n",
       "      <td>IT</td>\n",
       "      <td>1007</td>\n",
       "      <td>Alpette</td>\n",
       "      <td>0,000%</td>\n",
       "      <td>0</td>\n",
       "      <td>0</td>\n",
       "      <td>0</td>\n",
       "    </tr>\n",
       "    <tr>\n",
       "      <th>3</th>\n",
       "      <td>2013</td>\n",
       "      <td>IT</td>\n",
       "      <td>1008</td>\n",
       "      <td>Alpignano</td>\n",
       "      <td>0,000%</td>\n",
       "      <td>0</td>\n",
       "      <td>0</td>\n",
       "      <td>0</td>\n",
       "    </tr>\n",
       "    <tr>\n",
       "      <th>4</th>\n",
       "      <td>2013</td>\n",
       "      <td>IT</td>\n",
       "      <td>1013</td>\n",
       "      <td>Avigliana</td>\n",
       "      <td>0,000%</td>\n",
       "      <td>0</td>\n",
       "      <td>0</td>\n",
       "      <td>0</td>\n",
       "    </tr>\n",
       "  </tbody>\n",
       "</table>\n",
       "</div>"
      ],
      "text/plain": [
       "   Year IdCountry  IdCity       City       %  nuova_colonna_1  \\\n",
       "0  2013        IT    1002    Airasca  0,000%                0   \n",
       "1  2013        IT    1006     Almese  0,000%                0   \n",
       "2  2013        IT    1007    Alpette  0,000%                0   \n",
       "3  2013        IT    1008  Alpignano  0,000%                0   \n",
       "4  2013        IT    1013  Avigliana  0,000%                0   \n",
       "\n",
       "   nuova_colonna_2  nuova_colonna_3  \n",
       "0                0                0  \n",
       "1                0                0  \n",
       "2                0                0  \n",
       "3                0                0  \n",
       "4                0                0  "
      ]
     },
     "execution_count": 43,
     "metadata": {},
     "output_type": "execute_result"
    }
   ],
   "source": [
    "df.head() # Guardate ancora la colonna c'è ancora"
   ]
  },
  {
   "cell_type": "code",
   "execution_count": 44,
   "id": "61cb8a60",
   "metadata": {},
   "outputs": [
    {
     "data": {
      "text/html": [
       "<div>\n",
       "<style scoped>\n",
       "    .dataframe tbody tr th:only-of-type {\n",
       "        vertical-align: middle;\n",
       "    }\n",
       "\n",
       "    .dataframe tbody tr th {\n",
       "        vertical-align: top;\n",
       "    }\n",
       "\n",
       "    .dataframe thead th {\n",
       "        text-align: right;\n",
       "    }\n",
       "</style>\n",
       "<table border=\"1\" class=\"dataframe\">\n",
       "  <thead>\n",
       "    <tr style=\"text-align: right;\">\n",
       "      <th></th>\n",
       "      <th>Year</th>\n",
       "      <th>IdCountry</th>\n",
       "      <th>IdCity</th>\n",
       "      <th>City</th>\n",
       "      <th>%</th>\n",
       "      <th>nuova_colonna_1</th>\n",
       "      <th>nuova_colonna_2</th>\n",
       "    </tr>\n",
       "  </thead>\n",
       "  <tbody>\n",
       "    <tr>\n",
       "      <th>0</th>\n",
       "      <td>2013</td>\n",
       "      <td>IT</td>\n",
       "      <td>1002</td>\n",
       "      <td>Airasca</td>\n",
       "      <td>0,000%</td>\n",
       "      <td>0</td>\n",
       "      <td>0</td>\n",
       "    </tr>\n",
       "    <tr>\n",
       "      <th>1</th>\n",
       "      <td>2013</td>\n",
       "      <td>IT</td>\n",
       "      <td>1006</td>\n",
       "      <td>Almese</td>\n",
       "      <td>0,000%</td>\n",
       "      <td>0</td>\n",
       "      <td>0</td>\n",
       "    </tr>\n",
       "    <tr>\n",
       "      <th>2</th>\n",
       "      <td>2013</td>\n",
       "      <td>IT</td>\n",
       "      <td>1007</td>\n",
       "      <td>Alpette</td>\n",
       "      <td>0,000%</td>\n",
       "      <td>0</td>\n",
       "      <td>0</td>\n",
       "    </tr>\n",
       "    <tr>\n",
       "      <th>3</th>\n",
       "      <td>2013</td>\n",
       "      <td>IT</td>\n",
       "      <td>1008</td>\n",
       "      <td>Alpignano</td>\n",
       "      <td>0,000%</td>\n",
       "      <td>0</td>\n",
       "      <td>0</td>\n",
       "    </tr>\n",
       "    <tr>\n",
       "      <th>4</th>\n",
       "      <td>2013</td>\n",
       "      <td>IT</td>\n",
       "      <td>1013</td>\n",
       "      <td>Avigliana</td>\n",
       "      <td>0,000%</td>\n",
       "      <td>0</td>\n",
       "      <td>0</td>\n",
       "    </tr>\n",
       "  </tbody>\n",
       "</table>\n",
       "</div>"
      ],
      "text/plain": [
       "   Year IdCountry  IdCity       City       %  nuova_colonna_1  nuova_colonna_2\n",
       "0  2013        IT    1002    Airasca  0,000%                0                0\n",
       "1  2013        IT    1006     Almese  0,000%                0                0\n",
       "2  2013        IT    1007    Alpette  0,000%                0                0\n",
       "3  2013        IT    1008  Alpignano  0,000%                0                0\n",
       "4  2013        IT    1013  Avigliana  0,000%                0                0"
      ]
     },
     "execution_count": 44,
     "metadata": {},
     "output_type": "execute_result"
    }
   ],
   "source": [
    "df_senza_colonna = df.drop(\"nuova_colonna_3\", axis=1) # Se raccogliamo l'esito di drop e lo diamo di nuovo a df\n",
    "df_senza_colonna.head() # Ora la colonna è stata effettivamente eliminata"
   ]
  },
  {
   "cell_type": "markdown",
   "id": "63557f81",
   "metadata": {},
   "source": [
    "ovviamente \"df\" contiene ancora la colonna mentre la nuova variabile \"df_senza_colonna\" no.  \n",
    "Ma se volessi semplicemente sovrascrivere il mio \"df\" con la nuova versione?  \n",
    "Certo potrei semplicemente assegnarla a lui stesso:"
   ]
  },
  {
   "cell_type": "code",
   "execution_count": 45,
   "id": "18e0915b",
   "metadata": {},
   "outputs": [
    {
     "data": {
      "text/html": [
       "<div>\n",
       "<style scoped>\n",
       "    .dataframe tbody tr th:only-of-type {\n",
       "        vertical-align: middle;\n",
       "    }\n",
       "\n",
       "    .dataframe tbody tr th {\n",
       "        vertical-align: top;\n",
       "    }\n",
       "\n",
       "    .dataframe thead th {\n",
       "        text-align: right;\n",
       "    }\n",
       "</style>\n",
       "<table border=\"1\" class=\"dataframe\">\n",
       "  <thead>\n",
       "    <tr style=\"text-align: right;\">\n",
       "      <th></th>\n",
       "      <th>Year</th>\n",
       "      <th>IdCountry</th>\n",
       "      <th>IdCity</th>\n",
       "      <th>City</th>\n",
       "      <th>%</th>\n",
       "      <th>nuova_colonna_1</th>\n",
       "      <th>nuova_colonna_2</th>\n",
       "    </tr>\n",
       "  </thead>\n",
       "  <tbody>\n",
       "    <tr>\n",
       "      <th>0</th>\n",
       "      <td>2013</td>\n",
       "      <td>IT</td>\n",
       "      <td>1002</td>\n",
       "      <td>Airasca</td>\n",
       "      <td>0,000%</td>\n",
       "      <td>0</td>\n",
       "      <td>0</td>\n",
       "    </tr>\n",
       "    <tr>\n",
       "      <th>1</th>\n",
       "      <td>2013</td>\n",
       "      <td>IT</td>\n",
       "      <td>1006</td>\n",
       "      <td>Almese</td>\n",
       "      <td>0,000%</td>\n",
       "      <td>0</td>\n",
       "      <td>0</td>\n",
       "    </tr>\n",
       "    <tr>\n",
       "      <th>2</th>\n",
       "      <td>2013</td>\n",
       "      <td>IT</td>\n",
       "      <td>1007</td>\n",
       "      <td>Alpette</td>\n",
       "      <td>0,000%</td>\n",
       "      <td>0</td>\n",
       "      <td>0</td>\n",
       "    </tr>\n",
       "    <tr>\n",
       "      <th>3</th>\n",
       "      <td>2013</td>\n",
       "      <td>IT</td>\n",
       "      <td>1008</td>\n",
       "      <td>Alpignano</td>\n",
       "      <td>0,000%</td>\n",
       "      <td>0</td>\n",
       "      <td>0</td>\n",
       "    </tr>\n",
       "    <tr>\n",
       "      <th>4</th>\n",
       "      <td>2013</td>\n",
       "      <td>IT</td>\n",
       "      <td>1013</td>\n",
       "      <td>Avigliana</td>\n",
       "      <td>0,000%</td>\n",
       "      <td>0</td>\n",
       "      <td>0</td>\n",
       "    </tr>\n",
       "  </tbody>\n",
       "</table>\n",
       "</div>"
      ],
      "text/plain": [
       "   Year IdCountry  IdCity       City       %  nuova_colonna_1  nuova_colonna_2\n",
       "0  2013        IT    1002    Airasca  0,000%                0                0\n",
       "1  2013        IT    1006     Almese  0,000%                0                0\n",
       "2  2013        IT    1007    Alpette  0,000%                0                0\n",
       "3  2013        IT    1008  Alpignano  0,000%                0                0\n",
       "4  2013        IT    1013  Avigliana  0,000%                0                0"
      ]
     },
     "execution_count": 45,
     "metadata": {},
     "output_type": "execute_result"
    }
   ],
   "source": [
    "df = df.drop(\"nuova_colonna_3\", axis=1)\n",
    "df.head()"
   ]
  },
  {
   "cell_type": "markdown",
   "id": "299d4b35",
   "metadata": {},
   "source": [
    "Ma è un operazione così comune che in praticamente tutti i metodi di pandas esiste il parametro \"inplace\" che  \n",
    "si può impostare come \"True\" (di base è settato a False) che fa proprio questo, cioè applica le modifiche sull'oggetto  \n",
    "che ha richiamato il metodo in questione, come ad esempio drop:"
   ]
  },
  {
   "cell_type": "code",
   "execution_count": 46,
   "id": "c14b6646",
   "metadata": {},
   "outputs": [
    {
     "data": {
      "text/html": [
       "<div>\n",
       "<style scoped>\n",
       "    .dataframe tbody tr th:only-of-type {\n",
       "        vertical-align: middle;\n",
       "    }\n",
       "\n",
       "    .dataframe tbody tr th {\n",
       "        vertical-align: top;\n",
       "    }\n",
       "\n",
       "    .dataframe thead th {\n",
       "        text-align: right;\n",
       "    }\n",
       "</style>\n",
       "<table border=\"1\" class=\"dataframe\">\n",
       "  <thead>\n",
       "    <tr style=\"text-align: right;\">\n",
       "      <th></th>\n",
       "      <th>Year</th>\n",
       "      <th>IdCountry</th>\n",
       "      <th>IdCity</th>\n",
       "      <th>City</th>\n",
       "      <th>%</th>\n",
       "      <th>nuova_colonna_1</th>\n",
       "    </tr>\n",
       "  </thead>\n",
       "  <tbody>\n",
       "    <tr>\n",
       "      <th>0</th>\n",
       "      <td>2013</td>\n",
       "      <td>IT</td>\n",
       "      <td>1002</td>\n",
       "      <td>Airasca</td>\n",
       "      <td>0,000%</td>\n",
       "      <td>0</td>\n",
       "    </tr>\n",
       "    <tr>\n",
       "      <th>1</th>\n",
       "      <td>2013</td>\n",
       "      <td>IT</td>\n",
       "      <td>1006</td>\n",
       "      <td>Almese</td>\n",
       "      <td>0,000%</td>\n",
       "      <td>0</td>\n",
       "    </tr>\n",
       "    <tr>\n",
       "      <th>2</th>\n",
       "      <td>2013</td>\n",
       "      <td>IT</td>\n",
       "      <td>1007</td>\n",
       "      <td>Alpette</td>\n",
       "      <td>0,000%</td>\n",
       "      <td>0</td>\n",
       "    </tr>\n",
       "    <tr>\n",
       "      <th>3</th>\n",
       "      <td>2013</td>\n",
       "      <td>IT</td>\n",
       "      <td>1008</td>\n",
       "      <td>Alpignano</td>\n",
       "      <td>0,000%</td>\n",
       "      <td>0</td>\n",
       "    </tr>\n",
       "    <tr>\n",
       "      <th>4</th>\n",
       "      <td>2013</td>\n",
       "      <td>IT</td>\n",
       "      <td>1013</td>\n",
       "      <td>Avigliana</td>\n",
       "      <td>0,000%</td>\n",
       "      <td>0</td>\n",
       "    </tr>\n",
       "  </tbody>\n",
       "</table>\n",
       "</div>"
      ],
      "text/plain": [
       "   Year IdCountry  IdCity       City       %  nuova_colonna_1\n",
       "0  2013        IT    1002    Airasca  0,000%                0\n",
       "1  2013        IT    1006     Almese  0,000%                0\n",
       "2  2013        IT    1007    Alpette  0,000%                0\n",
       "3  2013        IT    1008  Alpignano  0,000%                0\n",
       "4  2013        IT    1013  Avigliana  0,000%                0"
      ]
     },
     "execution_count": 46,
     "metadata": {},
     "output_type": "execute_result"
    }
   ],
   "source": [
    "df.drop(\"nuova_colonna_2\", axis=1, inplace=True)\n",
    "df.head()"
   ]
  },
  {
   "cell_type": "markdown",
   "id": "5c74e3b3",
   "metadata": {},
   "source": [
    "Extra: è possibile rimuovere tante colonne assieme usando il parametro \"columns\" (senza dover specificare axis) a cui  \n",
    "si può dare una lista di stringhe che corrisponde alla lista di colonne da eliminare"
   ]
  },
  {
   "cell_type": "code",
   "execution_count": 47,
   "id": "e46f1672",
   "metadata": {},
   "outputs": [
    {
     "data": {
      "text/html": [
       "<div>\n",
       "<style scoped>\n",
       "    .dataframe tbody tr th:only-of-type {\n",
       "        vertical-align: middle;\n",
       "    }\n",
       "\n",
       "    .dataframe tbody tr th {\n",
       "        vertical-align: top;\n",
       "    }\n",
       "\n",
       "    .dataframe thead th {\n",
       "        text-align: right;\n",
       "    }\n",
       "</style>\n",
       "<table border=\"1\" class=\"dataframe\">\n",
       "  <thead>\n",
       "    <tr style=\"text-align: right;\">\n",
       "      <th></th>\n",
       "      <th>Year</th>\n",
       "      <th>IdCountry</th>\n",
       "      <th>IdCity</th>\n",
       "      <th>City</th>\n",
       "      <th>%</th>\n",
       "    </tr>\n",
       "  </thead>\n",
       "  <tbody>\n",
       "    <tr>\n",
       "      <th>0</th>\n",
       "      <td>2013</td>\n",
       "      <td>IT</td>\n",
       "      <td>1002</td>\n",
       "      <td>Airasca</td>\n",
       "      <td>0,000%</td>\n",
       "    </tr>\n",
       "    <tr>\n",
       "      <th>1</th>\n",
       "      <td>2013</td>\n",
       "      <td>IT</td>\n",
       "      <td>1006</td>\n",
       "      <td>Almese</td>\n",
       "      <td>0,000%</td>\n",
       "    </tr>\n",
       "    <tr>\n",
       "      <th>2</th>\n",
       "      <td>2013</td>\n",
       "      <td>IT</td>\n",
       "      <td>1007</td>\n",
       "      <td>Alpette</td>\n",
       "      <td>0,000%</td>\n",
       "    </tr>\n",
       "    <tr>\n",
       "      <th>3</th>\n",
       "      <td>2013</td>\n",
       "      <td>IT</td>\n",
       "      <td>1008</td>\n",
       "      <td>Alpignano</td>\n",
       "      <td>0,000%</td>\n",
       "    </tr>\n",
       "    <tr>\n",
       "      <th>4</th>\n",
       "      <td>2013</td>\n",
       "      <td>IT</td>\n",
       "      <td>1013</td>\n",
       "      <td>Avigliana</td>\n",
       "      <td>0,000%</td>\n",
       "    </tr>\n",
       "  </tbody>\n",
       "</table>\n",
       "</div>"
      ],
      "text/plain": [
       "   Year IdCountry  IdCity       City       %\n",
       "0  2013        IT    1002    Airasca  0,000%\n",
       "1  2013        IT    1006     Almese  0,000%\n",
       "2  2013        IT    1007    Alpette  0,000%\n",
       "3  2013        IT    1008  Alpignano  0,000%\n",
       "4  2013        IT    1013  Avigliana  0,000%"
      ]
     },
     "execution_count": 47,
     "metadata": {},
     "output_type": "execute_result"
    }
   ],
   "source": [
    "df[\"nuova_colonna_2\"] = 0 # La ricreiamo un attimo per fare la prova\n",
    "df.drop(columns=[\"nuova_colonna_1\", \"nuova_colonna_2\"], inplace=True)\n",
    "df.head()"
   ]
  },
  {
   "cell_type": "markdown",
   "id": "b7551a5e",
   "metadata": {},
   "source": [
    "### Operazioni avanzate di modifica"
   ]
  },
  {
   "cell_type": "markdown",
   "id": "93ae4ec8",
   "metadata": {},
   "source": [
    "#### APPLY"
   ]
  },
  {
   "cell_type": "markdown",
   "id": "8ad7d497",
   "metadata": {},
   "source": [
    "Molto spesso ci ritroveremo a non dover assegnare a un'intera colonna lo stesso valore, esempio 0 come abbiamo visto prima...  \n",
    "ma molto più probabilmente ci sarà una \"regola\" su cui vogliamo basare l'assegnazione per ogni riga.  \n",
    "Ad esempio, se vogliamo creare una colonna che contiene \"Year\" diviso 100 per ottenere 2013 --> 13 e quindi questa operazione  \n",
    "dovrà essere \"APPLICATA\" per ogni riga di quella colonna, dobbiamo usare .apply( )\n"
   ]
  },
  {
   "cell_type": "markdown",
   "id": "8a8e41ce",
   "metadata": {},
   "source": [
    "Apply non è semplice da capire all'inizio ma è la funzione più potente e utile (assieme a groupy) che userete.  \n",
    "Iniziamo dicendo che apply richiede come attributo **funzione** e non una semplice variabile.  \n",
    "Quindi:\n",
    "- Creiamo una funzione \"al volo\" tramite lambda --> Se è un operazione semplice che si può scrivere con una sola istruzione.  \n",
    "- Possiamo anche definire una funzione vera e propria e passargli quella --> Se richiede più operazioni.  \n",
    "- Magari esiste già una funzione e possiamo direttamente dargli quella (esempio: sum)"
   ]
  },
  {
   "cell_type": "markdown",
   "id": "ec27900d",
   "metadata": {},
   "source": [
    "Quindi iniziamo nello specificare 2 \"versioni\":\n",
    "- apply su una colonna --> Alla funzione verrà passato come attributo una cella per ogni riga e la funzione verrà chiamata tante volte passando cella per cella finché non finiscono le righe.  \n",
    "- apply sull'intero dataframe --> Alla funzione verrà passato come attributo un'intera riga e la funzione verrà chiamata tante volte quante sono le righe del dataframe."
   ]
  },
  {
   "cell_type": "markdown",
   "id": "13e7df07",
   "metadata": {},
   "source": [
    "Proviamo a vederlo \"in piccolo\""
   ]
  },
  {
   "cell_type": "markdown",
   "id": "d317565d",
   "metadata": {},
   "source": [
    "Creo un DataFrame di prova. Per ora ignorate come lo sto facendo"
   ]
  },
  {
   "cell_type": "code",
   "execution_count": 58,
   "id": "4e3df586",
   "metadata": {},
   "outputs": [
    {
     "data": {
      "text/html": [
       "<div>\n",
       "<style scoped>\n",
       "    .dataframe tbody tr th:only-of-type {\n",
       "        vertical-align: middle;\n",
       "    }\n",
       "\n",
       "    .dataframe tbody tr th {\n",
       "        vertical-align: top;\n",
       "    }\n",
       "\n",
       "    .dataframe thead th {\n",
       "        text-align: right;\n",
       "    }\n",
       "</style>\n",
       "<table border=\"1\" class=\"dataframe\">\n",
       "  <thead>\n",
       "    <tr style=\"text-align: right;\">\n",
       "      <th></th>\n",
       "      <th>Colonna_1</th>\n",
       "    </tr>\n",
       "  </thead>\n",
       "  <tbody>\n",
       "    <tr>\n",
       "      <th>0</th>\n",
       "      <td>1</td>\n",
       "    </tr>\n",
       "    <tr>\n",
       "      <th>1</th>\n",
       "      <td>2</td>\n",
       "    </tr>\n",
       "    <tr>\n",
       "      <th>2</th>\n",
       "      <td>3</td>\n",
       "    </tr>\n",
       "  </tbody>\n",
       "</table>\n",
       "</div>"
      ],
      "text/plain": [
       "   Colonna_1\n",
       "0          1\n",
       "1          2\n",
       "2          3"
      ]
     },
     "execution_count": 58,
     "metadata": {},
     "output_type": "execute_result"
    }
   ],
   "source": [
    "righe_df_piccolo = [\n",
    "    {\"Colonna_1\": 1},\n",
    "    {\"Colonna_1\": 2},\n",
    "    {\"Colonna_1\": 3}\n",
    "]\n",
    "df_piccolo = pd.DataFrame(righe_df_piccolo)\n",
    "df_piccolo # Questo in ogni caso è il df che usiamo per il test"
   ]
  },
  {
   "cell_type": "markdown",
   "id": "9c79bee3",
   "metadata": {},
   "source": [
    "ora proviamo ad usare apply su una funzione che però non fa sostanzialmente nulla se non fare print su quello che riceve come attributo"
   ]
  },
  {
   "cell_type": "code",
   "execution_count": 61,
   "id": "fd01181d",
   "metadata": {},
   "outputs": [
    {
     "name": "stdout",
     "output_type": "stream",
     "text": [
      "1\n",
      "2\n",
      "3\n"
     ]
    }
   ],
   "source": [
    "def printiamo_x(x):\n",
    "    print(x)\n",
    "    return x\n",
    "\n",
    "df_piccolo[\"Colonna_2\"] = df_piccolo[\"Colonna_1\"].apply(printiamo_x)"
   ]
  },
  {
   "cell_type": "markdown",
   "id": "b4fa3841",
   "metadata": {},
   "source": [
    "Ora è più chiaro quello che succede:  \n",
    "La funzione da noi creata \"printiamo_x\" fa la stampa del valore che gli viene passato da apply e in questo caso corrisponde al valore contenuto nella Colonna_1 riga per riga. La funzione è quindi chiamata 3 volte perché il data frame contiene 3 righe."
   ]
  },
  {
   "cell_type": "markdown",
   "id": "945073bb",
   "metadata": {},
   "source": [
    "Cosa succede se usiamo .apply() ma non su una colonna specifica ma su tutto il data frame?  "
   ]
  },
  {
   "cell_type": "code",
   "execution_count": 64,
   "id": "d81cc109",
   "metadata": {},
   "outputs": [
    {
     "name": "stdout",
     "output_type": "stream",
     "text": [
      "Colonna_1    1\n",
      "Colonna_2    1\n",
      "Colonna_3    1\n",
      "Name: 0, dtype: int64\n",
      "Colonna_1    2\n",
      "Colonna_2    2\n",
      "Colonna_3    2\n",
      "Name: 1, dtype: int64\n",
      "Colonna_1    3\n",
      "Colonna_2    3\n",
      "Colonna_3    3\n",
      "Name: 2, dtype: int64\n"
     ]
    }
   ],
   "source": [
    "def printiamo_x(x):\n",
    "    print(x)\n",
    "    return x[\"Colonna_1\"]\n",
    "\n",
    "df_piccolo[\"Colonna_3\"] = df_piccolo.apply(printiamo_x, axis=1)"
   ]
  },
  {
   "cell_type": "markdown",
   "id": "99581670",
   "metadata": {},
   "source": [
    "Succede che \"x\" in questo caso è un intera riga non una singola cella della colonna specificata.  \n",
    "Infatti il return abbiamo potuto specificare di quale colonna restituire il valore di x.  \n",
    "N.B: axis=1 gli stiamo dicendo \"dammi una riga\" altrimenti sarebbe stata \"dammi una colonna\"."
   ]
  },
  {
   "cell_type": "markdown",
   "id": "7b055bd2",
   "metadata": {},
   "source": [
    "Ritornando al nostro esempio:"
   ]
  },
  {
   "cell_type": "code",
   "execution_count": null,
   "id": "e0f8e385",
   "metadata": {},
   "outputs": [
    {
     "data": {
      "text/html": [
       "<div>\n",
       "<style scoped>\n",
       "    .dataframe tbody tr th:only-of-type {\n",
       "        vertical-align: middle;\n",
       "    }\n",
       "\n",
       "    .dataframe tbody tr th {\n",
       "        vertical-align: top;\n",
       "    }\n",
       "\n",
       "    .dataframe thead th {\n",
       "        text-align: right;\n",
       "    }\n",
       "</style>\n",
       "<table border=\"1\" class=\"dataframe\">\n",
       "  <thead>\n",
       "    <tr style=\"text-align: right;\">\n",
       "      <th></th>\n",
       "      <th>Year</th>\n",
       "      <th>IdCountry</th>\n",
       "      <th>IdCity</th>\n",
       "      <th>City</th>\n",
       "      <th>%</th>\n",
       "      <th>IdCity_diviso_10</th>\n",
       "    </tr>\n",
       "  </thead>\n",
       "  <tbody>\n",
       "    <tr>\n",
       "      <th>0</th>\n",
       "      <td>2013</td>\n",
       "      <td>IT</td>\n",
       "      <td>1002</td>\n",
       "      <td>Airasca</td>\n",
       "      <td>0,000%</td>\n",
       "      <td>10.02</td>\n",
       "    </tr>\n",
       "    <tr>\n",
       "      <th>1</th>\n",
       "      <td>2013</td>\n",
       "      <td>IT</td>\n",
       "      <td>1006</td>\n",
       "      <td>Almese</td>\n",
       "      <td>0,000%</td>\n",
       "      <td>10.06</td>\n",
       "    </tr>\n",
       "    <tr>\n",
       "      <th>2</th>\n",
       "      <td>2013</td>\n",
       "      <td>IT</td>\n",
       "      <td>1007</td>\n",
       "      <td>Alpette</td>\n",
       "      <td>0,000%</td>\n",
       "      <td>10.07</td>\n",
       "    </tr>\n",
       "    <tr>\n",
       "      <th>3</th>\n",
       "      <td>2013</td>\n",
       "      <td>IT</td>\n",
       "      <td>1008</td>\n",
       "      <td>Alpignano</td>\n",
       "      <td>0,000%</td>\n",
       "      <td>10.08</td>\n",
       "    </tr>\n",
       "    <tr>\n",
       "      <th>4</th>\n",
       "      <td>2013</td>\n",
       "      <td>IT</td>\n",
       "      <td>1013</td>\n",
       "      <td>Avigliana</td>\n",
       "      <td>0,000%</td>\n",
       "      <td>10.13</td>\n",
       "    </tr>\n",
       "  </tbody>\n",
       "</table>\n",
       "</div>"
      ],
      "text/plain": [
       "   Year IdCountry  IdCity       City       %  IdCity_diviso_10\n",
       "0  2013        IT    1002    Airasca  0,000%             10.02\n",
       "1  2013        IT    1006     Almese  0,000%             10.06\n",
       "2  2013        IT    1007    Alpette  0,000%             10.07\n",
       "3  2013        IT    1008  Alpignano  0,000%             10.08\n",
       "4  2013        IT    1013  Avigliana  0,000%             10.13"
      ]
     },
     "metadata": {},
     "output_type": "display_data"
    }
   ],
   "source": [
    "def calcolo_IdCity_diviso_10(id_city):    # <--- Riceve la \"cella\" della colonna id_city.\n",
    "    return id_city / 100   # <--- La funzione deve restituire il risultato della cella da posizionare in quella riga\n",
    "\n",
    "df[\"IdCity_diviso_10\"] = df[\"IdCity\"].apply(calcolo_IdCity_diviso_10) # <--- apply chiama n volte la funzione passando una cella per ogni riga\n",
    "# Alla fine avrà creato questa nuova colonna contenente tutti i risultati delle \"return\" della funzione\n",
    "# e la inseriamo dentro una nuova colonna.\n",
    "\n",
    "# Guardiamo il risultato\n",
    "df.head()"
   ]
  },
  {
   "cell_type": "markdown",
   "id": "7e988d19",
   "metadata": {},
   "source": [
    "A cosa serve usare apply su un intera riga?  \n",
    "Ad sempio se ci serve creare la nuova colonna calcolando i valori contenuti su più colonne di quella riga...  \n",
    "Ad esempio immaginiamo di voler unire IdCountry e City in un unica stringa:"
   ]
  },
  {
   "cell_type": "code",
   "execution_count": null,
   "id": "9018c486",
   "metadata": {},
   "outputs": [
    {
     "data": {
      "text/html": [
       "<div>\n",
       "<style scoped>\n",
       "    .dataframe tbody tr th:only-of-type {\n",
       "        vertical-align: middle;\n",
       "    }\n",
       "\n",
       "    .dataframe tbody tr th {\n",
       "        vertical-align: top;\n",
       "    }\n",
       "\n",
       "    .dataframe thead th {\n",
       "        text-align: right;\n",
       "    }\n",
       "</style>\n",
       "<table border=\"1\" class=\"dataframe\">\n",
       "  <thead>\n",
       "    <tr style=\"text-align: right;\">\n",
       "      <th></th>\n",
       "      <th>Year</th>\n",
       "      <th>IdCountry</th>\n",
       "      <th>IdCity</th>\n",
       "      <th>City</th>\n",
       "      <th>%</th>\n",
       "      <th>IdCity_diviso_10</th>\n",
       "      <th>City_country</th>\n",
       "    </tr>\n",
       "  </thead>\n",
       "  <tbody>\n",
       "    <tr>\n",
       "      <th>0</th>\n",
       "      <td>2013</td>\n",
       "      <td>IT</td>\n",
       "      <td>1002</td>\n",
       "      <td>Airasca</td>\n",
       "      <td>0,000%</td>\n",
       "      <td>10.02</td>\n",
       "      <td>IT - Airasca</td>\n",
       "    </tr>\n",
       "    <tr>\n",
       "      <th>1</th>\n",
       "      <td>2013</td>\n",
       "      <td>IT</td>\n",
       "      <td>1006</td>\n",
       "      <td>Almese</td>\n",
       "      <td>0,000%</td>\n",
       "      <td>10.06</td>\n",
       "      <td>IT - Almese</td>\n",
       "    </tr>\n",
       "    <tr>\n",
       "      <th>2</th>\n",
       "      <td>2013</td>\n",
       "      <td>IT</td>\n",
       "      <td>1007</td>\n",
       "      <td>Alpette</td>\n",
       "      <td>0,000%</td>\n",
       "      <td>10.07</td>\n",
       "      <td>IT - Alpette</td>\n",
       "    </tr>\n",
       "    <tr>\n",
       "      <th>3</th>\n",
       "      <td>2013</td>\n",
       "      <td>IT</td>\n",
       "      <td>1008</td>\n",
       "      <td>Alpignano</td>\n",
       "      <td>0,000%</td>\n",
       "      <td>10.08</td>\n",
       "      <td>IT - Alpignano</td>\n",
       "    </tr>\n",
       "    <tr>\n",
       "      <th>4</th>\n",
       "      <td>2013</td>\n",
       "      <td>IT</td>\n",
       "      <td>1013</td>\n",
       "      <td>Avigliana</td>\n",
       "      <td>0,000%</td>\n",
       "      <td>10.13</td>\n",
       "      <td>IT - Avigliana</td>\n",
       "    </tr>\n",
       "  </tbody>\n",
       "</table>\n",
       "</div>"
      ],
      "text/plain": [
       "   Year IdCountry  IdCity       City       %  IdCity_diviso_10    City_country\n",
       "0  2013        IT    1002    Airasca  0,000%             10.02    IT - Airasca\n",
       "1  2013        IT    1006     Almese  0,000%             10.06     IT - Almese\n",
       "2  2013        IT    1007    Alpette  0,000%             10.07    IT - Alpette\n",
       "3  2013        IT    1008  Alpignano  0,000%             10.08  IT - Alpignano\n",
       "4  2013        IT    1013  Avigliana  0,000%             10.13  IT - Avigliana"
      ]
     },
     "execution_count": 66,
     "metadata": {},
     "output_type": "execute_result"
    }
   ],
   "source": [
    "def uniamo_City_e_country(row):\n",
    "    return row[\"IdCountry\"] + \" - \" + row[\"City\"] # <-- Con \"row\" abbiamo accesso a tutte le colonne della riga\n",
    "\n",
    "df[\"City_country\"] = df.apply(uniamo_City_e_country, axis=1)\n",
    "df.head()"
   ]
  },
  {
   "cell_type": "markdown",
   "id": "26008b3e",
   "metadata": {},
   "source": [
    "#### ITERROWS e ITEMS"
   ]
  },
  {
   "cell_type": "markdown",
   "id": "eb519c01",
   "metadata": {},
   "source": [
    "Un metodo meno consigliato perché MOLTO più lento è .iterrows() che ci permette di scorrere all'interno di un for python le righe del dataframe.  \n",
    "Quest'operazione sarebbe da utilizzare solo se non esiste modo di effettuare la stessa operazione con .apply() e di solito infatti non si usa, ma per completezza vi mostro che esiste e come si usa:"
   ]
  },
  {
   "cell_type": "code",
   "execution_count": null,
   "id": "fb2facc9",
   "metadata": {},
   "outputs": [
    {
     "name": "stdout",
     "output_type": "stream",
     "text": [
      "--------------\n",
      "idx: 0\n",
      "row: Year                        2013\n",
      "IdCountry                     IT\n",
      "IdCity                      1002\n",
      "City                     Airasca\n",
      "%                         0,000%\n",
      "IdCity_diviso_10           10.02\n",
      "City_country        IT - Airasca\n",
      "Name: 0, dtype: object\n",
      "--------------\n",
      "idx: 1\n",
      "row: Year                       2013\n",
      "IdCountry                    IT\n",
      "IdCity                     1006\n",
      "City                     Almese\n",
      "%                        0,000%\n",
      "IdCity_diviso_10          10.06\n",
      "City_country        IT - Almese\n",
      "Name: 1, dtype: object\n"
     ]
    }
   ],
   "source": [
    "for idx, row in df.iterrows():\n",
    "    # PER NON SCORRERE TUTTO IL DF CHE E' GRANDE CI FERMIAMO AL SECONDO CICLO\n",
    "    if idx == 2:\n",
    "        break\n",
    "\n",
    "    # Facciamo i print per capire cosa contengono\n",
    "    print(\"--------------\")\n",
    "    print(f\"idx: {idx}\")\n",
    "    print(f\"row: {row}\")"
   ]
  },
  {
   "cell_type": "markdown",
   "id": "f2a4a544",
   "metadata": {},
   "source": [
    "Esiste anche la possibilità di usare il DataFrame come se fosse un normale dizionario di python, ma anche in questo caso è fortemente sconsigliato a meno di casi particolari perché troppo lento da eseguire rispetto apply."
   ]
  },
  {
   "cell_type": "code",
   "execution_count": null,
   "id": "552bc1c1",
   "metadata": {},
   "outputs": [],
   "source": [
    "for k, v in df.items():\n",
    "    # Facciamo i print per capire cosa contengono\n",
    "    print(\"--------------\")\n",
    "    print(f\"k: {k}\")    # <--- La chiave è il nome della colonna che sta scorrendo\n",
    "    print(f\"v:\\n{v}\")    # <--- Il valore è la lista (in realtà \"Series\") dei valori di quella colonna\n",
    "    break"
   ]
  },
  {
   "cell_type": "markdown",
   "id": "ba805867",
   "metadata": {},
   "source": [
    "# Scraping"
   ]
  },
  {
   "cell_type": "markdown",
   "id": "88873b07",
   "metadata": {},
   "source": [
    "Lo faremo con 3 Metodi:\n",
    "- Scraping tramite requests della main page + parsing html (tramite BeautifulSoup).\n",
    "- Scraping tramite selenium.\n",
    "- Chiamate API (post)"
   ]
  },
  {
   "cell_type": "markdown",
   "id": "b9f69ee0",
   "metadata": {},
   "source": [
    "## Requests + BeautifulSoup"
   ]
  },
  {
   "cell_type": "markdown",
   "id": "91fab45a",
   "metadata": {},
   "source": [
    "Proviamo a fare scraping di qualche video su Immobiliare.it"
   ]
  },
  {
   "cell_type": "code",
   "execution_count": 1,
   "id": "82692bd0",
   "metadata": {},
   "outputs": [],
   "source": [
    "import requests\n",
    "\n",
    "from bs4 import BeautifulSoup   # Da installare con pip"
   ]
  },
  {
   "cell_type": "markdown",
   "id": "b31b7104",
   "metadata": {},
   "source": [
    "Per prima cosa bisogna analizzare il sito manualmente con \"Chrome DevTools\". Obiettivo:\n",
    "- Cercare le macro-schede che possano ricondurre a tutti i dati all'interno di _____ (se possibile)\n",
    "- Identificare le query css selector sia per l'intera scheda sia per i dati al suo interno.\n",
    "Man mano che abbiamo pianificato quali query useremo, iniziamo a scrivercele in delle variabili qui sotto e poi testiamo!"
   ]
  },
  {
   "cell_type": "code",
   "execution_count": 2,
   "id": "8edf685d",
   "metadata": {},
   "outputs": [],
   "source": [
    "query_css = 'pre[class=\"lang-py s-code-block\"]'"
   ]
  },
  {
   "cell_type": "markdown",
   "id": "1024b48b",
   "metadata": {},
   "source": [
    "1. Usiamo requests.get(url) per richiedere al server di fornirci l'html della pagina web.\n",
    "2. Ora abbiamo la sua risposta ma l'html fornito è una semplice enorme stringa, difficile da utilizzare per ricercare con le nostre query selector. Per questo motivo usiamo BeautifulSoup che è un \"parser\" in grado di riconoscere del codice html da una stringa e lo struttura per noi."
   ]
  },
  {
   "cell_type": "code",
   "execution_count": null,
   "id": "a052908f",
   "metadata": {},
   "outputs": [],
   "source": [
    "url = \"https://stackoverflow.com/questions/2612548/extracting-an-attribute-value-with-beautifulsoup\"\n",
    "\n",
    "headers= {\n",
    "    \"user-agent\": \"Mozilla/5.0 (Windows NT 10.0; Win64; x64) AppleWebKit/537.36 (KHTML, like Gecko) Chrome/138.0.0.0 Safari/537.36\"\n",
    "}\n",
    "risposta = requests.get(url, headers=headers)\n",
    "main_page = BeautifulSoup(risposta.text, features=\"html.parser\")\n",
    "print(main_page.prettify())"
   ]
  },
  {
   "cell_type": "markdown",
   "id": "2f97bfee",
   "metadata": {},
   "source": [
    "Ora che abbiamo la pagina web \"parsificata\" possiamo utilizzare dei metodi che BeautifulSoup ci mette a disposizione per ricercare all'interno dell'html.  \n",
    "Uno dei più importanti per il nostro scopo è: .select() e .select_one().  \n",
    "Select ci permette di inserire una query css selector da ricercare. Select_one cerca solo la prima occorrenza e ci restituisce solo quella, mentre select ce le mette tutte quelle che trova in una lista.  \n",
    "N.B: Questa cosa è importante perché:\n",
    "- **select_one** -> Restituisce un oggetto: \"Tag\"\n",
    "- **select** -> Restituisce un oggetto: \"ResultSet[Tag]\", che è una specie di lista di Tag"
   ]
  },
  {
   "cell_type": "code",
   "execution_count": null,
   "id": "eb1235ad",
   "metadata": {},
   "outputs": [],
   "source": [
    "result = main_page.select('pre[class=\"lang-py s-code-block\"]')"
   ]
  },
  {
   "cell_type": "markdown",
   "id": "5e92e193",
   "metadata": {},
   "source": [
    "## Selenium"
   ]
  },
  {
   "cell_type": "code",
   "execution_count": 80,
   "id": "6eccb007",
   "metadata": {},
   "outputs": [],
   "source": [
    "import os   # Usato solo per ricavare il percorso assoluto della cartella attuale del progetto\n",
    "import time\n",
    "\n",
    "from selenium import webdriver\n",
    "from selenium.webdriver.common.by import By\n",
    "from selenium.webdriver.support.ui import WebDriverWait\n",
    "from selenium.webdriver.support import expected_conditions as EC\n",
    "from selenium.webdriver.chrome.options import Options"
   ]
  },
  {
   "cell_type": "markdown",
   "id": "8cbe3c74",
   "metadata": {},
   "source": [
    "Iniziamo ad impostare alcune opzioni per il webdriver di chrome:  \n",
    "- **headless** -> Modalità in cui non viene visualizzata la finestra del browser. Consiglio: durante la fase di test e di costruzione dello scraper, meglio non attivare questa modalità in modo da monitorare con esattezza quello che sta accadendo. Una volta ben testato si può aggiungere e far andare lo script in \"background\".  \n",
    "- **disable-gpu** -> Tipicamente usa su windows + modalità \"headless. Evita eventuali problemi dati dal tentativo di chrome di caricare la grafica anche se non dovrebbe farlo dato che abbiamo specificato \"headless\".  \n",
    "- **window-size=1920,1080** -> Si imposta una dimensione della finestra. Impostiamo anche se siamo in modalità \"headless\" perché: anche se noi non la vediamo, è come se la finestra venga comunque creata e dare una dimensione fissa in cui sappiamo in anticipo quali oggetti vengono visualizzati con quella precisa dimensione ci permette di replicare con esattezza alcune situazioni e azioni (esempio, sappiamo che per trovare un pulsante non dobbiamo fare altro che attendere che la pagina venga caricata ma se la finestra viene creata più piccola, il pulsante non è visibile e necessiterebbe di uno \"scroll\" verso il basso!)"
   ]
  },
  {
   "cell_type": "code",
   "execution_count": 81,
   "id": "8bc97917",
   "metadata": {},
   "outputs": [],
   "source": [
    "options = Options()\n",
    "options.add_argument(\"--headless\")              \n",
    "options.add_argument(\"--disable-gpu\")           \n",
    "options.add_argument(\"--window-size=1920,1080\") "
   ]
  },
  {
   "cell_type": "markdown",
   "id": "b3144ee3",
   "metadata": {},
   "source": [
    "Qui abbiamo delle opzioni \"extra\". Non vi capiterà spesso di usarle ma in questo caso è utile:\n",
    "- **add_experimental_option** -> Sono delle opzioni particolari, in questo caso aggiungiamo:\n",
    "    - **download.default_directory** -> Ci permette di scegliere una cartella specifica sul pc dove i file scaricati dal nostro webdriver (il nostro falso browser) debbano essere scaricati in automatico (anziché la classica cartella \"download\")"
   ]
  },
  {
   "cell_type": "code",
   "execution_count": 82,
   "id": "6b894e85",
   "metadata": {},
   "outputs": [],
   "source": [
    "prefs = {\"download.default_directory\": os.path.abspath(\".\")}\n",
    "options.add_experimental_option(\"prefs\", prefs)"
   ]
  },
  {
   "cell_type": "markdown",
   "id": "a6269354",
   "metadata": {},
   "source": [
    "Creiamo il nostro driver con le nostre opzioni.  \n",
    "Si può creare il webdriver senza specificare nessuna opzione se non ci servono."
   ]
  },
  {
   "cell_type": "code",
   "execution_count": 83,
   "id": "2b68a35b",
   "metadata": {},
   "outputs": [],
   "source": [
    "driver = webdriver.Chrome(options=options)"
   ]
  },
  {
   "cell_type": "markdown",
   "id": "c04ca6ac",
   "metadata": {},
   "source": [
    "Ora, in modo simile a requests, effettuiamo il .get() della pagina web.  \n",
    "Quello che succede è che il driver effettua la \"richiesta\" dell'html della pagina che gli viene restituita e lui, proprio come fa normalmente un browser, la visualizza e ovviamente la tiene in memoria dentro di sé."
   ]
  },
  {
   "cell_type": "code",
   "execution_count": null,
   "id": "902ac1bb",
   "metadata": {},
   "outputs": [],
   "source": [
    "driver.get(\"https://chatgpt.it/\")"
   ]
  },
  {
   "cell_type": "markdown",
   "id": "295df074",
   "metadata": {},
   "source": [
    "Ora procediamo a trovare i vari elementi che ci servono e interagiamoci proprio come faremmo normalemente con un browser.  \n"
   ]
  },
  {
   "cell_type": "markdown",
   "id": "7a75cb67",
   "metadata": {},
   "source": [
    "Usiamo il primo come esempio per spiegare come si procede:\n",
    "- **try / except** -> Sono dei comandi python che servono a impedire il crash di python se questo avviene all'interno del try.\n",
    "In pratica si sta \"avvertendo\" python che: PROVA ad eseguire questo codice... so già che potrebbe \"alzare un eccezione\" (raise exeption) che solitamente blocca l'esecuzione del programma. Ma visto che ti ho avvertito che questo può succedere, anziché bloccare il programma, esegui il codice in except e continua normalmente. Questo viene fatto perché il metodo di webdriver che utilizzeremo, se non trova l'elemento richiesto è programmato per dare un eccezione ma visto che non sappiamo se un elemento verrà visualizzato con certezza o meno (esempio accettare i coockies di un sito che a volte viene visualizzato e a volte no), gli impediamo di crashare.\n",
    "- **WebDriverWait** -> Dobbiamo dargli il nostro driver come parametro e un intero che corrisponde ai secondi che deve aspettare al massimo prima di arrendersi. Usiamo questa classe per dare tempo fisico al browser di visualizzare l'elemento che vogliamo cercare. Si potrebbe risolvere anche usando la libreria di python **import time** e usando il comando \"time.sleep(n_secondi)\" ma in quel caso aspetterebbe un numero di secondi preciso sempre mentre tramite questa sua classe, selenium aspetta massimo il numero di secondi indicato ma se lo trova prima va avanti, quindi è più efficiente.\n",
    "    - **.until** -> Questo metodo di WebDriverWait ci permette di aspettare \"finché\" non avviene un qualcosa che specificheremo tramite parametro (esiste anche il .untilnot()).  \n",
    "- **EC** -> Quest'altra classe ci serve invece per dare una \"expected_conditions\" quindi possiamo specificare una serie di condizioni da aspettare che si verifichino. Tipicamente usiamo:\n",
    "    - **.visibility_of_element_located()** -> Che è proprio la funzione che specifica che la condizione da aspettare è che l'elemento, che richiederemo nei suoi parametri, sia visibile nel browser.\n",
    "- **By** -> E' invece la classe che ci permette di specificare il tipo di \"query\" da utilizzare per cercare l'elemento. In questo caso specifichiamo:\n",
    "    - **.CSS_SELECTOR** -> E quindi la query selector che abbiamo già trovato tramite \"F12\" su google chrome.  \n",
    "\n",
    "Una volta trovato l'elemento, in base al tipo di elemento trovato si possono eseguire delle azioni.  \n",
    "In questo caso, abbiamo trovato un \"button\" e quindi possiamo eseguire il comando **.click()** che simula il click del mouse sul tasto."
   ]
  },
  {
   "cell_type": "code",
   "execution_count": null,
   "id": "b1107e91",
   "metadata": {},
   "outputs": [],
   "source": [
    "try:\n",
    "    button_coockies = WebDriverWait(driver, 10).until(EC.element_to_be_clickable(\n",
    "        (By.CSS_SELECTOR, '.fc-button.fc-cta-consent'))).click()\n",
    "except:\n",
    "    print(\"Non ho trovato schermata coockies\")"
   ]
  },
  {
   "cell_type": "markdown",
   "id": "fee11e5e",
   "metadata": {},
   "source": [
    "Capito il primo ora è facile intuire anche tutti gli altri.  \n",
    "In sostanza quello che abbiamo scritto di fare è:\n",
    "- Trova e inserisci testo nel box in cui si può digitare il messaggio (.send_keys(message)).  \n",
    "- Trova e clicca il tasto per dare l'ok (.click()).  \n",
    "- Trova e clicca il tasto per scaricare la conversazione sotto forma di .txt (.click())\n",
    "Il tutto dentro il nostro try per evitare il crash del programma.  \n",
    "Sarebbe più corretto inserire ogni comando all'interno di un proprio try in modo da avere un print specifico per ogni problema che può venir fuori dallo scraper. In altri casi si potrebbe decidere di non usare il try perché quella operazione è imperativa per far proseguire il programma quindi decidiamo di farlo crashare se non riesce ad eseguirla."
   ]
  },
  {
   "cell_type": "code",
   "execution_count": 66,
   "id": "37af222b",
   "metadata": {},
   "outputs": [],
   "source": [
    "try:\n",
    "    text_box = WebDriverWait(driver, 10).until(EC.visibility_of_element_located(\n",
    "        (By.CSS_SELECTOR, '.auto-expand.wpaicg-chat-shortcode-typing'))).send_keys(\"Che tempo farà domani?\")\n",
    "\n",
    "    button = WebDriverWait(driver, 10).until(EC.visibility_of_element_located(\n",
    "        (By.CSS_SELECTOR, 'span[class=\"wpaicg-chat-shortcode-send\"]'))).click()\n",
    "    time.sleep(1)\n",
    "    download_button = WebDriverWait(driver, 10).until(EC.visibility_of_element_located(\n",
    "        (By.CSS_SELECTOR, 'span[class=\"wpaicg-chatbox-download-btn\"]'))).click()\n",
    "except:\n",
    "    print(\"Qualcosa è andato storto!\")\n"
   ]
  },
  {
   "cell_type": "code",
   "execution_count": 79,
   "id": "3b96a98f",
   "metadata": {},
   "outputs": [],
   "source": [
    "driver.quit()"
   ]
  },
  {
   "cell_type": "markdown",
   "id": "7e84060c",
   "metadata": {},
   "source": [
    "In realtà si possono effettuare queste operazioni anche senza dover usare \"WebDriverWait\" in modo più semplice:\n",
    "- .find_element -> Cerca un elemento tramite:\n",
    "    - By.CSS_SELECTOR\n",
    "    - O altri metodi di query (Esempio XPATH)\n",
    "In questo caso funziona comunque ma ricordarsi che se la pagina è lenta a essere caricata e gli elementi non sono immediatamente visibili, find_element potrebbe non trovare l'elemento e crashare."
   ]
  },
  {
   "cell_type": "code",
   "execution_count": null,
   "id": "ecd90758",
   "metadata": {},
   "outputs": [],
   "source": [
    "try:\n",
    "    text_box = driver.find_element(By.CSS_SELECTOR, '.auto-expand.wpaicg-chat-shortcode-typing').send_keys(\"Che tempo farà domani?\")\n",
    "    button = driver.find_element(By.CSS_SELECTOR, 'span[class=\"wpaicg-chat-shortcode-send\"]').click()\n",
    "    download_button = driver.find_element(By.CSS_SELECTOR, 'span[class=\"wpaicg-chatbox-download-btn\"]').click()\n",
    "except:\n",
    "    print(\"Qualcosa è andato storto!\")"
   ]
  },
  {
   "cell_type": "markdown",
   "id": "419186d2",
   "metadata": {},
   "source": [
    "E' possibile cercare più elementi contemporaneamente tramite:\n",
    "- .find_elements -> In questo caso fare attenzione al fatto che la funzione restituisce una lista di elementi (anche se ne trova solo 1!)\n",
    "oppure nel caso di EC.visibility_of_all_elements_located (elements!)"
   ]
  },
  {
   "cell_type": "markdown",
   "id": "48b2d2fa",
   "metadata": {},
   "source": [
    "A partire da un elemento che viene trovato è possibile continuare ad utilizzarlo per cercarne degli altri al suo interno:"
   ]
  },
  {
   "cell_type": "code",
   "execution_count": null,
   "id": "2ffab3db",
   "metadata": {},
   "outputs": [],
   "source": [
    "# Solo a scopo illustrativo, non abbiamo fatto il .get() della pagina tweetter\n",
    "try:\n",
    "    tweets = WebDriverWait(driver, 10).until(\n",
    "                    EC.visibility_of_all_elements_located((By.CSS_SELECTOR, 'article')))    # elements!\n",
    "except:\n",
    "    print(\"No tweets trovati!\")\n",
    "\n",
    "for tweet in tweets:\n",
    "    try:\n",
    "        time_stamp = tweet.find_element(By.CSS_SELECTOR, 'time').get_attribute('datetime')\n",
    "        url_tweet = tweet.find_element(By.CSS_SELECTOR,\n",
    "                'a[style=\"color: rgb(113, 118, 123);\"]').get_attribute(\"href\")\n",
    "    except:\n",
    "        print(\"Info tweet non trovati\")\n"
   ]
  },
  {
   "cell_type": "markdown",
   "id": "3df9caf2",
   "metadata": {},
   "source": [
    "## API Rest"
   ]
  },
  {
   "cell_type": "code",
   "execution_count": 85,
   "id": "14a4f809",
   "metadata": {},
   "outputs": [],
   "source": [
    "message = \"Ciao ti scrivo da python! Ti saluta requests e BeautifulSoup!\""
   ]
  },
  {
   "cell_type": "code",
   "execution_count": 88,
   "id": "c56f5028",
   "metadata": {},
   "outputs": [
    {
     "data": {
      "text/plain": [
       "\"Ciao Python! Che bello sentirti! Requests e BeautifulSoup sono due strumenti fantastici per il web scraping e l'estrazione di dati. Se hai bisogno di aiuto con qualche codice o vuoi sapere come usarli al meglio, sono qui per te! 😊\""
      ]
     },
     "execution_count": 88,
     "metadata": {},
     "output_type": "execute_result"
    }
   ],
   "source": [
    "import requests\n",
    "\n",
    "\n",
    "url = \"https://chatgpt.it/wp-admin/admin-ajax.php\"\n",
    "\n",
    "payload = {\n",
    "    \"_wpnonce\": \"5b7aac3794\",\n",
    "    \"post_id\": \"106\",\n",
    "    \"url\": \"https://chatgpt.it\",\n",
    "    \"action\": \"wpaicg_chat_shortcode_message\",\n",
    "    \"message\": message,\n",
    "    \"bot_id\": \"0\",\n",
    "    \"chatbot_identity\": \"shortcode\",\n",
    "    \"wpaicg_chat_history\": '[]',\n",
    "    \"wpaicg_chat_client_id\":\"8FQLM3hp6Q\"\n",
    "}\n",
    "\n",
    "headers = {\n",
    "    \"Origin\": \"https://chatgpt.it\",\n",
    "    \"Referer\": \"https://chatgpt.it/\",\n",
    "    \"User-Agent\": \"Mozilla/5.0\",\n",
    "}\n",
    "response = requests.post(url, data=payload, headers=headers)\n",
    "\n",
    "re_json = response.json()\n",
    "re_json[\"data\"]\n"
   ]
  }
 ],
 "metadata": {
  "kernelspec": {
   "display_name": ".venv",
   "language": "python",
   "name": "python3"
  },
  "language_info": {
   "codemirror_mode": {
    "name": "ipython",
    "version": 3
   },
   "file_extension": ".py",
   "mimetype": "text/x-python",
   "name": "python",
   "nbconvert_exporter": "python",
   "pygments_lexer": "ipython3",
   "version": "3.13.2"
  }
 },
 "nbformat": 4,
 "nbformat_minor": 5
}
